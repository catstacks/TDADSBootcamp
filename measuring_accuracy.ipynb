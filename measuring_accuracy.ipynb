{
 "cells": [
  {
   "cell_type": "code",
   "execution_count": 1,
   "metadata": {},
   "outputs": [],
   "source": [
    "## IMPORT PACKAGES\n",
    "\n",
    "import numpy as np\n",
    "import pandas as pd\n",
    "import matplotlib.pyplot as plt\n",
    "import seaborn as sns\n",
    "# create dummy data and classifier\n",
    "from sklearn.datasets import make_classification\n",
    "from sklearn.tree import DecisionTreeClassifier\n",
    "from sklearn.model_selection import train_test_split\n",
    "# key metrics \n",
    "from sklearn.metrics import confusion_matrix\n",
    "from sklearn.metrics import accuracy_score\n",
    "# roc and auc\n",
    "from sklearn.metrics import roc_curve\n",
    "from sklearn.metrics import roc_auc_score\n",
    "# f score \n",
    "from sklearn.metrics import f1_score\n",
    "import seaborn as sns\n",
    "\n",
    "\n"
   ]
  },
  {
   "cell_type": "code",
   "execution_count": 2,
   "metadata": {},
   "outputs": [],
   "source": [
    "\n",
    "## CREATE DUMMY DATA \n",
    "\n",
    "data_X, class_label = make_classification(n_samples = 1000, n_features = 5, n_classes = 2) # generates a random n-class classification problem\n",
    "trainX, testX, trainy, testy = train_test_split(data_X, class_label, test_size=0.3) # creates training and test sets\n",
    "\n",
    "\n",
    "## CREATE DESCISION TREE\n",
    "\n",
    "model = DecisionTreeClassifier() \n",
    "model.fit(trainX, trainy)\n",
    "\n",
    "\n",
    "## CREATE NEW PREDICTIONS\n",
    "\n",
    "predictions = model.predict_proba(testX)[:, 1] \n"
   ]
  },
  {
   "cell_type": "code",
   "execution_count": 3,
   "metadata": {},
   "outputs": [
    {
     "data": {
      "text/plain": [
       "<AxesSubplot:>"
      ]
     },
     "execution_count": 3,
     "metadata": {},
     "output_type": "execute_result"
    },
    {
     "data": {
      "image/png": "[encoded data removed]",
      "text/plain": [
       "<Figure size 432x288 with 2 Axes>"
      ]
     },
     "metadata": {
      "needs_background": "light"
     },
     "output_type": "display_data"
    }
   ],
   "source": [
    "\n",
    "################# TASK 1 #################\n",
    "\n",
    "## CALCULATE ACCURACY\n",
    "accuracy_score(testy, predictions)\n",
    "\n",
    "## CREATE CONFUSION MATRIX\n",
    "\n",
    "cm = confusion_matrix(testy, predictions)\n",
    "\n",
    "sns.heatmap(cm, annot=True)\n",
    "\n"
   ]
  },
  {
   "cell_type": "code",
   "execution_count": null,
   "metadata": {},
   "outputs": [],
   "source": [
    "\n",
    "################# TASK 2 #################\n",
    "\n",
    "## CALCUATE PRECISION, RECALL AND SPECIFICITY\n",
    "\n"
   ]
  },
  {
   "cell_type": "code",
   "execution_count": null,
   "metadata": {},
   "outputs": [],
   "source": [
    "\n",
    "################# TASK 3 #################\n",
    "\n",
    "## CALCULATE AUC\n",
    "\n",
    "## PLOT ROC CURVE\n"
   ]
  },
  {
   "cell_type": "code",
   "execution_count": null,
   "metadata": {},
   "outputs": [],
   "source": [
    "################# TASK 4 #################\n",
    "\n",
    "## CALCULATE F SCORE \n",
    "\n"
   ]
  },
  {
   "cell_type": "code",
   "execution_count": null,
   "metadata": {},
   "outputs": [],
   "source": [
    "################# TASK 5 #################\n",
    "\n",
    "data_X_mod2, class_label_mod2 = make_classification(n_samples = 1000, n_features = 5, n_classes = 2, flip_y = 0.5) \n",
    "trainX_mod2, testX_mod2, trainy_mod2, testy_mod2 = train_test_split(data_X_mod2, class_label_mod2, test_size=0.3)\n",
    "\n",
    "model_mod2 = DecisionTreeClassifier() \n",
    "model_mod2.fit(trainX_mod2, trainy_mod2)\n",
    "\n",
    "predictions_mod2 = model_mod2.predict_proba(testX_mod2)[:, 1] \n"
   ]
  }
 ],
 "metadata": {
  "interpreter": {
   "hash": "015ac78f28c84d0a58dbbf0e84f6eb5cf4a08a9d76f9a35509a9f6693985b44a"
  },
  "kernelspec": {
   "display_name": "Python 3.9.2 64-bit (conda)",
   "language": "python",
   "name": "python3"
  },
  "language_info": {
   "codemirror_mode": {
    "name": "ipython",
    "version": 3
   },
   "file_extension": ".py",
   "mimetype": "text/x-python",
   "name": "python",
   "nbconvert_exporter": "python",
   "pygments_lexer": "ipython3",
   "version": "3.9.7"
  },
  "orig_nbformat": 4
 },
 "nbformat": 4,
 "nbformat_minor": 2
}
