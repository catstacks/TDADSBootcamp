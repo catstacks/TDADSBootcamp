{
 "cells": [
  {
   "cell_type": "code",
   "execution_count": 1,
   "metadata": {},
   "outputs": [],
   "source": [
    "import numpy as np\n",
    "import matplotlib.pyplot as plt\n",
    "%matplotlib inline\n",
    "import pandas as pd\n",
    "import seaborn as sns\n",
    "from pandas_profiling import ProfileReport\n",
    "from pycountry_convert import country_alpha2_to_continent_code, country_name_to_country_alpha2\n",
    "import geopandas as gpd\n",
    "from geopandas import GeoDataFrame as gdf\n",
    "import plotly.express as px\n",
    "import geoplot\n",
    "import mapclassify\n",
    "from sklearn import preprocessing\n",
    "from numpy import array\n",
    "from sklearn.preprocessing import OneHotEncoder\n",
    "import category_encoders as ce"
   ]
  },
  {
   "cell_type": "markdown",
   "metadata": {},
   "source": [
    "52 entries"
   ]
  },
  {
   "cell_type": "code",
   "execution_count": 2,
   "metadata": {},
   "outputs": [],
   "source": [
    "crash_data = {'driver': ['Cameron Earl', 'Chet Miller', 'Charles de Tornaco', 'Onofre Marimón', 'Mario Alborghetti', 'Manny Ayulo', 'Bill Vukovich', 'Eugenio Castellotti',' Keith Andrews', \"Pat O'Connor\", 'Luigi Musso', 'Peter Collins', 'Stuart Lewis-Evans', \"Jerry Unser Jr.\", 'Bob Cortner', 'Harry Schell', 'Chris Bristow', 'Alan Stacey', 'Shane Summers', 'Giulio Cabianca',  'Wolfgang von Trips', 'Ricardo Rodríguez', 'Gary Hocking', 'Carel Godin de Beaufort', 'John Taylor', 'Lorenzo Bandini', 'Bob Anderson', 'Jo Schlesser', 'Gerhard Mitter', 'Martin Brain', 'Piers Courage', 'Jochen Rindt', 'Jo Siffert', 'Roger Williamson', 'François Cevert', 'Peter Revson', 'Helmuth Koinigg', 'Mark Donohue', 'Tom Pryce', 'Brian McGuire', 'Ronnie Peterson', 'Patrick Depailler',' Gilles Villeneuve', 'Riccardo Paletti', 'Elio de Angelis', 'Roland Ratzenberger', 'Ayrton Senna', 'John Dawson-Damer', 'Fritz Glatz', 'Denis Welch', 'Jules Bianchi', 'David Ferrer'], \n",
    "'driver_nationality': ['UK', 'USA', 'Belgium', 'Argentina', 'Italy', 'USA', 'USA', 'Italy', 'USA', 'USA', 'Italy', 'UK', 'UK', 'USA', 'USA', 'USA', 'UK', 'UK', 'UK', 'Italy', 'Germany', 'Mexico', 'France', 'Netherlands', 'UK', 'Italy', 'UK', 'France', 'Germany', 'UK', 'UK', 'Austria', 'Switzerland', 'UK', 'France', 'USA', 'Austria', 'USA', 'UK', 'Australia', 'Sweden', 'France', 'Canada', 'Italy', 'Italy', 'Austria', 'Brazil', 'UK', 'Austria', 'UK', 'France', 'France'], \n",
    "'accident_month': [6, 5, 9, 7, 4, 5, 5, 3, 5, 5, 7, 8, 10, 5, 5, 5, 6,6, 6,\t6, 9, 11, 12, 8, 8,\t5, 8, 7, 8,\t5, 6, 9, 10, 7, 10, 3, 10, 8, 3,8, 9, 8, 5, 6, 5, 4, 5, 6, 7, 7, 10, 9],\n",
    "'accident_year': [1952, 1953, 1953, 1954, 1955, 1955, 1955, 1957, 1957, 1958, 1958, 1958, 1958, 1959, 1959, 1960, 1960, 1960, 1961,\t1961, 1961,\t1962, 1962,\t1964, 1966, 1967, 1967,\t1968, 1969,\t1970,1970, 1970, 1971, 1973, 1973, 1974, 1974, 1975, 1977, 1977, 1978, 1980, 1982, 1982, 1986, 1994, 1994, 2000, 2002, 2014, 2014, 2017], \n",
    "'event': ['Test', 'Indianapolis 500', 'Modena Grand Prix', 'German Grand Prix', 'Pau Grand Prix', 'Indianapolis 500','Indianapolis 500','Test','Indianapolis 500','Indianapolis 500','French Grand Prix','German Grand Prix','Moroccan Grand Prix','Indianapolis 500','Indianapolis 500','BRDC International Trophy','Belgian Grand Prix','Belgian Grand Prix','Silver City Trophy ','Test','Italian Grand Prix','Mexican Grand Prix','Natal Grand Prix','German Grand Prix','German Grand Prix','Monaco Grand Prix','Test','French Grand Prix','German Grand Prix','Nottingham Sports Car Club meeting','Dutch Grand Prix','Italian Grand Prix','World Championship Victory Race','Dutch Grand Prix','United States Grand Prix','South African Grand Prix','United States Grand Prix','Austrian Grand Prix','South African Grand Prix','Shellsport International Series Round 11','Italian Grand Prix','Test','Belgian Grand Prix','Canadian Grand Prix','Test','San Marino Grand Prix','San Marino Grand Prix','Goodwood Festival of Speed','Czech Superprix','Jack Brabham Memorial Trophy','Japanese Grand Prix','Historic Grand Prix'], \n",
    "'circuit': ['MIRA', 'Indianapolis Motor Speedway', 'Autodromo di Modena', 'Nürburgring', 'Circuit de Pau-Ville', 'Indianapolis Motor Speedway', 'Indianapolis Motor Speedway', 'Autodromo di Modena', 'Indianapolis Motor Speedway', 'Indianapolis Motor Speedway', 'Circuit de Reims-Gueux', 'Nürburgring', \"Circuit d'Ain-Diab\", 'Indianapolis Motor Speedway', 'Indianapolis Motor Speedway\t', 'Silverstone Circuit', 'Circuit de Spa-Francorchamps', 'Circuit de Spa-Francorchamps', 'Brands Hatch', 'Autodromo di Modena', 'Autodromo Nazionale di Monza', 'Autódromo Magdalena Mixiuhca', 'Westmead Circuit', 'Nürburgring', 'Nürburgring', 'Circuit de Monaco', 'Silverstone Circuit', 'Circuit de Rouen-les-Essarts','Nürburgring','Silverstone Circuit','Circuit Park Zandvoort','Autodromo Nazionale di Monza','Brands Hatch','Circuit Park Zandvoort', 'Watkins Glen International','Kyalami Racing Circuit', 'Watkins Glen International','Österreichring','Kyalami Racing Circuit','Brands Hatch', 'Autodromo Nazionale di Monza','Hockenheimring','Circuit Zolder','Circuit Gilles Villeneuve','Circuit Paul Ricard','Autodromo Enzo e Dino','Autodromo Enzo e Dino','Goodwood Hillclimb','Autodrom Most','Silverstone Circuit','Suzuka International Racing Course','Circuit Park Zandvoort'],\n",
    "'car': ['ERA', 'Kurtis Kraft', 'Ferrari Tipo 500', 'Maserati 250F',\t'Maserati 4CLT', 'Kurtis Kraft', 'Kurtis Kraft', 'Ferrari 801', 'Kurtis Kraft', 'Kurtis Kraft','Ferrari 246 F1', 'Ferrari 246 F1', '\tVanwall', 'Kuzma', 'Cornis', 'Cooper T51', 'Cooper T51', 'Lotus 18', 'Cooper' , 'Cooper T51', 'Ferrari 156 F1', 'Lotus 24', 'Lotus 24', 'Porsche 718', 'Brabham BT11', 'Ferrari 312', 'Brabham BT11','Honda RA302','BMW 269','Cooper T86B','De Tomaso 505/38','Lotus 72','BRM P160','March 731','Tyrrell 006','Shadow DN3','Surtees TS16','March 751','Shadow DN8','McGuire BM1','Lotus 78','Alfa Romeo 179','\tFerrari 126C','Osella FA1C','Brabham BT55','Simtek S941','Williams FW16','Lotus 63','Footwork FA17','Lotus 18','Marussia MR03','March 701'], \n",
    "'session': ['test','practice','practice','practice','race','practice','race','test','practice','race','race','race','race','practice','practice','practice','race','race','practice','test','race','practice','practice','practice','race','race','test','race','practice','race','race','qualifying','race','race','qualifying','test','race','practice','race','practice','race','test','qualifying','race','test','qualifying','race','run','race','race','race','race']}\n",
    "\n",
    "crash_df = pd.DataFrame(data=crash_data)"
   ]
  },
  {
   "cell_type": "code",
   "execution_count": 3,
   "metadata": {},
   "outputs": [
    {
     "data": {
      "text/html": [
       "<div>\n",
       "<style scoped>\n",
       "    .dataframe tbody tr th:only-of-type {\n",
       "        vertical-align: middle;\n",
       "    }\n",
       "\n",
       "    .dataframe tbody tr th {\n",
       "        vertical-align: top;\n",
       "    }\n",
       "\n",
       "    .dataframe thead th {\n",
       "        text-align: right;\n",
       "    }\n",
       "</style>\n",
       "<table border=\"1\" class=\"dataframe\">\n",
       "  <thead>\n",
       "    <tr style=\"text-align: right;\">\n",
       "      <th></th>\n",
       "      <th>driver</th>\n",
       "      <th>driver_nationality</th>\n",
       "      <th>accident_month</th>\n",
       "      <th>accident_year</th>\n",
       "      <th>event</th>\n",
       "      <th>circuit</th>\n",
       "      <th>car</th>\n",
       "      <th>session</th>\n",
       "    </tr>\n",
       "  </thead>\n",
       "  <tbody>\n",
       "    <tr>\n",
       "      <th>0</th>\n",
       "      <td>Cameron Earl</td>\n",
       "      <td>UK</td>\n",
       "      <td>6</td>\n",
       "      <td>1952</td>\n",
       "      <td>Test</td>\n",
       "      <td>MIRA</td>\n",
       "      <td>ERA</td>\n",
       "      <td>test</td>\n",
       "    </tr>\n",
       "    <tr>\n",
       "      <th>1</th>\n",
       "      <td>Chet Miller</td>\n",
       "      <td>USA</td>\n",
       "      <td>5</td>\n",
       "      <td>1953</td>\n",
       "      <td>Indianapolis 500</td>\n",
       "      <td>Indianapolis Motor Speedway</td>\n",
       "      <td>Kurtis Kraft</td>\n",
       "      <td>practice</td>\n",
       "    </tr>\n",
       "    <tr>\n",
       "      <th>2</th>\n",
       "      <td>Charles de Tornaco</td>\n",
       "      <td>Belgium</td>\n",
       "      <td>9</td>\n",
       "      <td>1953</td>\n",
       "      <td>Modena Grand Prix</td>\n",
       "      <td>Autodromo di Modena</td>\n",
       "      <td>Ferrari Tipo 500</td>\n",
       "      <td>practice</td>\n",
       "    </tr>\n",
       "    <tr>\n",
       "      <th>3</th>\n",
       "      <td>Onofre Marimón</td>\n",
       "      <td>Argentina</td>\n",
       "      <td>7</td>\n",
       "      <td>1954</td>\n",
       "      <td>German Grand Prix</td>\n",
       "      <td>Nürburgring</td>\n",
       "      <td>Maserati 250F</td>\n",
       "      <td>practice</td>\n",
       "    </tr>\n",
       "    <tr>\n",
       "      <th>4</th>\n",
       "      <td>Mario Alborghetti</td>\n",
       "      <td>Italy</td>\n",
       "      <td>4</td>\n",
       "      <td>1955</td>\n",
       "      <td>Pau Grand Prix</td>\n",
       "      <td>Circuit de Pau-Ville</td>\n",
       "      <td>Maserati 4CLT</td>\n",
       "      <td>race</td>\n",
       "    </tr>\n",
       "    <tr>\n",
       "      <th>5</th>\n",
       "      <td>Manny Ayulo</td>\n",
       "      <td>USA</td>\n",
       "      <td>5</td>\n",
       "      <td>1955</td>\n",
       "      <td>Indianapolis 500</td>\n",
       "      <td>Indianapolis Motor Speedway</td>\n",
       "      <td>Kurtis Kraft</td>\n",
       "      <td>practice</td>\n",
       "    </tr>\n",
       "    <tr>\n",
       "      <th>6</th>\n",
       "      <td>Bill Vukovich</td>\n",
       "      <td>USA</td>\n",
       "      <td>5</td>\n",
       "      <td>1955</td>\n",
       "      <td>Indianapolis 500</td>\n",
       "      <td>Indianapolis Motor Speedway</td>\n",
       "      <td>Kurtis Kraft</td>\n",
       "      <td>race</td>\n",
       "    </tr>\n",
       "    <tr>\n",
       "      <th>7</th>\n",
       "      <td>Eugenio Castellotti</td>\n",
       "      <td>Italy</td>\n",
       "      <td>3</td>\n",
       "      <td>1957</td>\n",
       "      <td>Test</td>\n",
       "      <td>Autodromo di Modena</td>\n",
       "      <td>Ferrari 801</td>\n",
       "      <td>test</td>\n",
       "    </tr>\n",
       "    <tr>\n",
       "      <th>8</th>\n",
       "      <td>Keith Andrews</td>\n",
       "      <td>USA</td>\n",
       "      <td>5</td>\n",
       "      <td>1957</td>\n",
       "      <td>Indianapolis 500</td>\n",
       "      <td>Indianapolis Motor Speedway</td>\n",
       "      <td>Kurtis Kraft</td>\n",
       "      <td>practice</td>\n",
       "    </tr>\n",
       "    <tr>\n",
       "      <th>9</th>\n",
       "      <td>Pat O'Connor</td>\n",
       "      <td>USA</td>\n",
       "      <td>5</td>\n",
       "      <td>1958</td>\n",
       "      <td>Indianapolis 500</td>\n",
       "      <td>Indianapolis Motor Speedway</td>\n",
       "      <td>Kurtis Kraft</td>\n",
       "      <td>race</td>\n",
       "    </tr>\n",
       "    <tr>\n",
       "      <th>10</th>\n",
       "      <td>Luigi Musso</td>\n",
       "      <td>Italy</td>\n",
       "      <td>7</td>\n",
       "      <td>1958</td>\n",
       "      <td>French Grand Prix</td>\n",
       "      <td>Circuit de Reims-Gueux</td>\n",
       "      <td>Ferrari 246 F1</td>\n",
       "      <td>race</td>\n",
       "    </tr>\n",
       "    <tr>\n",
       "      <th>11</th>\n",
       "      <td>Peter Collins</td>\n",
       "      <td>UK</td>\n",
       "      <td>8</td>\n",
       "      <td>1958</td>\n",
       "      <td>German Grand Prix</td>\n",
       "      <td>Nürburgring</td>\n",
       "      <td>Ferrari 246 F1</td>\n",
       "      <td>race</td>\n",
       "    </tr>\n",
       "    <tr>\n",
       "      <th>12</th>\n",
       "      <td>Stuart Lewis-Evans</td>\n",
       "      <td>UK</td>\n",
       "      <td>10</td>\n",
       "      <td>1958</td>\n",
       "      <td>Moroccan Grand Prix</td>\n",
       "      <td>Circuit d'Ain-Diab</td>\n",
       "      <td>\\tVanwall</td>\n",
       "      <td>race</td>\n",
       "    </tr>\n",
       "    <tr>\n",
       "      <th>13</th>\n",
       "      <td>Jerry Unser Jr.</td>\n",
       "      <td>USA</td>\n",
       "      <td>5</td>\n",
       "      <td>1959</td>\n",
       "      <td>Indianapolis 500</td>\n",
       "      <td>Indianapolis Motor Speedway</td>\n",
       "      <td>Kuzma</td>\n",
       "      <td>practice</td>\n",
       "    </tr>\n",
       "    <tr>\n",
       "      <th>14</th>\n",
       "      <td>Bob Cortner</td>\n",
       "      <td>USA</td>\n",
       "      <td>5</td>\n",
       "      <td>1959</td>\n",
       "      <td>Indianapolis 500</td>\n",
       "      <td>Indianapolis Motor Speedway\\t</td>\n",
       "      <td>Cornis</td>\n",
       "      <td>practice</td>\n",
       "    </tr>\n",
       "    <tr>\n",
       "      <th>15</th>\n",
       "      <td>Harry Schell</td>\n",
       "      <td>USA</td>\n",
       "      <td>5</td>\n",
       "      <td>1960</td>\n",
       "      <td>BRDC International Trophy</td>\n",
       "      <td>Silverstone Circuit</td>\n",
       "      <td>Cooper T51</td>\n",
       "      <td>practice</td>\n",
       "    </tr>\n",
       "    <tr>\n",
       "      <th>16</th>\n",
       "      <td>Chris Bristow</td>\n",
       "      <td>UK</td>\n",
       "      <td>6</td>\n",
       "      <td>1960</td>\n",
       "      <td>Belgian Grand Prix</td>\n",
       "      <td>Circuit de Spa-Francorchamps</td>\n",
       "      <td>Cooper T51</td>\n",
       "      <td>race</td>\n",
       "    </tr>\n",
       "    <tr>\n",
       "      <th>17</th>\n",
       "      <td>Alan Stacey</td>\n",
       "      <td>UK</td>\n",
       "      <td>6</td>\n",
       "      <td>1960</td>\n",
       "      <td>Belgian Grand Prix</td>\n",
       "      <td>Circuit de Spa-Francorchamps</td>\n",
       "      <td>Lotus 18</td>\n",
       "      <td>race</td>\n",
       "    </tr>\n",
       "    <tr>\n",
       "      <th>18</th>\n",
       "      <td>Shane Summers</td>\n",
       "      <td>UK</td>\n",
       "      <td>6</td>\n",
       "      <td>1961</td>\n",
       "      <td>Silver City Trophy</td>\n",
       "      <td>Brands Hatch</td>\n",
       "      <td>Cooper</td>\n",
       "      <td>practice</td>\n",
       "    </tr>\n",
       "    <tr>\n",
       "      <th>19</th>\n",
       "      <td>Giulio Cabianca</td>\n",
       "      <td>Italy</td>\n",
       "      <td>6</td>\n",
       "      <td>1961</td>\n",
       "      <td>Test</td>\n",
       "      <td>Autodromo di Modena</td>\n",
       "      <td>Cooper T51</td>\n",
       "      <td>test</td>\n",
       "    </tr>\n",
       "    <tr>\n",
       "      <th>20</th>\n",
       "      <td>Wolfgang von Trips</td>\n",
       "      <td>Germany</td>\n",
       "      <td>9</td>\n",
       "      <td>1961</td>\n",
       "      <td>Italian Grand Prix</td>\n",
       "      <td>Autodromo Nazionale di Monza</td>\n",
       "      <td>Ferrari 156 F1</td>\n",
       "      <td>race</td>\n",
       "    </tr>\n",
       "    <tr>\n",
       "      <th>21</th>\n",
       "      <td>Ricardo Rodríguez</td>\n",
       "      <td>Mexico</td>\n",
       "      <td>11</td>\n",
       "      <td>1962</td>\n",
       "      <td>Mexican Grand Prix</td>\n",
       "      <td>Autódromo Magdalena Mixiuhca</td>\n",
       "      <td>Lotus 24</td>\n",
       "      <td>practice</td>\n",
       "    </tr>\n",
       "    <tr>\n",
       "      <th>22</th>\n",
       "      <td>Gary Hocking</td>\n",
       "      <td>France</td>\n",
       "      <td>12</td>\n",
       "      <td>1962</td>\n",
       "      <td>Natal Grand Prix</td>\n",
       "      <td>Westmead Circuit</td>\n",
       "      <td>Lotus 24</td>\n",
       "      <td>practice</td>\n",
       "    </tr>\n",
       "    <tr>\n",
       "      <th>23</th>\n",
       "      <td>Carel Godin de Beaufort</td>\n",
       "      <td>Netherlands</td>\n",
       "      <td>8</td>\n",
       "      <td>1964</td>\n",
       "      <td>German Grand Prix</td>\n",
       "      <td>Nürburgring</td>\n",
       "      <td>Porsche 718</td>\n",
       "      <td>practice</td>\n",
       "    </tr>\n",
       "    <tr>\n",
       "      <th>24</th>\n",
       "      <td>John Taylor</td>\n",
       "      <td>UK</td>\n",
       "      <td>8</td>\n",
       "      <td>1966</td>\n",
       "      <td>German Grand Prix</td>\n",
       "      <td>Nürburgring</td>\n",
       "      <td>Brabham BT11</td>\n",
       "      <td>race</td>\n",
       "    </tr>\n",
       "    <tr>\n",
       "      <th>25</th>\n",
       "      <td>Lorenzo Bandini</td>\n",
       "      <td>Italy</td>\n",
       "      <td>5</td>\n",
       "      <td>1967</td>\n",
       "      <td>Monaco Grand Prix</td>\n",
       "      <td>Circuit de Monaco</td>\n",
       "      <td>Ferrari 312</td>\n",
       "      <td>race</td>\n",
       "    </tr>\n",
       "    <tr>\n",
       "      <th>26</th>\n",
       "      <td>Bob Anderson</td>\n",
       "      <td>UK</td>\n",
       "      <td>8</td>\n",
       "      <td>1967</td>\n",
       "      <td>Test</td>\n",
       "      <td>Silverstone Circuit</td>\n",
       "      <td>Brabham BT11</td>\n",
       "      <td>test</td>\n",
       "    </tr>\n",
       "    <tr>\n",
       "      <th>27</th>\n",
       "      <td>Jo Schlesser</td>\n",
       "      <td>France</td>\n",
       "      <td>7</td>\n",
       "      <td>1968</td>\n",
       "      <td>French Grand Prix</td>\n",
       "      <td>Circuit de Rouen-les-Essarts</td>\n",
       "      <td>Honda RA302</td>\n",
       "      <td>race</td>\n",
       "    </tr>\n",
       "    <tr>\n",
       "      <th>28</th>\n",
       "      <td>Gerhard Mitter</td>\n",
       "      <td>Germany</td>\n",
       "      <td>8</td>\n",
       "      <td>1969</td>\n",
       "      <td>German Grand Prix</td>\n",
       "      <td>Nürburgring</td>\n",
       "      <td>BMW 269</td>\n",
       "      <td>practice</td>\n",
       "    </tr>\n",
       "    <tr>\n",
       "      <th>29</th>\n",
       "      <td>Martin Brain</td>\n",
       "      <td>UK</td>\n",
       "      <td>5</td>\n",
       "      <td>1970</td>\n",
       "      <td>Nottingham Sports Car Club meeting</td>\n",
       "      <td>Silverstone Circuit</td>\n",
       "      <td>Cooper T86B</td>\n",
       "      <td>race</td>\n",
       "    </tr>\n",
       "    <tr>\n",
       "      <th>30</th>\n",
       "      <td>Piers Courage</td>\n",
       "      <td>UK</td>\n",
       "      <td>6</td>\n",
       "      <td>1970</td>\n",
       "      <td>Dutch Grand Prix</td>\n",
       "      <td>Circuit Park Zandvoort</td>\n",
       "      <td>De Tomaso 505/38</td>\n",
       "      <td>race</td>\n",
       "    </tr>\n",
       "    <tr>\n",
       "      <th>31</th>\n",
       "      <td>Jochen Rindt</td>\n",
       "      <td>Austria</td>\n",
       "      <td>9</td>\n",
       "      <td>1970</td>\n",
       "      <td>Italian Grand Prix</td>\n",
       "      <td>Autodromo Nazionale di Monza</td>\n",
       "      <td>Lotus 72</td>\n",
       "      <td>qualifying</td>\n",
       "    </tr>\n",
       "    <tr>\n",
       "      <th>32</th>\n",
       "      <td>Jo Siffert</td>\n",
       "      <td>Switzerland</td>\n",
       "      <td>10</td>\n",
       "      <td>1971</td>\n",
       "      <td>World Championship Victory Race</td>\n",
       "      <td>Brands Hatch</td>\n",
       "      <td>BRM P160</td>\n",
       "      <td>race</td>\n",
       "    </tr>\n",
       "    <tr>\n",
       "      <th>33</th>\n",
       "      <td>Roger Williamson</td>\n",
       "      <td>UK</td>\n",
       "      <td>7</td>\n",
       "      <td>1973</td>\n",
       "      <td>Dutch Grand Prix</td>\n",
       "      <td>Circuit Park Zandvoort</td>\n",
       "      <td>March 731</td>\n",
       "      <td>race</td>\n",
       "    </tr>\n",
       "    <tr>\n",
       "      <th>34</th>\n",
       "      <td>François Cevert</td>\n",
       "      <td>France</td>\n",
       "      <td>10</td>\n",
       "      <td>1973</td>\n",
       "      <td>United States Grand Prix</td>\n",
       "      <td>Watkins Glen International</td>\n",
       "      <td>Tyrrell 006</td>\n",
       "      <td>qualifying</td>\n",
       "    </tr>\n",
       "    <tr>\n",
       "      <th>35</th>\n",
       "      <td>Peter Revson</td>\n",
       "      <td>USA</td>\n",
       "      <td>3</td>\n",
       "      <td>1974</td>\n",
       "      <td>South African Grand Prix</td>\n",
       "      <td>Kyalami Racing Circuit</td>\n",
       "      <td>Shadow DN3</td>\n",
       "      <td>test</td>\n",
       "    </tr>\n",
       "    <tr>\n",
       "      <th>36</th>\n",
       "      <td>Helmuth Koinigg</td>\n",
       "      <td>Austria</td>\n",
       "      <td>10</td>\n",
       "      <td>1974</td>\n",
       "      <td>United States Grand Prix</td>\n",
       "      <td>Watkins Glen International</td>\n",
       "      <td>Surtees TS16</td>\n",
       "      <td>race</td>\n",
       "    </tr>\n",
       "    <tr>\n",
       "      <th>37</th>\n",
       "      <td>Mark Donohue</td>\n",
       "      <td>USA</td>\n",
       "      <td>8</td>\n",
       "      <td>1975</td>\n",
       "      <td>Austrian Grand Prix</td>\n",
       "      <td>Österreichring</td>\n",
       "      <td>March 751</td>\n",
       "      <td>practice</td>\n",
       "    </tr>\n",
       "    <tr>\n",
       "      <th>38</th>\n",
       "      <td>Tom Pryce</td>\n",
       "      <td>UK</td>\n",
       "      <td>3</td>\n",
       "      <td>1977</td>\n",
       "      <td>South African Grand Prix</td>\n",
       "      <td>Kyalami Racing Circuit</td>\n",
       "      <td>Shadow DN8</td>\n",
       "      <td>race</td>\n",
       "    </tr>\n",
       "    <tr>\n",
       "      <th>39</th>\n",
       "      <td>Brian McGuire</td>\n",
       "      <td>Australia</td>\n",
       "      <td>8</td>\n",
       "      <td>1977</td>\n",
       "      <td>Shellsport International Series Round 11</td>\n",
       "      <td>Brands Hatch</td>\n",
       "      <td>McGuire BM1</td>\n",
       "      <td>practice</td>\n",
       "    </tr>\n",
       "    <tr>\n",
       "      <th>40</th>\n",
       "      <td>Ronnie Peterson</td>\n",
       "      <td>Sweden</td>\n",
       "      <td>9</td>\n",
       "      <td>1978</td>\n",
       "      <td>Italian Grand Prix</td>\n",
       "      <td>Autodromo Nazionale di Monza</td>\n",
       "      <td>Lotus 78</td>\n",
       "      <td>race</td>\n",
       "    </tr>\n",
       "    <tr>\n",
       "      <th>41</th>\n",
       "      <td>Patrick Depailler</td>\n",
       "      <td>France</td>\n",
       "      <td>8</td>\n",
       "      <td>1980</td>\n",
       "      <td>Test</td>\n",
       "      <td>Hockenheimring</td>\n",
       "      <td>Alfa Romeo 179</td>\n",
       "      <td>test</td>\n",
       "    </tr>\n",
       "    <tr>\n",
       "      <th>42</th>\n",
       "      <td>Gilles Villeneuve</td>\n",
       "      <td>Canada</td>\n",
       "      <td>5</td>\n",
       "      <td>1982</td>\n",
       "      <td>Belgian Grand Prix</td>\n",
       "      <td>Circuit Zolder</td>\n",
       "      <td>\\tFerrari 126C</td>\n",
       "      <td>qualifying</td>\n",
       "    </tr>\n",
       "    <tr>\n",
       "      <th>43</th>\n",
       "      <td>Riccardo Paletti</td>\n",
       "      <td>Italy</td>\n",
       "      <td>6</td>\n",
       "      <td>1982</td>\n",
       "      <td>Canadian Grand Prix</td>\n",
       "      <td>Circuit Gilles Villeneuve</td>\n",
       "      <td>Osella FA1C</td>\n",
       "      <td>race</td>\n",
       "    </tr>\n",
       "    <tr>\n",
       "      <th>44</th>\n",
       "      <td>Elio de Angelis</td>\n",
       "      <td>Italy</td>\n",
       "      <td>5</td>\n",
       "      <td>1986</td>\n",
       "      <td>Test</td>\n",
       "      <td>Circuit Paul Ricard</td>\n",
       "      <td>Brabham BT55</td>\n",
       "      <td>test</td>\n",
       "    </tr>\n",
       "    <tr>\n",
       "      <th>45</th>\n",
       "      <td>Roland Ratzenberger</td>\n",
       "      <td>Austria</td>\n",
       "      <td>4</td>\n",
       "      <td>1994</td>\n",
       "      <td>San Marino Grand Prix</td>\n",
       "      <td>Autodromo Enzo e Dino</td>\n",
       "      <td>Simtek S941</td>\n",
       "      <td>qualifying</td>\n",
       "    </tr>\n",
       "    <tr>\n",
       "      <th>46</th>\n",
       "      <td>Ayrton Senna</td>\n",
       "      <td>Brazil</td>\n",
       "      <td>5</td>\n",
       "      <td>1994</td>\n",
       "      <td>San Marino Grand Prix</td>\n",
       "      <td>Autodromo Enzo e Dino</td>\n",
       "      <td>Williams FW16</td>\n",
       "      <td>race</td>\n",
       "    </tr>\n",
       "    <tr>\n",
       "      <th>47</th>\n",
       "      <td>John Dawson-Damer</td>\n",
       "      <td>UK</td>\n",
       "      <td>6</td>\n",
       "      <td>2000</td>\n",
       "      <td>Goodwood Festival of Speed</td>\n",
       "      <td>Goodwood Hillclimb</td>\n",
       "      <td>Lotus 63</td>\n",
       "      <td>run</td>\n",
       "    </tr>\n",
       "    <tr>\n",
       "      <th>48</th>\n",
       "      <td>Fritz Glatz</td>\n",
       "      <td>Austria</td>\n",
       "      <td>7</td>\n",
       "      <td>2002</td>\n",
       "      <td>Czech Superprix</td>\n",
       "      <td>Autodrom Most</td>\n",
       "      <td>Footwork FA17</td>\n",
       "      <td>race</td>\n",
       "    </tr>\n",
       "    <tr>\n",
       "      <th>49</th>\n",
       "      <td>Denis Welch</td>\n",
       "      <td>UK</td>\n",
       "      <td>7</td>\n",
       "      <td>2014</td>\n",
       "      <td>Jack Brabham Memorial Trophy</td>\n",
       "      <td>Silverstone Circuit</td>\n",
       "      <td>Lotus 18</td>\n",
       "      <td>race</td>\n",
       "    </tr>\n",
       "    <tr>\n",
       "      <th>50</th>\n",
       "      <td>Jules Bianchi</td>\n",
       "      <td>France</td>\n",
       "      <td>10</td>\n",
       "      <td>2014</td>\n",
       "      <td>Japanese Grand Prix</td>\n",
       "      <td>Suzuka International Racing Course</td>\n",
       "      <td>Marussia MR03</td>\n",
       "      <td>race</td>\n",
       "    </tr>\n",
       "    <tr>\n",
       "      <th>51</th>\n",
       "      <td>David Ferrer</td>\n",
       "      <td>France</td>\n",
       "      <td>9</td>\n",
       "      <td>2017</td>\n",
       "      <td>Historic Grand Prix</td>\n",
       "      <td>Circuit Park Zandvoort</td>\n",
       "      <td>March 701</td>\n",
       "      <td>race</td>\n",
       "    </tr>\n",
       "  </tbody>\n",
       "</table>\n",
       "</div>"
      ],
      "text/plain": [
       "                     driver driver_nationality  accident_month  accident_year  \\\n",
       "0              Cameron Earl                 UK               6           1952   \n",
       "1               Chet Miller                USA               5           1953   \n",
       "2        Charles de Tornaco            Belgium               9           1953   \n",
       "3            Onofre Marimón          Argentina               7           1954   \n",
       "4         Mario Alborghetti              Italy               4           1955   \n",
       "5               Manny Ayulo                USA               5           1955   \n",
       "6             Bill Vukovich                USA               5           1955   \n",
       "7       Eugenio Castellotti              Italy               3           1957   \n",
       "8             Keith Andrews                USA               5           1957   \n",
       "9              Pat O'Connor                USA               5           1958   \n",
       "10              Luigi Musso              Italy               7           1958   \n",
       "11            Peter Collins                 UK               8           1958   \n",
       "12       Stuart Lewis-Evans                 UK              10           1958   \n",
       "13          Jerry Unser Jr.                USA               5           1959   \n",
       "14              Bob Cortner                USA               5           1959   \n",
       "15             Harry Schell                USA               5           1960   \n",
       "16            Chris Bristow                 UK               6           1960   \n",
       "17              Alan Stacey                 UK               6           1960   \n",
       "18            Shane Summers                 UK               6           1961   \n",
       "19          Giulio Cabianca              Italy               6           1961   \n",
       "20       Wolfgang von Trips            Germany               9           1961   \n",
       "21        Ricardo Rodríguez             Mexico              11           1962   \n",
       "22             Gary Hocking             France              12           1962   \n",
       "23  Carel Godin de Beaufort        Netherlands               8           1964   \n",
       "24              John Taylor                 UK               8           1966   \n",
       "25          Lorenzo Bandini              Italy               5           1967   \n",
       "26             Bob Anderson                 UK               8           1967   \n",
       "27             Jo Schlesser             France               7           1968   \n",
       "28           Gerhard Mitter            Germany               8           1969   \n",
       "29             Martin Brain                 UK               5           1970   \n",
       "30            Piers Courage                 UK               6           1970   \n",
       "31             Jochen Rindt            Austria               9           1970   \n",
       "32               Jo Siffert        Switzerland              10           1971   \n",
       "33         Roger Williamson                 UK               7           1973   \n",
       "34          François Cevert             France              10           1973   \n",
       "35             Peter Revson                USA               3           1974   \n",
       "36          Helmuth Koinigg            Austria              10           1974   \n",
       "37             Mark Donohue                USA               8           1975   \n",
       "38                Tom Pryce                 UK               3           1977   \n",
       "39            Brian McGuire          Australia               8           1977   \n",
       "40          Ronnie Peterson             Sweden               9           1978   \n",
       "41        Patrick Depailler             France               8           1980   \n",
       "42        Gilles Villeneuve             Canada               5           1982   \n",
       "43         Riccardo Paletti              Italy               6           1982   \n",
       "44          Elio de Angelis              Italy               5           1986   \n",
       "45      Roland Ratzenberger            Austria               4           1994   \n",
       "46             Ayrton Senna             Brazil               5           1994   \n",
       "47        John Dawson-Damer                 UK               6           2000   \n",
       "48              Fritz Glatz            Austria               7           2002   \n",
       "49              Denis Welch                 UK               7           2014   \n",
       "50            Jules Bianchi             France              10           2014   \n",
       "51             David Ferrer             France               9           2017   \n",
       "\n",
       "                                       event  \\\n",
       "0                                       Test   \n",
       "1                           Indianapolis 500   \n",
       "2                          Modena Grand Prix   \n",
       "3                          German Grand Prix   \n",
       "4                             Pau Grand Prix   \n",
       "5                           Indianapolis 500   \n",
       "6                           Indianapolis 500   \n",
       "7                                       Test   \n",
       "8                           Indianapolis 500   \n",
       "9                           Indianapolis 500   \n",
       "10                         French Grand Prix   \n",
       "11                         German Grand Prix   \n",
       "12                       Moroccan Grand Prix   \n",
       "13                          Indianapolis 500   \n",
       "14                          Indianapolis 500   \n",
       "15                 BRDC International Trophy   \n",
       "16                        Belgian Grand Prix   \n",
       "17                        Belgian Grand Prix   \n",
       "18                       Silver City Trophy    \n",
       "19                                      Test   \n",
       "20                        Italian Grand Prix   \n",
       "21                        Mexican Grand Prix   \n",
       "22                          Natal Grand Prix   \n",
       "23                         German Grand Prix   \n",
       "24                         German Grand Prix   \n",
       "25                         Monaco Grand Prix   \n",
       "26                                      Test   \n",
       "27                         French Grand Prix   \n",
       "28                         German Grand Prix   \n",
       "29        Nottingham Sports Car Club meeting   \n",
       "30                          Dutch Grand Prix   \n",
       "31                        Italian Grand Prix   \n",
       "32           World Championship Victory Race   \n",
       "33                          Dutch Grand Prix   \n",
       "34                  United States Grand Prix   \n",
       "35                  South African Grand Prix   \n",
       "36                  United States Grand Prix   \n",
       "37                       Austrian Grand Prix   \n",
       "38                  South African Grand Prix   \n",
       "39  Shellsport International Series Round 11   \n",
       "40                        Italian Grand Prix   \n",
       "41                                      Test   \n",
       "42                        Belgian Grand Prix   \n",
       "43                       Canadian Grand Prix   \n",
       "44                                      Test   \n",
       "45                     San Marino Grand Prix   \n",
       "46                     San Marino Grand Prix   \n",
       "47                Goodwood Festival of Speed   \n",
       "48                           Czech Superprix   \n",
       "49              Jack Brabham Memorial Trophy   \n",
       "50                       Japanese Grand Prix   \n",
       "51                       Historic Grand Prix   \n",
       "\n",
       "                               circuit               car     session  \n",
       "0                                 MIRA               ERA        test  \n",
       "1          Indianapolis Motor Speedway      Kurtis Kraft    practice  \n",
       "2                  Autodromo di Modena  Ferrari Tipo 500    practice  \n",
       "3                          Nürburgring     Maserati 250F    practice  \n",
       "4                 Circuit de Pau-Ville     Maserati 4CLT        race  \n",
       "5          Indianapolis Motor Speedway      Kurtis Kraft    practice  \n",
       "6          Indianapolis Motor Speedway      Kurtis Kraft        race  \n",
       "7                  Autodromo di Modena       Ferrari 801        test  \n",
       "8          Indianapolis Motor Speedway      Kurtis Kraft    practice  \n",
       "9          Indianapolis Motor Speedway      Kurtis Kraft        race  \n",
       "10              Circuit de Reims-Gueux    Ferrari 246 F1        race  \n",
       "11                         Nürburgring    Ferrari 246 F1        race  \n",
       "12                  Circuit d'Ain-Diab         \\tVanwall        race  \n",
       "13         Indianapolis Motor Speedway             Kuzma    practice  \n",
       "14       Indianapolis Motor Speedway\\t            Cornis    practice  \n",
       "15                 Silverstone Circuit        Cooper T51    practice  \n",
       "16        Circuit de Spa-Francorchamps        Cooper T51        race  \n",
       "17        Circuit de Spa-Francorchamps          Lotus 18        race  \n",
       "18                        Brands Hatch            Cooper    practice  \n",
       "19                 Autodromo di Modena        Cooper T51        test  \n",
       "20        Autodromo Nazionale di Monza    Ferrari 156 F1        race  \n",
       "21        Autódromo Magdalena Mixiuhca          Lotus 24    practice  \n",
       "22                    Westmead Circuit          Lotus 24    practice  \n",
       "23                         Nürburgring       Porsche 718    practice  \n",
       "24                         Nürburgring      Brabham BT11        race  \n",
       "25                   Circuit de Monaco       Ferrari 312        race  \n",
       "26                 Silverstone Circuit      Brabham BT11        test  \n",
       "27        Circuit de Rouen-les-Essarts       Honda RA302        race  \n",
       "28                         Nürburgring           BMW 269    practice  \n",
       "29                 Silverstone Circuit       Cooper T86B        race  \n",
       "30              Circuit Park Zandvoort  De Tomaso 505/38        race  \n",
       "31        Autodromo Nazionale di Monza          Lotus 72  qualifying  \n",
       "32                        Brands Hatch          BRM P160        race  \n",
       "33              Circuit Park Zandvoort         March 731        race  \n",
       "34          Watkins Glen International       Tyrrell 006  qualifying  \n",
       "35              Kyalami Racing Circuit        Shadow DN3        test  \n",
       "36          Watkins Glen International      Surtees TS16        race  \n",
       "37                      Österreichring         March 751    practice  \n",
       "38              Kyalami Racing Circuit        Shadow DN8        race  \n",
       "39                        Brands Hatch       McGuire BM1    practice  \n",
       "40        Autodromo Nazionale di Monza          Lotus 78        race  \n",
       "41                      Hockenheimring    Alfa Romeo 179        test  \n",
       "42                      Circuit Zolder    \\tFerrari 126C  qualifying  \n",
       "43           Circuit Gilles Villeneuve       Osella FA1C        race  \n",
       "44                 Circuit Paul Ricard      Brabham BT55        test  \n",
       "45               Autodromo Enzo e Dino       Simtek S941  qualifying  \n",
       "46               Autodromo Enzo e Dino     Williams FW16        race  \n",
       "47                  Goodwood Hillclimb          Lotus 63         run  \n",
       "48                       Autodrom Most     Footwork FA17        race  \n",
       "49                 Silverstone Circuit          Lotus 18        race  \n",
       "50  Suzuka International Racing Course     Marussia MR03        race  \n",
       "51              Circuit Park Zandvoort         March 701        race  "
      ]
     },
     "execution_count": 3,
     "metadata": {},
     "output_type": "execute_result"
    }
   ],
   "source": [
    "crash_df"
   ]
  },
  {
   "cell_type": "code",
   "execution_count": 4,
   "metadata": {},
   "outputs": [
    {
     "data": {
      "text/plain": [
       "driver_nationality\n",
       "Argentina       1\n",
       "Australia       1\n",
       "Austria         4\n",
       "Belgium         1\n",
       "Brazil          1\n",
       "Canada          1\n",
       "France          6\n",
       "Germany         2\n",
       "Italy           7\n",
       "Mexico          1\n",
       "Netherlands     1\n",
       "Sweden          1\n",
       "Switzerland     1\n",
       "UK             14\n",
       "USA            10\n",
       "Name: driver, dtype: int64"
      ]
     },
     "execution_count": 4,
     "metadata": {},
     "output_type": "execute_result"
    }
   ],
   "source": [
    "nat_count = crash_df.groupby(['driver_nationality']).count()['driver']\n",
    "nat_count"
   ]
  },
  {
   "cell_type": "code",
   "execution_count": 5,
   "metadata": {},
   "outputs": [
    {
     "data": {
      "text/html": [
       "<div>\n",
       "<style scoped>\n",
       "    .dataframe tbody tr th:only-of-type {\n",
       "        vertical-align: middle;\n",
       "    }\n",
       "\n",
       "    .dataframe tbody tr th {\n",
       "        vertical-align: top;\n",
       "    }\n",
       "\n",
       "    .dataframe thead th {\n",
       "        text-align: right;\n",
       "    }\n",
       "</style>\n",
       "<table border=\"1\" class=\"dataframe\">\n",
       "  <thead>\n",
       "    <tr style=\"text-align: right;\">\n",
       "      <th></th>\n",
       "      <th>accident_month</th>\n",
       "      <th>accident_year</th>\n",
       "      <th>session</th>\n",
       "    </tr>\n",
       "  </thead>\n",
       "  <tbody>\n",
       "    <tr>\n",
       "      <th>0</th>\n",
       "      <td>6</td>\n",
       "      <td>1952</td>\n",
       "      <td>test</td>\n",
       "    </tr>\n",
       "    <tr>\n",
       "      <th>1</th>\n",
       "      <td>5</td>\n",
       "      <td>1953</td>\n",
       "      <td>practice</td>\n",
       "    </tr>\n",
       "    <tr>\n",
       "      <th>2</th>\n",
       "      <td>9</td>\n",
       "      <td>1953</td>\n",
       "      <td>practice</td>\n",
       "    </tr>\n",
       "    <tr>\n",
       "      <th>3</th>\n",
       "      <td>7</td>\n",
       "      <td>1954</td>\n",
       "      <td>practice</td>\n",
       "    </tr>\n",
       "    <tr>\n",
       "      <th>4</th>\n",
       "      <td>4</td>\n",
       "      <td>1955</td>\n",
       "      <td>race</td>\n",
       "    </tr>\n",
       "    <tr>\n",
       "      <th>5</th>\n",
       "      <td>5</td>\n",
       "      <td>1955</td>\n",
       "      <td>practice</td>\n",
       "    </tr>\n",
       "    <tr>\n",
       "      <th>6</th>\n",
       "      <td>5</td>\n",
       "      <td>1955</td>\n",
       "      <td>race</td>\n",
       "    </tr>\n",
       "    <tr>\n",
       "      <th>7</th>\n",
       "      <td>3</td>\n",
       "      <td>1957</td>\n",
       "      <td>test</td>\n",
       "    </tr>\n",
       "    <tr>\n",
       "      <th>8</th>\n",
       "      <td>5</td>\n",
       "      <td>1957</td>\n",
       "      <td>practice</td>\n",
       "    </tr>\n",
       "    <tr>\n",
       "      <th>9</th>\n",
       "      <td>5</td>\n",
       "      <td>1958</td>\n",
       "      <td>race</td>\n",
       "    </tr>\n",
       "    <tr>\n",
       "      <th>10</th>\n",
       "      <td>7</td>\n",
       "      <td>1958</td>\n",
       "      <td>race</td>\n",
       "    </tr>\n",
       "    <tr>\n",
       "      <th>11</th>\n",
       "      <td>8</td>\n",
       "      <td>1958</td>\n",
       "      <td>race</td>\n",
       "    </tr>\n",
       "    <tr>\n",
       "      <th>12</th>\n",
       "      <td>10</td>\n",
       "      <td>1958</td>\n",
       "      <td>race</td>\n",
       "    </tr>\n",
       "    <tr>\n",
       "      <th>13</th>\n",
       "      <td>5</td>\n",
       "      <td>1959</td>\n",
       "      <td>practice</td>\n",
       "    </tr>\n",
       "    <tr>\n",
       "      <th>14</th>\n",
       "      <td>5</td>\n",
       "      <td>1959</td>\n",
       "      <td>practice</td>\n",
       "    </tr>\n",
       "    <tr>\n",
       "      <th>15</th>\n",
       "      <td>5</td>\n",
       "      <td>1960</td>\n",
       "      <td>practice</td>\n",
       "    </tr>\n",
       "    <tr>\n",
       "      <th>16</th>\n",
       "      <td>6</td>\n",
       "      <td>1960</td>\n",
       "      <td>race</td>\n",
       "    </tr>\n",
       "    <tr>\n",
       "      <th>17</th>\n",
       "      <td>6</td>\n",
       "      <td>1960</td>\n",
       "      <td>race</td>\n",
       "    </tr>\n",
       "    <tr>\n",
       "      <th>18</th>\n",
       "      <td>6</td>\n",
       "      <td>1961</td>\n",
       "      <td>practice</td>\n",
       "    </tr>\n",
       "    <tr>\n",
       "      <th>19</th>\n",
       "      <td>6</td>\n",
       "      <td>1961</td>\n",
       "      <td>test</td>\n",
       "    </tr>\n",
       "    <tr>\n",
       "      <th>20</th>\n",
       "      <td>9</td>\n",
       "      <td>1961</td>\n",
       "      <td>race</td>\n",
       "    </tr>\n",
       "    <tr>\n",
       "      <th>21</th>\n",
       "      <td>11</td>\n",
       "      <td>1962</td>\n",
       "      <td>practice</td>\n",
       "    </tr>\n",
       "    <tr>\n",
       "      <th>22</th>\n",
       "      <td>12</td>\n",
       "      <td>1962</td>\n",
       "      <td>practice</td>\n",
       "    </tr>\n",
       "    <tr>\n",
       "      <th>23</th>\n",
       "      <td>8</td>\n",
       "      <td>1964</td>\n",
       "      <td>practice</td>\n",
       "    </tr>\n",
       "    <tr>\n",
       "      <th>24</th>\n",
       "      <td>8</td>\n",
       "      <td>1966</td>\n",
       "      <td>race</td>\n",
       "    </tr>\n",
       "    <tr>\n",
       "      <th>25</th>\n",
       "      <td>5</td>\n",
       "      <td>1967</td>\n",
       "      <td>race</td>\n",
       "    </tr>\n",
       "    <tr>\n",
       "      <th>26</th>\n",
       "      <td>8</td>\n",
       "      <td>1967</td>\n",
       "      <td>test</td>\n",
       "    </tr>\n",
       "    <tr>\n",
       "      <th>27</th>\n",
       "      <td>7</td>\n",
       "      <td>1968</td>\n",
       "      <td>race</td>\n",
       "    </tr>\n",
       "    <tr>\n",
       "      <th>28</th>\n",
       "      <td>8</td>\n",
       "      <td>1969</td>\n",
       "      <td>practice</td>\n",
       "    </tr>\n",
       "    <tr>\n",
       "      <th>29</th>\n",
       "      <td>5</td>\n",
       "      <td>1970</td>\n",
       "      <td>race</td>\n",
       "    </tr>\n",
       "    <tr>\n",
       "      <th>30</th>\n",
       "      <td>6</td>\n",
       "      <td>1970</td>\n",
       "      <td>race</td>\n",
       "    </tr>\n",
       "    <tr>\n",
       "      <th>31</th>\n",
       "      <td>9</td>\n",
       "      <td>1970</td>\n",
       "      <td>qualifying</td>\n",
       "    </tr>\n",
       "    <tr>\n",
       "      <th>32</th>\n",
       "      <td>10</td>\n",
       "      <td>1971</td>\n",
       "      <td>race</td>\n",
       "    </tr>\n",
       "    <tr>\n",
       "      <th>33</th>\n",
       "      <td>7</td>\n",
       "      <td>1973</td>\n",
       "      <td>race</td>\n",
       "    </tr>\n",
       "    <tr>\n",
       "      <th>34</th>\n",
       "      <td>10</td>\n",
       "      <td>1973</td>\n",
       "      <td>qualifying</td>\n",
       "    </tr>\n",
       "    <tr>\n",
       "      <th>35</th>\n",
       "      <td>3</td>\n",
       "      <td>1974</td>\n",
       "      <td>test</td>\n",
       "    </tr>\n",
       "    <tr>\n",
       "      <th>36</th>\n",
       "      <td>10</td>\n",
       "      <td>1974</td>\n",
       "      <td>race</td>\n",
       "    </tr>\n",
       "    <tr>\n",
       "      <th>37</th>\n",
       "      <td>8</td>\n",
       "      <td>1975</td>\n",
       "      <td>practice</td>\n",
       "    </tr>\n",
       "    <tr>\n",
       "      <th>38</th>\n",
       "      <td>3</td>\n",
       "      <td>1977</td>\n",
       "      <td>race</td>\n",
       "    </tr>\n",
       "    <tr>\n",
       "      <th>39</th>\n",
       "      <td>8</td>\n",
       "      <td>1977</td>\n",
       "      <td>practice</td>\n",
       "    </tr>\n",
       "    <tr>\n",
       "      <th>40</th>\n",
       "      <td>9</td>\n",
       "      <td>1978</td>\n",
       "      <td>race</td>\n",
       "    </tr>\n",
       "    <tr>\n",
       "      <th>41</th>\n",
       "      <td>8</td>\n",
       "      <td>1980</td>\n",
       "      <td>test</td>\n",
       "    </tr>\n",
       "    <tr>\n",
       "      <th>42</th>\n",
       "      <td>5</td>\n",
       "      <td>1982</td>\n",
       "      <td>qualifying</td>\n",
       "    </tr>\n",
       "    <tr>\n",
       "      <th>43</th>\n",
       "      <td>6</td>\n",
       "      <td>1982</td>\n",
       "      <td>race</td>\n",
       "    </tr>\n",
       "    <tr>\n",
       "      <th>44</th>\n",
       "      <td>5</td>\n",
       "      <td>1986</td>\n",
       "      <td>test</td>\n",
       "    </tr>\n",
       "    <tr>\n",
       "      <th>45</th>\n",
       "      <td>4</td>\n",
       "      <td>1994</td>\n",
       "      <td>qualifying</td>\n",
       "    </tr>\n",
       "    <tr>\n",
       "      <th>46</th>\n",
       "      <td>5</td>\n",
       "      <td>1994</td>\n",
       "      <td>race</td>\n",
       "    </tr>\n",
       "    <tr>\n",
       "      <th>47</th>\n",
       "      <td>6</td>\n",
       "      <td>2000</td>\n",
       "      <td>run</td>\n",
       "    </tr>\n",
       "    <tr>\n",
       "      <th>48</th>\n",
       "      <td>7</td>\n",
       "      <td>2002</td>\n",
       "      <td>race</td>\n",
       "    </tr>\n",
       "    <tr>\n",
       "      <th>49</th>\n",
       "      <td>7</td>\n",
       "      <td>2014</td>\n",
       "      <td>race</td>\n",
       "    </tr>\n",
       "    <tr>\n",
       "      <th>50</th>\n",
       "      <td>10</td>\n",
       "      <td>2014</td>\n",
       "      <td>race</td>\n",
       "    </tr>\n",
       "    <tr>\n",
       "      <th>51</th>\n",
       "      <td>9</td>\n",
       "      <td>2017</td>\n",
       "      <td>race</td>\n",
       "    </tr>\n",
       "  </tbody>\n",
       "</table>\n",
       "</div>"
      ],
      "text/plain": [
       "    accident_month  accident_year     session\n",
       "0                6           1952        test\n",
       "1                5           1953    practice\n",
       "2                9           1953    practice\n",
       "3                7           1954    practice\n",
       "4                4           1955        race\n",
       "5                5           1955    practice\n",
       "6                5           1955        race\n",
       "7                3           1957        test\n",
       "8                5           1957    practice\n",
       "9                5           1958        race\n",
       "10               7           1958        race\n",
       "11               8           1958        race\n",
       "12              10           1958        race\n",
       "13               5           1959    practice\n",
       "14               5           1959    practice\n",
       "15               5           1960    practice\n",
       "16               6           1960        race\n",
       "17               6           1960        race\n",
       "18               6           1961    practice\n",
       "19               6           1961        test\n",
       "20               9           1961        race\n",
       "21              11           1962    practice\n",
       "22              12           1962    practice\n",
       "23               8           1964    practice\n",
       "24               8           1966        race\n",
       "25               5           1967        race\n",
       "26               8           1967        test\n",
       "27               7           1968        race\n",
       "28               8           1969    practice\n",
       "29               5           1970        race\n",
       "30               6           1970        race\n",
       "31               9           1970  qualifying\n",
       "32              10           1971        race\n",
       "33               7           1973        race\n",
       "34              10           1973  qualifying\n",
       "35               3           1974        test\n",
       "36              10           1974        race\n",
       "37               8           1975    practice\n",
       "38               3           1977        race\n",
       "39               8           1977    practice\n",
       "40               9           1978        race\n",
       "41               8           1980        test\n",
       "42               5           1982  qualifying\n",
       "43               6           1982        race\n",
       "44               5           1986        test\n",
       "45               4           1994  qualifying\n",
       "46               5           1994        race\n",
       "47               6           2000         run\n",
       "48               7           2002        race\n",
       "49               7           2014        race\n",
       "50              10           2014        race\n",
       "51               9           2017        race"
      ]
     },
     "execution_count": 5,
     "metadata": {},
     "output_type": "execute_result"
    }
   ],
   "source": [
    "#Drop high cardinality columns for now\n",
    "drop_crash = crash_df.drop(columns=[\"driver\", \"car\", \"event\", \"circuit\", \"driver_nationality\"])\n",
    "drop_crash"
   ]
  },
  {
   "cell_type": "code",
   "execution_count": 6,
   "metadata": {},
   "outputs": [
    {
     "data": {
      "text/html": [
       "<div>\n",
       "<style scoped>\n",
       "    .dataframe tbody tr th:only-of-type {\n",
       "        vertical-align: middle;\n",
       "    }\n",
       "\n",
       "    .dataframe tbody tr th {\n",
       "        vertical-align: top;\n",
       "    }\n",
       "\n",
       "    .dataframe thead th {\n",
       "        text-align: right;\n",
       "    }\n",
       "</style>\n",
       "<table border=\"1\" class=\"dataframe\">\n",
       "  <thead>\n",
       "    <tr style=\"text-align: right;\">\n",
       "      <th></th>\n",
       "      <th>accident_month</th>\n",
       "      <th>accident_year</th>\n",
       "      <th>session_test</th>\n",
       "      <th>session_practice</th>\n",
       "      <th>session_race</th>\n",
       "      <th>session_qualifying</th>\n",
       "      <th>session_run</th>\n",
       "    </tr>\n",
       "  </thead>\n",
       "  <tbody>\n",
       "    <tr>\n",
       "      <th>0</th>\n",
       "      <td>6</td>\n",
       "      <td>1952</td>\n",
       "      <td>1</td>\n",
       "      <td>0</td>\n",
       "      <td>0</td>\n",
       "      <td>0</td>\n",
       "      <td>0</td>\n",
       "    </tr>\n",
       "    <tr>\n",
       "      <th>1</th>\n",
       "      <td>5</td>\n",
       "      <td>1953</td>\n",
       "      <td>0</td>\n",
       "      <td>1</td>\n",
       "      <td>0</td>\n",
       "      <td>0</td>\n",
       "      <td>0</td>\n",
       "    </tr>\n",
       "    <tr>\n",
       "      <th>2</th>\n",
       "      <td>9</td>\n",
       "      <td>1953</td>\n",
       "      <td>0</td>\n",
       "      <td>1</td>\n",
       "      <td>0</td>\n",
       "      <td>0</td>\n",
       "      <td>0</td>\n",
       "    </tr>\n",
       "    <tr>\n",
       "      <th>3</th>\n",
       "      <td>7</td>\n",
       "      <td>1954</td>\n",
       "      <td>0</td>\n",
       "      <td>1</td>\n",
       "      <td>0</td>\n",
       "      <td>0</td>\n",
       "      <td>0</td>\n",
       "    </tr>\n",
       "    <tr>\n",
       "      <th>4</th>\n",
       "      <td>4</td>\n",
       "      <td>1955</td>\n",
       "      <td>0</td>\n",
       "      <td>0</td>\n",
       "      <td>1</td>\n",
       "      <td>0</td>\n",
       "      <td>0</td>\n",
       "    </tr>\n",
       "    <tr>\n",
       "      <th>5</th>\n",
       "      <td>5</td>\n",
       "      <td>1955</td>\n",
       "      <td>0</td>\n",
       "      <td>1</td>\n",
       "      <td>0</td>\n",
       "      <td>0</td>\n",
       "      <td>0</td>\n",
       "    </tr>\n",
       "    <tr>\n",
       "      <th>6</th>\n",
       "      <td>5</td>\n",
       "      <td>1955</td>\n",
       "      <td>0</td>\n",
       "      <td>0</td>\n",
       "      <td>1</td>\n",
       "      <td>0</td>\n",
       "      <td>0</td>\n",
       "    </tr>\n",
       "    <tr>\n",
       "      <th>7</th>\n",
       "      <td>3</td>\n",
       "      <td>1957</td>\n",
       "      <td>1</td>\n",
       "      <td>0</td>\n",
       "      <td>0</td>\n",
       "      <td>0</td>\n",
       "      <td>0</td>\n",
       "    </tr>\n",
       "    <tr>\n",
       "      <th>8</th>\n",
       "      <td>5</td>\n",
       "      <td>1957</td>\n",
       "      <td>0</td>\n",
       "      <td>1</td>\n",
       "      <td>0</td>\n",
       "      <td>0</td>\n",
       "      <td>0</td>\n",
       "    </tr>\n",
       "    <tr>\n",
       "      <th>9</th>\n",
       "      <td>5</td>\n",
       "      <td>1958</td>\n",
       "      <td>0</td>\n",
       "      <td>0</td>\n",
       "      <td>1</td>\n",
       "      <td>0</td>\n",
       "      <td>0</td>\n",
       "    </tr>\n",
       "    <tr>\n",
       "      <th>10</th>\n",
       "      <td>7</td>\n",
       "      <td>1958</td>\n",
       "      <td>0</td>\n",
       "      <td>0</td>\n",
       "      <td>1</td>\n",
       "      <td>0</td>\n",
       "      <td>0</td>\n",
       "    </tr>\n",
       "    <tr>\n",
       "      <th>11</th>\n",
       "      <td>8</td>\n",
       "      <td>1958</td>\n",
       "      <td>0</td>\n",
       "      <td>0</td>\n",
       "      <td>1</td>\n",
       "      <td>0</td>\n",
       "      <td>0</td>\n",
       "    </tr>\n",
       "    <tr>\n",
       "      <th>12</th>\n",
       "      <td>10</td>\n",
       "      <td>1958</td>\n",
       "      <td>0</td>\n",
       "      <td>0</td>\n",
       "      <td>1</td>\n",
       "      <td>0</td>\n",
       "      <td>0</td>\n",
       "    </tr>\n",
       "    <tr>\n",
       "      <th>13</th>\n",
       "      <td>5</td>\n",
       "      <td>1959</td>\n",
       "      <td>0</td>\n",
       "      <td>1</td>\n",
       "      <td>0</td>\n",
       "      <td>0</td>\n",
       "      <td>0</td>\n",
       "    </tr>\n",
       "    <tr>\n",
       "      <th>14</th>\n",
       "      <td>5</td>\n",
       "      <td>1959</td>\n",
       "      <td>0</td>\n",
       "      <td>1</td>\n",
       "      <td>0</td>\n",
       "      <td>0</td>\n",
       "      <td>0</td>\n",
       "    </tr>\n",
       "    <tr>\n",
       "      <th>15</th>\n",
       "      <td>5</td>\n",
       "      <td>1960</td>\n",
       "      <td>0</td>\n",
       "      <td>1</td>\n",
       "      <td>0</td>\n",
       "      <td>0</td>\n",
       "      <td>0</td>\n",
       "    </tr>\n",
       "    <tr>\n",
       "      <th>16</th>\n",
       "      <td>6</td>\n",
       "      <td>1960</td>\n",
       "      <td>0</td>\n",
       "      <td>0</td>\n",
       "      <td>1</td>\n",
       "      <td>0</td>\n",
       "      <td>0</td>\n",
       "    </tr>\n",
       "    <tr>\n",
       "      <th>17</th>\n",
       "      <td>6</td>\n",
       "      <td>1960</td>\n",
       "      <td>0</td>\n",
       "      <td>0</td>\n",
       "      <td>1</td>\n",
       "      <td>0</td>\n",
       "      <td>0</td>\n",
       "    </tr>\n",
       "    <tr>\n",
       "      <th>18</th>\n",
       "      <td>6</td>\n",
       "      <td>1961</td>\n",
       "      <td>0</td>\n",
       "      <td>1</td>\n",
       "      <td>0</td>\n",
       "      <td>0</td>\n",
       "      <td>0</td>\n",
       "    </tr>\n",
       "    <tr>\n",
       "      <th>19</th>\n",
       "      <td>6</td>\n",
       "      <td>1961</td>\n",
       "      <td>1</td>\n",
       "      <td>0</td>\n",
       "      <td>0</td>\n",
       "      <td>0</td>\n",
       "      <td>0</td>\n",
       "    </tr>\n",
       "    <tr>\n",
       "      <th>20</th>\n",
       "      <td>9</td>\n",
       "      <td>1961</td>\n",
       "      <td>0</td>\n",
       "      <td>0</td>\n",
       "      <td>1</td>\n",
       "      <td>0</td>\n",
       "      <td>0</td>\n",
       "    </tr>\n",
       "    <tr>\n",
       "      <th>21</th>\n",
       "      <td>11</td>\n",
       "      <td>1962</td>\n",
       "      <td>0</td>\n",
       "      <td>1</td>\n",
       "      <td>0</td>\n",
       "      <td>0</td>\n",
       "      <td>0</td>\n",
       "    </tr>\n",
       "    <tr>\n",
       "      <th>22</th>\n",
       "      <td>12</td>\n",
       "      <td>1962</td>\n",
       "      <td>0</td>\n",
       "      <td>1</td>\n",
       "      <td>0</td>\n",
       "      <td>0</td>\n",
       "      <td>0</td>\n",
       "    </tr>\n",
       "    <tr>\n",
       "      <th>23</th>\n",
       "      <td>8</td>\n",
       "      <td>1964</td>\n",
       "      <td>0</td>\n",
       "      <td>1</td>\n",
       "      <td>0</td>\n",
       "      <td>0</td>\n",
       "      <td>0</td>\n",
       "    </tr>\n",
       "    <tr>\n",
       "      <th>24</th>\n",
       "      <td>8</td>\n",
       "      <td>1966</td>\n",
       "      <td>0</td>\n",
       "      <td>0</td>\n",
       "      <td>1</td>\n",
       "      <td>0</td>\n",
       "      <td>0</td>\n",
       "    </tr>\n",
       "    <tr>\n",
       "      <th>25</th>\n",
       "      <td>5</td>\n",
       "      <td>1967</td>\n",
       "      <td>0</td>\n",
       "      <td>0</td>\n",
       "      <td>1</td>\n",
       "      <td>0</td>\n",
       "      <td>0</td>\n",
       "    </tr>\n",
       "    <tr>\n",
       "      <th>26</th>\n",
       "      <td>8</td>\n",
       "      <td>1967</td>\n",
       "      <td>1</td>\n",
       "      <td>0</td>\n",
       "      <td>0</td>\n",
       "      <td>0</td>\n",
       "      <td>0</td>\n",
       "    </tr>\n",
       "    <tr>\n",
       "      <th>27</th>\n",
       "      <td>7</td>\n",
       "      <td>1968</td>\n",
       "      <td>0</td>\n",
       "      <td>0</td>\n",
       "      <td>1</td>\n",
       "      <td>0</td>\n",
       "      <td>0</td>\n",
       "    </tr>\n",
       "    <tr>\n",
       "      <th>28</th>\n",
       "      <td>8</td>\n",
       "      <td>1969</td>\n",
       "      <td>0</td>\n",
       "      <td>1</td>\n",
       "      <td>0</td>\n",
       "      <td>0</td>\n",
       "      <td>0</td>\n",
       "    </tr>\n",
       "    <tr>\n",
       "      <th>29</th>\n",
       "      <td>5</td>\n",
       "      <td>1970</td>\n",
       "      <td>0</td>\n",
       "      <td>0</td>\n",
       "      <td>1</td>\n",
       "      <td>0</td>\n",
       "      <td>0</td>\n",
       "    </tr>\n",
       "    <tr>\n",
       "      <th>30</th>\n",
       "      <td>6</td>\n",
       "      <td>1970</td>\n",
       "      <td>0</td>\n",
       "      <td>0</td>\n",
       "      <td>1</td>\n",
       "      <td>0</td>\n",
       "      <td>0</td>\n",
       "    </tr>\n",
       "    <tr>\n",
       "      <th>31</th>\n",
       "      <td>9</td>\n",
       "      <td>1970</td>\n",
       "      <td>0</td>\n",
       "      <td>0</td>\n",
       "      <td>0</td>\n",
       "      <td>1</td>\n",
       "      <td>0</td>\n",
       "    </tr>\n",
       "    <tr>\n",
       "      <th>32</th>\n",
       "      <td>10</td>\n",
       "      <td>1971</td>\n",
       "      <td>0</td>\n",
       "      <td>0</td>\n",
       "      <td>1</td>\n",
       "      <td>0</td>\n",
       "      <td>0</td>\n",
       "    </tr>\n",
       "    <tr>\n",
       "      <th>33</th>\n",
       "      <td>7</td>\n",
       "      <td>1973</td>\n",
       "      <td>0</td>\n",
       "      <td>0</td>\n",
       "      <td>1</td>\n",
       "      <td>0</td>\n",
       "      <td>0</td>\n",
       "    </tr>\n",
       "    <tr>\n",
       "      <th>34</th>\n",
       "      <td>10</td>\n",
       "      <td>1973</td>\n",
       "      <td>0</td>\n",
       "      <td>0</td>\n",
       "      <td>0</td>\n",
       "      <td>1</td>\n",
       "      <td>0</td>\n",
       "    </tr>\n",
       "    <tr>\n",
       "      <th>35</th>\n",
       "      <td>3</td>\n",
       "      <td>1974</td>\n",
       "      <td>1</td>\n",
       "      <td>0</td>\n",
       "      <td>0</td>\n",
       "      <td>0</td>\n",
       "      <td>0</td>\n",
       "    </tr>\n",
       "    <tr>\n",
       "      <th>36</th>\n",
       "      <td>10</td>\n",
       "      <td>1974</td>\n",
       "      <td>0</td>\n",
       "      <td>0</td>\n",
       "      <td>1</td>\n",
       "      <td>0</td>\n",
       "      <td>0</td>\n",
       "    </tr>\n",
       "    <tr>\n",
       "      <th>37</th>\n",
       "      <td>8</td>\n",
       "      <td>1975</td>\n",
       "      <td>0</td>\n",
       "      <td>1</td>\n",
       "      <td>0</td>\n",
       "      <td>0</td>\n",
       "      <td>0</td>\n",
       "    </tr>\n",
       "    <tr>\n",
       "      <th>38</th>\n",
       "      <td>3</td>\n",
       "      <td>1977</td>\n",
       "      <td>0</td>\n",
       "      <td>0</td>\n",
       "      <td>1</td>\n",
       "      <td>0</td>\n",
       "      <td>0</td>\n",
       "    </tr>\n",
       "    <tr>\n",
       "      <th>39</th>\n",
       "      <td>8</td>\n",
       "      <td>1977</td>\n",
       "      <td>0</td>\n",
       "      <td>1</td>\n",
       "      <td>0</td>\n",
       "      <td>0</td>\n",
       "      <td>0</td>\n",
       "    </tr>\n",
       "    <tr>\n",
       "      <th>40</th>\n",
       "      <td>9</td>\n",
       "      <td>1978</td>\n",
       "      <td>0</td>\n",
       "      <td>0</td>\n",
       "      <td>1</td>\n",
       "      <td>0</td>\n",
       "      <td>0</td>\n",
       "    </tr>\n",
       "    <tr>\n",
       "      <th>41</th>\n",
       "      <td>8</td>\n",
       "      <td>1980</td>\n",
       "      <td>1</td>\n",
       "      <td>0</td>\n",
       "      <td>0</td>\n",
       "      <td>0</td>\n",
       "      <td>0</td>\n",
       "    </tr>\n",
       "    <tr>\n",
       "      <th>42</th>\n",
       "      <td>5</td>\n",
       "      <td>1982</td>\n",
       "      <td>0</td>\n",
       "      <td>0</td>\n",
       "      <td>0</td>\n",
       "      <td>1</td>\n",
       "      <td>0</td>\n",
       "    </tr>\n",
       "    <tr>\n",
       "      <th>43</th>\n",
       "      <td>6</td>\n",
       "      <td>1982</td>\n",
       "      <td>0</td>\n",
       "      <td>0</td>\n",
       "      <td>1</td>\n",
       "      <td>0</td>\n",
       "      <td>0</td>\n",
       "    </tr>\n",
       "    <tr>\n",
       "      <th>44</th>\n",
       "      <td>5</td>\n",
       "      <td>1986</td>\n",
       "      <td>1</td>\n",
       "      <td>0</td>\n",
       "      <td>0</td>\n",
       "      <td>0</td>\n",
       "      <td>0</td>\n",
       "    </tr>\n",
       "    <tr>\n",
       "      <th>45</th>\n",
       "      <td>4</td>\n",
       "      <td>1994</td>\n",
       "      <td>0</td>\n",
       "      <td>0</td>\n",
       "      <td>0</td>\n",
       "      <td>1</td>\n",
       "      <td>0</td>\n",
       "    </tr>\n",
       "    <tr>\n",
       "      <th>46</th>\n",
       "      <td>5</td>\n",
       "      <td>1994</td>\n",
       "      <td>0</td>\n",
       "      <td>0</td>\n",
       "      <td>1</td>\n",
       "      <td>0</td>\n",
       "      <td>0</td>\n",
       "    </tr>\n",
       "    <tr>\n",
       "      <th>47</th>\n",
       "      <td>6</td>\n",
       "      <td>2000</td>\n",
       "      <td>0</td>\n",
       "      <td>0</td>\n",
       "      <td>0</td>\n",
       "      <td>0</td>\n",
       "      <td>1</td>\n",
       "    </tr>\n",
       "    <tr>\n",
       "      <th>48</th>\n",
       "      <td>7</td>\n",
       "      <td>2002</td>\n",
       "      <td>0</td>\n",
       "      <td>0</td>\n",
       "      <td>1</td>\n",
       "      <td>0</td>\n",
       "      <td>0</td>\n",
       "    </tr>\n",
       "    <tr>\n",
       "      <th>49</th>\n",
       "      <td>7</td>\n",
       "      <td>2014</td>\n",
       "      <td>0</td>\n",
       "      <td>0</td>\n",
       "      <td>1</td>\n",
       "      <td>0</td>\n",
       "      <td>0</td>\n",
       "    </tr>\n",
       "    <tr>\n",
       "      <th>50</th>\n",
       "      <td>10</td>\n",
       "      <td>2014</td>\n",
       "      <td>0</td>\n",
       "      <td>0</td>\n",
       "      <td>1</td>\n",
       "      <td>0</td>\n",
       "      <td>0</td>\n",
       "    </tr>\n",
       "    <tr>\n",
       "      <th>51</th>\n",
       "      <td>9</td>\n",
       "      <td>2017</td>\n",
       "      <td>0</td>\n",
       "      <td>0</td>\n",
       "      <td>1</td>\n",
       "      <td>0</td>\n",
       "      <td>0</td>\n",
       "    </tr>\n",
       "  </tbody>\n",
       "</table>\n",
       "</div>"
      ],
      "text/plain": [
       "    accident_month  accident_year  session_test  session_practice  \\\n",
       "0                6           1952             1                 0   \n",
       "1                5           1953             0                 1   \n",
       "2                9           1953             0                 1   \n",
       "3                7           1954             0                 1   \n",
       "4                4           1955             0                 0   \n",
       "5                5           1955             0                 1   \n",
       "6                5           1955             0                 0   \n",
       "7                3           1957             1                 0   \n",
       "8                5           1957             0                 1   \n",
       "9                5           1958             0                 0   \n",
       "10               7           1958             0                 0   \n",
       "11               8           1958             0                 0   \n",
       "12              10           1958             0                 0   \n",
       "13               5           1959             0                 1   \n",
       "14               5           1959             0                 1   \n",
       "15               5           1960             0                 1   \n",
       "16               6           1960             0                 0   \n",
       "17               6           1960             0                 0   \n",
       "18               6           1961             0                 1   \n",
       "19               6           1961             1                 0   \n",
       "20               9           1961             0                 0   \n",
       "21              11           1962             0                 1   \n",
       "22              12           1962             0                 1   \n",
       "23               8           1964             0                 1   \n",
       "24               8           1966             0                 0   \n",
       "25               5           1967             0                 0   \n",
       "26               8           1967             1                 0   \n",
       "27               7           1968             0                 0   \n",
       "28               8           1969             0                 1   \n",
       "29               5           1970             0                 0   \n",
       "30               6           1970             0                 0   \n",
       "31               9           1970             0                 0   \n",
       "32              10           1971             0                 0   \n",
       "33               7           1973             0                 0   \n",
       "34              10           1973             0                 0   \n",
       "35               3           1974             1                 0   \n",
       "36              10           1974             0                 0   \n",
       "37               8           1975             0                 1   \n",
       "38               3           1977             0                 0   \n",
       "39               8           1977             0                 1   \n",
       "40               9           1978             0                 0   \n",
       "41               8           1980             1                 0   \n",
       "42               5           1982             0                 0   \n",
       "43               6           1982             0                 0   \n",
       "44               5           1986             1                 0   \n",
       "45               4           1994             0                 0   \n",
       "46               5           1994             0                 0   \n",
       "47               6           2000             0                 0   \n",
       "48               7           2002             0                 0   \n",
       "49               7           2014             0                 0   \n",
       "50              10           2014             0                 0   \n",
       "51               9           2017             0                 0   \n",
       "\n",
       "    session_race  session_qualifying  session_run  \n",
       "0              0                   0            0  \n",
       "1              0                   0            0  \n",
       "2              0                   0            0  \n",
       "3              0                   0            0  \n",
       "4              1                   0            0  \n",
       "5              0                   0            0  \n",
       "6              1                   0            0  \n",
       "7              0                   0            0  \n",
       "8              0                   0            0  \n",
       "9              1                   0            0  \n",
       "10             1                   0            0  \n",
       "11             1                   0            0  \n",
       "12             1                   0            0  \n",
       "13             0                   0            0  \n",
       "14             0                   0            0  \n",
       "15             0                   0            0  \n",
       "16             1                   0            0  \n",
       "17             1                   0            0  \n",
       "18             0                   0            0  \n",
       "19             0                   0            0  \n",
       "20             1                   0            0  \n",
       "21             0                   0            0  \n",
       "22             0                   0            0  \n",
       "23             0                   0            0  \n",
       "24             1                   0            0  \n",
       "25             1                   0            0  \n",
       "26             0                   0            0  \n",
       "27             1                   0            0  \n",
       "28             0                   0            0  \n",
       "29             1                   0            0  \n",
       "30             1                   0            0  \n",
       "31             0                   1            0  \n",
       "32             1                   0            0  \n",
       "33             1                   0            0  \n",
       "34             0                   1            0  \n",
       "35             0                   0            0  \n",
       "36             1                   0            0  \n",
       "37             0                   0            0  \n",
       "38             1                   0            0  \n",
       "39             0                   0            0  \n",
       "40             1                   0            0  \n",
       "41             0                   0            0  \n",
       "42             0                   1            0  \n",
       "43             1                   0            0  \n",
       "44             0                   0            0  \n",
       "45             0                   1            0  \n",
       "46             1                   0            0  \n",
       "47             0                   0            1  \n",
       "48             1                   0            0  \n",
       "49             1                   0            0  \n",
       "50             1                   0            0  \n",
       "51             1                   0            0  "
      ]
     },
     "execution_count": 6,
     "metadata": {},
     "output_type": "execute_result"
    }
   ],
   "source": [
    "encoder = ce.OneHotEncoder(use_cat_names=True)\n",
    "crash_encoded = encoder.fit_transform(drop_crash)\n",
    "\n",
    "crash_encoded\n",
    "\n",
    "\n"
   ]
  },
  {
   "cell_type": "code",
   "execution_count": 7,
   "metadata": {},
   "outputs": [
    {
     "data": {
      "text/html": [
       "<div>\n",
       "<style scoped>\n",
       "    .dataframe tbody tr th:only-of-type {\n",
       "        vertical-align: middle;\n",
       "    }\n",
       "\n",
       "    .dataframe tbody tr th {\n",
       "        vertical-align: top;\n",
       "    }\n",
       "\n",
       "    .dataframe thead th {\n",
       "        text-align: right;\n",
       "    }\n",
       "</style>\n",
       "<table border=\"1\" class=\"dataframe\">\n",
       "  <thead>\n",
       "    <tr style=\"text-align: right;\">\n",
       "      <th></th>\n",
       "      <th>accident_month</th>\n",
       "      <th>accident_year</th>\n",
       "      <th>session_test</th>\n",
       "      <th>session_practice</th>\n",
       "      <th>session_race</th>\n",
       "      <th>session_qualifying</th>\n",
       "      <th>session_run</th>\n",
       "      <th>driver</th>\n",
       "    </tr>\n",
       "  </thead>\n",
       "  <tbody>\n",
       "    <tr>\n",
       "      <th>0</th>\n",
       "      <td>6</td>\n",
       "      <td>1952</td>\n",
       "      <td>1</td>\n",
       "      <td>0</td>\n",
       "      <td>0</td>\n",
       "      <td>0</td>\n",
       "      <td>0</td>\n",
       "      <td>Cameron Earl</td>\n",
       "    </tr>\n",
       "    <tr>\n",
       "      <th>1</th>\n",
       "      <td>5</td>\n",
       "      <td>1953</td>\n",
       "      <td>0</td>\n",
       "      <td>1</td>\n",
       "      <td>0</td>\n",
       "      <td>0</td>\n",
       "      <td>0</td>\n",
       "      <td>Chet Miller</td>\n",
       "    </tr>\n",
       "    <tr>\n",
       "      <th>2</th>\n",
       "      <td>9</td>\n",
       "      <td>1953</td>\n",
       "      <td>0</td>\n",
       "      <td>1</td>\n",
       "      <td>0</td>\n",
       "      <td>0</td>\n",
       "      <td>0</td>\n",
       "      <td>Charles de Tornaco</td>\n",
       "    </tr>\n",
       "    <tr>\n",
       "      <th>3</th>\n",
       "      <td>7</td>\n",
       "      <td>1954</td>\n",
       "      <td>0</td>\n",
       "      <td>1</td>\n",
       "      <td>0</td>\n",
       "      <td>0</td>\n",
       "      <td>0</td>\n",
       "      <td>Onofre Marimón</td>\n",
       "    </tr>\n",
       "    <tr>\n",
       "      <th>4</th>\n",
       "      <td>4</td>\n",
       "      <td>1955</td>\n",
       "      <td>0</td>\n",
       "      <td>0</td>\n",
       "      <td>1</td>\n",
       "      <td>0</td>\n",
       "      <td>0</td>\n",
       "      <td>Mario Alborghetti</td>\n",
       "    </tr>\n",
       "  </tbody>\n",
       "</table>\n",
       "</div>"
      ],
      "text/plain": [
       "   accident_month  accident_year  session_test  session_practice  \\\n",
       "0               6           1952             1                 0   \n",
       "1               5           1953             0                 1   \n",
       "2               9           1953             0                 1   \n",
       "3               7           1954             0                 1   \n",
       "4               4           1955             0                 0   \n",
       "\n",
       "   session_race  session_qualifying  session_run              driver  \n",
       "0             0                   0            0        Cameron Earl  \n",
       "1             0                   0            0         Chet Miller  \n",
       "2             0                   0            0  Charles de Tornaco  \n",
       "3             0                   0            0      Onofre Marimón  \n",
       "4             1                   0            0   Mario Alborghetti  "
      ]
     },
     "execution_count": 7,
     "metadata": {},
     "output_type": "execute_result"
    }
   ],
   "source": [
    "driver = crash_df[\"driver\"]\n",
    "crash_encoded = crash_encoded.join(driver)\n",
    "crash_encoded.head()\n"
   ]
  },
  {
   "cell_type": "code",
   "execution_count": 8,
   "metadata": {},
   "outputs": [],
   "source": [
    "car = crash_df[\"car\"]\n",
    "event = crash_df[\"event\"]\n",
    "circuit = crash_df[\"circuit\"]\n",
    "driver_nationality = crash_df[\"driver_nationality\"]"
   ]
  },
  {
   "cell_type": "code",
   "execution_count": 9,
   "metadata": {},
   "outputs": [],
   "source": [
    "crash_encoded = crash_encoded.join(car)\n",
    "crash_encoded = crash_encoded.join(event)\n",
    "crash_encoded = crash_encoded.join(circuit)\n",
    "crash_encoded = crash_encoded.join(driver_nationality)"
   ]
  },
  {
   "cell_type": "code",
   "execution_count": 10,
   "metadata": {},
   "outputs": [
    {
     "data": {
      "text/html": [
       "<div>\n",
       "<style scoped>\n",
       "    .dataframe tbody tr th:only-of-type {\n",
       "        vertical-align: middle;\n",
       "    }\n",
       "\n",
       "    .dataframe tbody tr th {\n",
       "        vertical-align: top;\n",
       "    }\n",
       "\n",
       "    .dataframe thead th {\n",
       "        text-align: right;\n",
       "    }\n",
       "</style>\n",
       "<table border=\"1\" class=\"dataframe\">\n",
       "  <thead>\n",
       "    <tr style=\"text-align: right;\">\n",
       "      <th></th>\n",
       "      <th>accident_month</th>\n",
       "      <th>accident_year</th>\n",
       "      <th>session_test</th>\n",
       "      <th>session_practice</th>\n",
       "      <th>session_race</th>\n",
       "      <th>session_qualifying</th>\n",
       "      <th>session_run</th>\n",
       "      <th>driver</th>\n",
       "      <th>car</th>\n",
       "      <th>event</th>\n",
       "      <th>circuit</th>\n",
       "      <th>driver_nationality</th>\n",
       "    </tr>\n",
       "  </thead>\n",
       "  <tbody>\n",
       "    <tr>\n",
       "      <th>0</th>\n",
       "      <td>6</td>\n",
       "      <td>1952</td>\n",
       "      <td>1</td>\n",
       "      <td>0</td>\n",
       "      <td>0</td>\n",
       "      <td>0</td>\n",
       "      <td>0</td>\n",
       "      <td>Cameron Earl</td>\n",
       "      <td>ERA</td>\n",
       "      <td>Test</td>\n",
       "      <td>MIRA</td>\n",
       "      <td>UK</td>\n",
       "    </tr>\n",
       "    <tr>\n",
       "      <th>1</th>\n",
       "      <td>5</td>\n",
       "      <td>1953</td>\n",
       "      <td>0</td>\n",
       "      <td>1</td>\n",
       "      <td>0</td>\n",
       "      <td>0</td>\n",
       "      <td>0</td>\n",
       "      <td>Chet Miller</td>\n",
       "      <td>Kurtis Kraft</td>\n",
       "      <td>Indianapolis 500</td>\n",
       "      <td>Indianapolis Motor Speedway</td>\n",
       "      <td>USA</td>\n",
       "    </tr>\n",
       "    <tr>\n",
       "      <th>2</th>\n",
       "      <td>9</td>\n",
       "      <td>1953</td>\n",
       "      <td>0</td>\n",
       "      <td>1</td>\n",
       "      <td>0</td>\n",
       "      <td>0</td>\n",
       "      <td>0</td>\n",
       "      <td>Charles de Tornaco</td>\n",
       "      <td>Ferrari Tipo 500</td>\n",
       "      <td>Modena Grand Prix</td>\n",
       "      <td>Autodromo di Modena</td>\n",
       "      <td>Belgium</td>\n",
       "    </tr>\n",
       "    <tr>\n",
       "      <th>3</th>\n",
       "      <td>7</td>\n",
       "      <td>1954</td>\n",
       "      <td>0</td>\n",
       "      <td>1</td>\n",
       "      <td>0</td>\n",
       "      <td>0</td>\n",
       "      <td>0</td>\n",
       "      <td>Onofre Marimón</td>\n",
       "      <td>Maserati 250F</td>\n",
       "      <td>German Grand Prix</td>\n",
       "      <td>Nürburgring</td>\n",
       "      <td>Argentina</td>\n",
       "    </tr>\n",
       "    <tr>\n",
       "      <th>4</th>\n",
       "      <td>4</td>\n",
       "      <td>1955</td>\n",
       "      <td>0</td>\n",
       "      <td>0</td>\n",
       "      <td>1</td>\n",
       "      <td>0</td>\n",
       "      <td>0</td>\n",
       "      <td>Mario Alborghetti</td>\n",
       "      <td>Maserati 4CLT</td>\n",
       "      <td>Pau Grand Prix</td>\n",
       "      <td>Circuit de Pau-Ville</td>\n",
       "      <td>Italy</td>\n",
       "    </tr>\n",
       "  </tbody>\n",
       "</table>\n",
       "</div>"
      ],
      "text/plain": [
       "   accident_month  accident_year  session_test  session_practice  \\\n",
       "0               6           1952             1                 0   \n",
       "1               5           1953             0                 1   \n",
       "2               9           1953             0                 1   \n",
       "3               7           1954             0                 1   \n",
       "4               4           1955             0                 0   \n",
       "\n",
       "   session_race  session_qualifying  session_run              driver  \\\n",
       "0             0                   0            0        Cameron Earl   \n",
       "1             0                   0            0         Chet Miller   \n",
       "2             0                   0            0  Charles de Tornaco   \n",
       "3             0                   0            0      Onofre Marimón   \n",
       "4             1                   0            0   Mario Alborghetti   \n",
       "\n",
       "                car              event                      circuit  \\\n",
       "0               ERA               Test                         MIRA   \n",
       "1      Kurtis Kraft   Indianapolis 500  Indianapolis Motor Speedway   \n",
       "2  Ferrari Tipo 500  Modena Grand Prix          Autodromo di Modena   \n",
       "3     Maserati 250F  German Grand Prix                  Nürburgring   \n",
       "4     Maserati 4CLT     Pau Grand Prix         Circuit de Pau-Ville   \n",
       "\n",
       "  driver_nationality  \n",
       "0                 UK  \n",
       "1                USA  \n",
       "2            Belgium  \n",
       "3          Argentina  \n",
       "4              Italy  "
      ]
     },
     "execution_count": 10,
     "metadata": {},
     "output_type": "execute_result"
    }
   ],
   "source": [
    "crash_encoded.head()"
   ]
  },
  {
   "cell_type": "code",
   "execution_count": 29,
   "metadata": {},
   "outputs": [
    {
     "data": {
      "application/vnd.plotly.v1+json": {
       "config": {
        "plotlyServerURL": "https://plot.ly"
       },
       "data": [
        {
         "hovertemplate": "<b>%{hovertext}</b><br><br>driver_nationality=UK<br>accident_year=%{x}<br>accident_month=%{y}<extra></extra>",
         "hovertext": [
          "Cameron Earl",
          "Peter Collins",
          "Stuart Lewis-Evans",
          "Chris Bristow",
          "Alan Stacey",
          "Shane Summers",
          "John Taylor",
          "Bob Anderson",
          "Martin Brain",
          "Piers Courage",
          "Roger Williamson",
          "Tom Pryce",
          "John Dawson-Damer",
          "Denis Welch"
         ],
         "legendgroup": "UK",
         "marker": {
          "color": "#FD3216",
          "size": 16,
          "symbol": "circle"
         },
         "mode": "markers",
         "name": "UK",
         "orientation": "v",
         "showlegend": true,
         "type": "scatter",
         "x": [
          1952,
          1958,
          1958,
          1960,
          1960,
          1961,
          1966,
          1967,
          1970,
          1970,
          1973,
          1977,
          2000,
          2014
         ],
         "xaxis": "x",
         "y": [
          6,
          8,
          10,
          6,
          6,
          6,
          8,
          8,
          5,
          6,
          7,
          3,
          6,
          7
         ],
         "yaxis": "y"
        },
        {
         "hovertemplate": "<b>%{hovertext}</b><br><br>driver_nationality=USA<br>accident_year=%{x}<br>accident_month=%{y}<extra></extra>",
         "hovertext": [
          "Chet Miller",
          "Manny Ayulo",
          "Bill Vukovich",
          " Keith Andrews",
          "Pat O'Connor",
          "Jerry Unser Jr.",
          "Bob Cortner",
          "Harry Schell",
          "Peter Revson",
          "Mark Donohue"
         ],
         "legendgroup": "USA",
         "marker": {
          "color": "#00FE35",
          "size": 16,
          "symbol": "circle"
         },
         "mode": "markers",
         "name": "USA",
         "orientation": "v",
         "showlegend": true,
         "type": "scatter",
         "x": [
          1953,
          1955,
          1955,
          1957,
          1958,
          1959,
          1959,
          1960,
          1974,
          1975
         ],
         "xaxis": "x",
         "y": [
          5,
          5,
          5,
          5,
          5,
          5,
          5,
          5,
          3,
          8
         ],
         "yaxis": "y"
        },
        {
         "hovertemplate": "<b>%{hovertext}</b><br><br>driver_nationality=Belgium<br>accident_year=%{x}<br>accident_month=%{y}<extra></extra>",
         "hovertext": [
          "Charles de Tornaco"
         ],
         "legendgroup": "Belgium",
         "marker": {
          "color": "#6A76FC",
          "size": 16,
          "symbol": "circle"
         },
         "mode": "markers",
         "name": "Belgium",
         "orientation": "v",
         "showlegend": true,
         "type": "scatter",
         "x": [
          1953
         ],
         "xaxis": "x",
         "y": [
          9
         ],
         "yaxis": "y"
        },
        {
         "hovertemplate": "<b>%{hovertext}</b><br><br>driver_nationality=Argentina<br>accident_year=%{x}<br>accident_month=%{y}<extra></extra>",
         "hovertext": [
          "Onofre Marimón"
         ],
         "legendgroup": "Argentina",
         "marker": {
          "color": "#FED4C4",
          "size": 16,
          "symbol": "circle"
         },
         "mode": "markers",
         "name": "Argentina",
         "orientation": "v",
         "showlegend": true,
         "type": "scatter",
         "x": [
          1954
         ],
         "xaxis": "x",
         "y": [
          7
         ],
         "yaxis": "y"
        },
        {
         "hovertemplate": "<b>%{hovertext}</b><br><br>driver_nationality=Italy<br>accident_year=%{x}<br>accident_month=%{y}<extra></extra>",
         "hovertext": [
          "Mario Alborghetti",
          "Eugenio Castellotti",
          "Luigi Musso",
          "Giulio Cabianca",
          "Lorenzo Bandini",
          "Riccardo Paletti",
          "Elio de Angelis"
         ],
         "legendgroup": "Italy",
         "marker": {
          "color": "#FE00CE",
          "size": 16,
          "symbol": "circle"
         },
         "mode": "markers",
         "name": "Italy",
         "orientation": "v",
         "showlegend": true,
         "type": "scatter",
         "x": [
          1955,
          1957,
          1958,
          1961,
          1967,
          1982,
          1986
         ],
         "xaxis": "x",
         "y": [
          4,
          3,
          7,
          6,
          5,
          6,
          5
         ],
         "yaxis": "y"
        },
        {
         "hovertemplate": "<b>%{hovertext}</b><br><br>driver_nationality=Germany<br>accident_year=%{x}<br>accident_month=%{y}<extra></extra>",
         "hovertext": [
          "Wolfgang von Trips",
          "Gerhard Mitter"
         ],
         "legendgroup": "Germany",
         "marker": {
          "color": "#0DF9FF",
          "size": 16,
          "symbol": "circle"
         },
         "mode": "markers",
         "name": "Germany",
         "orientation": "v",
         "showlegend": true,
         "type": "scatter",
         "x": [
          1961,
          1969
         ],
         "xaxis": "x",
         "y": [
          9,
          8
         ],
         "yaxis": "y"
        },
        {
         "hovertemplate": "<b>%{hovertext}</b><br><br>driver_nationality=Mexico<br>accident_year=%{x}<br>accident_month=%{y}<extra></extra>",
         "hovertext": [
          "Ricardo Rodríguez"
         ],
         "legendgroup": "Mexico",
         "marker": {
          "color": "#F6F926",
          "size": 16,
          "symbol": "circle"
         },
         "mode": "markers",
         "name": "Mexico",
         "orientation": "v",
         "showlegend": true,
         "type": "scatter",
         "x": [
          1962
         ],
         "xaxis": "x",
         "y": [
          11
         ],
         "yaxis": "y"
        },
        {
         "hovertemplate": "<b>%{hovertext}</b><br><br>driver_nationality=France<br>accident_year=%{x}<br>accident_month=%{y}<extra></extra>",
         "hovertext": [
          "Gary Hocking",
          "Jo Schlesser",
          "François Cevert",
          "Patrick Depailler",
          "Jules Bianchi",
          "David Ferrer"
         ],
         "legendgroup": "France",
         "marker": {
          "color": "#FF9616",
          "size": 16,
          "symbol": "circle"
         },
         "mode": "markers",
         "name": "France",
         "orientation": "v",
         "showlegend": true,
         "type": "scatter",
         "x": [
          1962,
          1968,
          1973,
          1980,
          2014,
          2017
         ],
         "xaxis": "x",
         "y": [
          12,
          7,
          10,
          8,
          10,
          9
         ],
         "yaxis": "y"
        },
        {
         "hovertemplate": "<b>%{hovertext}</b><br><br>driver_nationality=Netherlands<br>accident_year=%{x}<br>accident_month=%{y}<extra></extra>",
         "hovertext": [
          "Carel Godin de Beaufort"
         ],
         "legendgroup": "Netherlands",
         "marker": {
          "color": "#479B55",
          "size": 16,
          "symbol": "circle"
         },
         "mode": "markers",
         "name": "Netherlands",
         "orientation": "v",
         "showlegend": true,
         "type": "scatter",
         "x": [
          1964
         ],
         "xaxis": "x",
         "y": [
          8
         ],
         "yaxis": "y"
        },
        {
         "hovertemplate": "<b>%{hovertext}</b><br><br>driver_nationality=Austria<br>accident_year=%{x}<br>accident_month=%{y}<extra></extra>",
         "hovertext": [
          "Jochen Rindt",
          "Helmuth Koinigg",
          "Roland Ratzenberger",
          "Fritz Glatz"
         ],
         "legendgroup": "Austria",
         "marker": {
          "color": "#EEA6FB",
          "size": 16,
          "symbol": "circle"
         },
         "mode": "markers",
         "name": "Austria",
         "orientation": "v",
         "showlegend": true,
         "type": "scatter",
         "x": [
          1970,
          1974,
          1994,
          2002
         ],
         "xaxis": "x",
         "y": [
          9,
          10,
          4,
          7
         ],
         "yaxis": "y"
        },
        {
         "hovertemplate": "<b>%{hovertext}</b><br><br>driver_nationality=Switzerland<br>accident_year=%{x}<br>accident_month=%{y}<extra></extra>",
         "hovertext": [
          "Jo Siffert"
         ],
         "legendgroup": "Switzerland",
         "marker": {
          "color": "#DC587D",
          "size": 16,
          "symbol": "circle"
         },
         "mode": "markers",
         "name": "Switzerland",
         "orientation": "v",
         "showlegend": true,
         "type": "scatter",
         "x": [
          1971
         ],
         "xaxis": "x",
         "y": [
          10
         ],
         "yaxis": "y"
        },
        {
         "hovertemplate": "<b>%{hovertext}</b><br><br>driver_nationality=Australia<br>accident_year=%{x}<br>accident_month=%{y}<extra></extra>",
         "hovertext": [
          "Brian McGuire"
         ],
         "legendgroup": "Australia",
         "marker": {
          "color": "#D626FF",
          "size": 16,
          "symbol": "circle"
         },
         "mode": "markers",
         "name": "Australia",
         "orientation": "v",
         "showlegend": true,
         "type": "scatter",
         "x": [
          1977
         ],
         "xaxis": "x",
         "y": [
          8
         ],
         "yaxis": "y"
        },
        {
         "hovertemplate": "<b>%{hovertext}</b><br><br>driver_nationality=Sweden<br>accident_year=%{x}<br>accident_month=%{y}<extra></extra>",
         "hovertext": [
          "Ronnie Peterson"
         ],
         "legendgroup": "Sweden",
         "marker": {
          "color": "#6E899C",
          "size": 16,
          "symbol": "circle"
         },
         "mode": "markers",
         "name": "Sweden",
         "orientation": "v",
         "showlegend": true,
         "type": "scatter",
         "x": [
          1978
         ],
         "xaxis": "x",
         "y": [
          9
         ],
         "yaxis": "y"
        },
        {
         "hovertemplate": "<b>%{hovertext}</b><br><br>driver_nationality=Canada<br>accident_year=%{x}<br>accident_month=%{y}<extra></extra>",
         "hovertext": [
          " Gilles Villeneuve"
         ],
         "legendgroup": "Canada",
         "marker": {
          "color": "#00B5F7",
          "size": 16,
          "symbol": "circle"
         },
         "mode": "markers",
         "name": "Canada",
         "orientation": "v",
         "showlegend": true,
         "type": "scatter",
         "x": [
          1982
         ],
         "xaxis": "x",
         "y": [
          5
         ],
         "yaxis": "y"
        },
        {
         "hovertemplate": "<b>%{hovertext}</b><br><br>driver_nationality=Brazil<br>accident_year=%{x}<br>accident_month=%{y}<extra></extra>",
         "hovertext": [
          "Ayrton Senna"
         ],
         "legendgroup": "Brazil",
         "marker": {
          "color": "#B68E00",
          "size": 16,
          "symbol": "circle"
         },
         "mode": "markers",
         "name": "Brazil",
         "orientation": "v",
         "showlegend": true,
         "type": "scatter",
         "x": [
          1994
         ],
         "xaxis": "x",
         "y": [
          5
         ],
         "yaxis": "y"
        }
       ],
       "layout": {
        "legend": {
         "title": {
          "text": "driver_nationality"
         },
         "tracegroupgap": 0
        },
        "template": {
         "data": {
          "bar": [
           {
            "error_x": {
             "color": "#2a3f5f"
            },
            "error_y": {
             "color": "#2a3f5f"
            },
            "marker": {
             "line": {
              "color": "#E5ECF6",
              "width": 0.5
             },
             "pattern": {
              "fillmode": "overlay",
              "size": 10,
              "solidity": 0.2
             }
            },
            "type": "bar"
           }
          ],
          "barpolar": [
           {
            "marker": {
             "line": {
              "color": "#E5ECF6",
              "width": 0.5
             },
             "pattern": {
              "fillmode": "overlay",
              "size": 10,
              "solidity": 0.2
             }
            },
            "type": "barpolar"
           }
          ],
          "carpet": [
           {
            "aaxis": {
             "endlinecolor": "#2a3f5f",
             "gridcolor": "white",
             "linecolor": "white",
             "minorgridcolor": "white",
             "startlinecolor": "#2a3f5f"
            },
            "baxis": {
             "endlinecolor": "#2a3f5f",
             "gridcolor": "white",
             "linecolor": "white",
             "minorgridcolor": "white",
             "startlinecolor": "#2a3f5f"
            },
            "type": "carpet"
           }
          ],
          "choropleth": [
           {
            "colorbar": {
             "outlinewidth": 0,
             "ticks": ""
            },
            "type": "choropleth"
           }
          ],
          "contour": [
           {
            "colorbar": {
             "outlinewidth": 0,
             "ticks": ""
            },
            "colorscale": [
             [
              0,
              "#0d0887"
             ],
             [
              0.1111111111111111,
              "#46039f"
             ],
             [
              0.2222222222222222,
              "#7201a8"
             ],
             [
              0.3333333333333333,
              "#9c179e"
             ],
             [
              0.4444444444444444,
              "#bd3786"
             ],
             [
              0.5555555555555556,
              "#d8576b"
             ],
             [
              0.6666666666666666,
              "#ed7953"
             ],
             [
              0.7777777777777778,
              "#fb9f3a"
             ],
             [
              0.8888888888888888,
              "#fdca26"
             ],
             [
              1,
              "#f0f921"
             ]
            ],
            "type": "contour"
           }
          ],
          "contourcarpet": [
           {
            "colorbar": {
             "outlinewidth": 0,
             "ticks": ""
            },
            "type": "contourcarpet"
           }
          ],
          "heatmap": [
           {
            "colorbar": {
             "outlinewidth": 0,
             "ticks": ""
            },
            "colorscale": [
             [
              0,
              "#0d0887"
             ],
             [
              0.1111111111111111,
              "#46039f"
             ],
             [
              0.2222222222222222,
              "#7201a8"
             ],
             [
              0.3333333333333333,
              "#9c179e"
             ],
             [
              0.4444444444444444,
              "#bd3786"
             ],
             [
              0.5555555555555556,
              "#d8576b"
             ],
             [
              0.6666666666666666,
              "#ed7953"
             ],
             [
              0.7777777777777778,
              "#fb9f3a"
             ],
             [
              0.8888888888888888,
              "#fdca26"
             ],
             [
              1,
              "#f0f921"
             ]
            ],
            "type": "heatmap"
           }
          ],
          "heatmapgl": [
           {
            "colorbar": {
             "outlinewidth": 0,
             "ticks": ""
            },
            "colorscale": [
             [
              0,
              "#0d0887"
             ],
             [
              0.1111111111111111,
              "#46039f"
             ],
             [
              0.2222222222222222,
              "#7201a8"
             ],
             [
              0.3333333333333333,
              "#9c179e"
             ],
             [
              0.4444444444444444,
              "#bd3786"
             ],
             [
              0.5555555555555556,
              "#d8576b"
             ],
             [
              0.6666666666666666,
              "#ed7953"
             ],
             [
              0.7777777777777778,
              "#fb9f3a"
             ],
             [
              0.8888888888888888,
              "#fdca26"
             ],
             [
              1,
              "#f0f921"
             ]
            ],
            "type": "heatmapgl"
           }
          ],
          "histogram": [
           {
            "marker": {
             "pattern": {
              "fillmode": "overlay",
              "size": 10,
              "solidity": 0.2
             }
            },
            "type": "histogram"
           }
          ],
          "histogram2d": [
           {
            "colorbar": {
             "outlinewidth": 0,
             "ticks": ""
            },
            "colorscale": [
             [
              0,
              "#0d0887"
             ],
             [
              0.1111111111111111,
              "#46039f"
             ],
             [
              0.2222222222222222,
              "#7201a8"
             ],
             [
              0.3333333333333333,
              "#9c179e"
             ],
             [
              0.4444444444444444,
              "#bd3786"
             ],
             [
              0.5555555555555556,
              "#d8576b"
             ],
             [
              0.6666666666666666,
              "#ed7953"
             ],
             [
              0.7777777777777778,
              "#fb9f3a"
             ],
             [
              0.8888888888888888,
              "#fdca26"
             ],
             [
              1,
              "#f0f921"
             ]
            ],
            "type": "histogram2d"
           }
          ],
          "histogram2dcontour": [
           {
            "colorbar": {
             "outlinewidth": 0,
             "ticks": ""
            },
            "colorscale": [
             [
              0,
              "#0d0887"
             ],
             [
              0.1111111111111111,
              "#46039f"
             ],
             [
              0.2222222222222222,
              "#7201a8"
             ],
             [
              0.3333333333333333,
              "#9c179e"
             ],
             [
              0.4444444444444444,
              "#bd3786"
             ],
             [
              0.5555555555555556,
              "#d8576b"
             ],
             [
              0.6666666666666666,
              "#ed7953"
             ],
             [
              0.7777777777777778,
              "#fb9f3a"
             ],
             [
              0.8888888888888888,
              "#fdca26"
             ],
             [
              1,
              "#f0f921"
             ]
            ],
            "type": "histogram2dcontour"
           }
          ],
          "mesh3d": [
           {
            "colorbar": {
             "outlinewidth": 0,
             "ticks": ""
            },
            "type": "mesh3d"
           }
          ],
          "parcoords": [
           {
            "line": {
             "colorbar": {
              "outlinewidth": 0,
              "ticks": ""
             }
            },
            "type": "parcoords"
           }
          ],
          "pie": [
           {
            "automargin": true,
            "type": "pie"
           }
          ],
          "scatter": [
           {
            "marker": {
             "colorbar": {
              "outlinewidth": 0,
              "ticks": ""
             }
            },
            "type": "scatter"
           }
          ],
          "scatter3d": [
           {
            "line": {
             "colorbar": {
              "outlinewidth": 0,
              "ticks": ""
             }
            },
            "marker": {
             "colorbar": {
              "outlinewidth": 0,
              "ticks": ""
             }
            },
            "type": "scatter3d"
           }
          ],
          "scattercarpet": [
           {
            "marker": {
             "colorbar": {
              "outlinewidth": 0,
              "ticks": ""
             }
            },
            "type": "scattercarpet"
           }
          ],
          "scattergeo": [
           {
            "marker": {
             "colorbar": {
              "outlinewidth": 0,
              "ticks": ""
             }
            },
            "type": "scattergeo"
           }
          ],
          "scattergl": [
           {
            "marker": {
             "colorbar": {
              "outlinewidth": 0,
              "ticks": ""
             }
            },
            "type": "scattergl"
           }
          ],
          "scattermapbox": [
           {
            "marker": {
             "colorbar": {
              "outlinewidth": 0,
              "ticks": ""
             }
            },
            "type": "scattermapbox"
           }
          ],
          "scatterpolar": [
           {
            "marker": {
             "colorbar": {
              "outlinewidth": 0,
              "ticks": ""
             }
            },
            "type": "scatterpolar"
           }
          ],
          "scatterpolargl": [
           {
            "marker": {
             "colorbar": {
              "outlinewidth": 0,
              "ticks": ""
             }
            },
            "type": "scatterpolargl"
           }
          ],
          "scatterternary": [
           {
            "marker": {
             "colorbar": {
              "outlinewidth": 0,
              "ticks": ""
             }
            },
            "type": "scatterternary"
           }
          ],
          "surface": [
           {
            "colorbar": {
             "outlinewidth": 0,
             "ticks": ""
            },
            "colorscale": [
             [
              0,
              "#0d0887"
             ],
             [
              0.1111111111111111,
              "#46039f"
             ],
             [
              0.2222222222222222,
              "#7201a8"
             ],
             [
              0.3333333333333333,
              "#9c179e"
             ],
             [
              0.4444444444444444,
              "#bd3786"
             ],
             [
              0.5555555555555556,
              "#d8576b"
             ],
             [
              0.6666666666666666,
              "#ed7953"
             ],
             [
              0.7777777777777778,
              "#fb9f3a"
             ],
             [
              0.8888888888888888,
              "#fdca26"
             ],
             [
              1,
              "#f0f921"
             ]
            ],
            "type": "surface"
           }
          ],
          "table": [
           {
            "cells": {
             "fill": {
              "color": "#EBF0F8"
             },
             "line": {
              "color": "white"
             }
            },
            "header": {
             "fill": {
              "color": "#C8D4E3"
             },
             "line": {
              "color": "white"
             }
            },
            "type": "table"
           }
          ]
         },
         "layout": {
          "annotationdefaults": {
           "arrowcolor": "#2a3f5f",
           "arrowhead": 0,
           "arrowwidth": 1
          },
          "autotypenumbers": "strict",
          "coloraxis": {
           "colorbar": {
            "outlinewidth": 0,
            "ticks": ""
           }
          },
          "colorscale": {
           "diverging": [
            [
             0,
             "#8e0152"
            ],
            [
             0.1,
             "#c51b7d"
            ],
            [
             0.2,
             "#de77ae"
            ],
            [
             0.3,
             "#f1b6da"
            ],
            [
             0.4,
             "#fde0ef"
            ],
            [
             0.5,
             "#f7f7f7"
            ],
            [
             0.6,
             "#e6f5d0"
            ],
            [
             0.7,
             "#b8e186"
            ],
            [
             0.8,
             "#7fbc41"
            ],
            [
             0.9,
             "#4d9221"
            ],
            [
             1,
             "#276419"
            ]
           ],
           "sequential": [
            [
             0,
             "#0d0887"
            ],
            [
             0.1111111111111111,
             "#46039f"
            ],
            [
             0.2222222222222222,
             "#7201a8"
            ],
            [
             0.3333333333333333,
             "#9c179e"
            ],
            [
             0.4444444444444444,
             "#bd3786"
            ],
            [
             0.5555555555555556,
             "#d8576b"
            ],
            [
             0.6666666666666666,
             "#ed7953"
            ],
            [
             0.7777777777777778,
             "#fb9f3a"
            ],
            [
             0.8888888888888888,
             "#fdca26"
            ],
            [
             1,
             "#f0f921"
            ]
           ],
           "sequentialminus": [
            [
             0,
             "#0d0887"
            ],
            [
             0.1111111111111111,
             "#46039f"
            ],
            [
             0.2222222222222222,
             "#7201a8"
            ],
            [
             0.3333333333333333,
             "#9c179e"
            ],
            [
             0.4444444444444444,
             "#bd3786"
            ],
            [
             0.5555555555555556,
             "#d8576b"
            ],
            [
             0.6666666666666666,
             "#ed7953"
            ],
            [
             0.7777777777777778,
             "#fb9f3a"
            ],
            [
             0.8888888888888888,
             "#fdca26"
            ],
            [
             1,
             "#f0f921"
            ]
           ]
          },
          "colorway": [
           "#636efa",
           "#EF553B",
           "#00cc96",
           "#ab63fa",
           "#FFA15A",
           "#19d3f3",
           "#FF6692",
           "#B6E880",
           "#FF97FF",
           "#FECB52"
          ],
          "font": {
           "color": "#2a3f5f"
          },
          "geo": {
           "bgcolor": "white",
           "lakecolor": "white",
           "landcolor": "#E5ECF6",
           "showlakes": true,
           "showland": true,
           "subunitcolor": "white"
          },
          "hoverlabel": {
           "align": "left"
          },
          "hovermode": "closest",
          "mapbox": {
           "style": "light"
          },
          "paper_bgcolor": "white",
          "plot_bgcolor": "#E5ECF6",
          "polar": {
           "angularaxis": {
            "gridcolor": "white",
            "linecolor": "white",
            "ticks": ""
           },
           "bgcolor": "#E5ECF6",
           "radialaxis": {
            "gridcolor": "white",
            "linecolor": "white",
            "ticks": ""
           }
          },
          "scene": {
           "xaxis": {
            "backgroundcolor": "#E5ECF6",
            "gridcolor": "white",
            "gridwidth": 2,
            "linecolor": "white",
            "showbackground": true,
            "ticks": "",
            "zerolinecolor": "white"
           },
           "yaxis": {
            "backgroundcolor": "#E5ECF6",
            "gridcolor": "white",
            "gridwidth": 2,
            "linecolor": "white",
            "showbackground": true,
            "ticks": "",
            "zerolinecolor": "white"
           },
           "zaxis": {
            "backgroundcolor": "#E5ECF6",
            "gridcolor": "white",
            "gridwidth": 2,
            "linecolor": "white",
            "showbackground": true,
            "ticks": "",
            "zerolinecolor": "white"
           }
          },
          "shapedefaults": {
           "line": {
            "color": "#2a3f5f"
           }
          },
          "ternary": {
           "aaxis": {
            "gridcolor": "white",
            "linecolor": "white",
            "ticks": ""
           },
           "baxis": {
            "gridcolor": "white",
            "linecolor": "white",
            "ticks": ""
           },
           "bgcolor": "#E5ECF6",
           "caxis": {
            "gridcolor": "white",
            "linecolor": "white",
            "ticks": ""
           }
          },
          "title": {
           "x": 0.05
          },
          "xaxis": {
           "automargin": true,
           "gridcolor": "white",
           "linecolor": "white",
           "ticks": "",
           "title": {
            "standoff": 15
           },
           "zerolinecolor": "white",
           "zerolinewidth": 2
          },
          "yaxis": {
           "automargin": true,
           "gridcolor": "white",
           "linecolor": "white",
           "ticks": "",
           "title": {
            "standoff": 15
           },
           "zerolinecolor": "white",
           "zerolinewidth": 2
          }
         }
        },
        "title": {
         "text": "Fatal Crashes since 1952"
        },
        "xaxis": {
         "anchor": "y",
         "domain": [
          0,
          1
         ],
         "title": {
          "text": "accident_year"
         },
         "type": "log"
        },
        "yaxis": {
         "anchor": "x",
         "domain": [
          0,
          1
         ],
         "title": {
          "text": "accident_month"
         }
        }
       }
      }
     },
     "metadata": {},
     "output_type": "display_data"
    }
   ],
   "source": [
    "#Plot bubble chart \n",
    "\n",
    "fig = px.scatter(crash_encoded, x=\"accident_year\", y=\"accident_month\", color= \"driver_nationality\", title=\"Fatal Crashes since 1952\", hover_name=\"driver\", log_x=True, size_max=60, color_discrete_sequence=px.colors.qualitative.Light24)\n",
    "fig.update_traces(marker=dict(size=16))\n",
    "fig.show()"
   ]
  },
  {
   "cell_type": "code",
   "execution_count": 30,
   "metadata": {},
   "outputs": [
    {
     "data": {
      "application/vnd.plotly.v1+json": {
       "config": {
        "plotlyServerURL": "https://plot.ly"
       },
       "data": [
        {
         "hovertemplate": "<b>%{hovertext}</b><br><br>car=ERA<br>accident_year=%{x}<br>accident_month=%{y}<extra></extra>",
         "hovertext": [
          "Cameron Earl"
         ],
         "legendgroup": "ERA",
         "marker": {
          "color": "#FD3216",
          "size": 16,
          "symbol": "circle"
         },
         "mode": "markers",
         "name": "ERA",
         "orientation": "v",
         "showlegend": true,
         "type": "scatter",
         "x": [
          1952
         ],
         "xaxis": "x",
         "y": [
          6
         ],
         "yaxis": "y"
        },
        {
         "hovertemplate": "<b>%{hovertext}</b><br><br>car=Kurtis Kraft<br>accident_year=%{x}<br>accident_month=%{y}<extra></extra>",
         "hovertext": [
          "Chet Miller",
          "Manny Ayulo",
          "Bill Vukovich",
          " Keith Andrews",
          "Pat O'Connor"
         ],
         "legendgroup": "Kurtis Kraft",
         "marker": {
          "color": "#00FE35",
          "size": 16,
          "symbol": "circle"
         },
         "mode": "markers",
         "name": "Kurtis Kraft",
         "orientation": "v",
         "showlegend": true,
         "type": "scatter",
         "x": [
          1953,
          1955,
          1955,
          1957,
          1958
         ],
         "xaxis": "x",
         "y": [
          5,
          5,
          5,
          5,
          5
         ],
         "yaxis": "y"
        },
        {
         "hovertemplate": "<b>%{hovertext}</b><br><br>car=Ferrari Tipo 500<br>accident_year=%{x}<br>accident_month=%{y}<extra></extra>",
         "hovertext": [
          "Charles de Tornaco"
         ],
         "legendgroup": "Ferrari Tipo 500",
         "marker": {
          "color": "#6A76FC",
          "size": 16,
          "symbol": "circle"
         },
         "mode": "markers",
         "name": "Ferrari Tipo 500",
         "orientation": "v",
         "showlegend": true,
         "type": "scatter",
         "x": [
          1953
         ],
         "xaxis": "x",
         "y": [
          9
         ],
         "yaxis": "y"
        },
        {
         "hovertemplate": "<b>%{hovertext}</b><br><br>car=Maserati 250F<br>accident_year=%{x}<br>accident_month=%{y}<extra></extra>",
         "hovertext": [
          "Onofre Marimón"
         ],
         "legendgroup": "Maserati 250F",
         "marker": {
          "color": "#FED4C4",
          "size": 16,
          "symbol": "circle"
         },
         "mode": "markers",
         "name": "Maserati 250F",
         "orientation": "v",
         "showlegend": true,
         "type": "scatter",
         "x": [
          1954
         ],
         "xaxis": "x",
         "y": [
          7
         ],
         "yaxis": "y"
        },
        {
         "hovertemplate": "<b>%{hovertext}</b><br><br>car=Maserati 4CLT<br>accident_year=%{x}<br>accident_month=%{y}<extra></extra>",
         "hovertext": [
          "Mario Alborghetti"
         ],
         "legendgroup": "Maserati 4CLT",
         "marker": {
          "color": "#FE00CE",
          "size": 16,
          "symbol": "circle"
         },
         "mode": "markers",
         "name": "Maserati 4CLT",
         "orientation": "v",
         "showlegend": true,
         "type": "scatter",
         "x": [
          1955
         ],
         "xaxis": "x",
         "y": [
          4
         ],
         "yaxis": "y"
        },
        {
         "hovertemplate": "<b>%{hovertext}</b><br><br>car=Ferrari 801<br>accident_year=%{x}<br>accident_month=%{y}<extra></extra>",
         "hovertext": [
          "Eugenio Castellotti"
         ],
         "legendgroup": "Ferrari 801",
         "marker": {
          "color": "#0DF9FF",
          "size": 16,
          "symbol": "circle"
         },
         "mode": "markers",
         "name": "Ferrari 801",
         "orientation": "v",
         "showlegend": true,
         "type": "scatter",
         "x": [
          1957
         ],
         "xaxis": "x",
         "y": [
          3
         ],
         "yaxis": "y"
        },
        {
         "hovertemplate": "<b>%{hovertext}</b><br><br>car=Ferrari 246 F1<br>accident_year=%{x}<br>accident_month=%{y}<extra></extra>",
         "hovertext": [
          "Luigi Musso",
          "Peter Collins"
         ],
         "legendgroup": "Ferrari 246 F1",
         "marker": {
          "color": "#F6F926",
          "size": 16,
          "symbol": "circle"
         },
         "mode": "markers",
         "name": "Ferrari 246 F1",
         "orientation": "v",
         "showlegend": true,
         "type": "scatter",
         "x": [
          1958,
          1958
         ],
         "xaxis": "x",
         "y": [
          7,
          8
         ],
         "yaxis": "y"
        },
        {
         "hovertemplate": "<b>%{hovertext}</b><br><br>car=\tVanwall<br>accident_year=%{x}<br>accident_month=%{y}<extra></extra>",
         "hovertext": [
          "Stuart Lewis-Evans"
         ],
         "legendgroup": "\tVanwall",
         "marker": {
          "color": "#FF9616",
          "size": 16,
          "symbol": "circle"
         },
         "mode": "markers",
         "name": "\tVanwall",
         "orientation": "v",
         "showlegend": true,
         "type": "scatter",
         "x": [
          1958
         ],
         "xaxis": "x",
         "y": [
          10
         ],
         "yaxis": "y"
        },
        {
         "hovertemplate": "<b>%{hovertext}</b><br><br>car=Kuzma<br>accident_year=%{x}<br>accident_month=%{y}<extra></extra>",
         "hovertext": [
          "Jerry Unser Jr."
         ],
         "legendgroup": "Kuzma",
         "marker": {
          "color": "#479B55",
          "size": 16,
          "symbol": "circle"
         },
         "mode": "markers",
         "name": "Kuzma",
         "orientation": "v",
         "showlegend": true,
         "type": "scatter",
         "x": [
          1959
         ],
         "xaxis": "x",
         "y": [
          5
         ],
         "yaxis": "y"
        },
        {
         "hovertemplate": "<b>%{hovertext}</b><br><br>car=Cornis<br>accident_year=%{x}<br>accident_month=%{y}<extra></extra>",
         "hovertext": [
          "Bob Cortner"
         ],
         "legendgroup": "Cornis",
         "marker": {
          "color": "#EEA6FB",
          "size": 16,
          "symbol": "circle"
         },
         "mode": "markers",
         "name": "Cornis",
         "orientation": "v",
         "showlegend": true,
         "type": "scatter",
         "x": [
          1959
         ],
         "xaxis": "x",
         "y": [
          5
         ],
         "yaxis": "y"
        },
        {
         "hovertemplate": "<b>%{hovertext}</b><br><br>car=Cooper T51<br>accident_year=%{x}<br>accident_month=%{y}<extra></extra>",
         "hovertext": [
          "Harry Schell",
          "Chris Bristow",
          "Giulio Cabianca"
         ],
         "legendgroup": "Cooper T51",
         "marker": {
          "color": "#DC587D",
          "size": 16,
          "symbol": "circle"
         },
         "mode": "markers",
         "name": "Cooper T51",
         "orientation": "v",
         "showlegend": true,
         "type": "scatter",
         "x": [
          1960,
          1960,
          1961
         ],
         "xaxis": "x",
         "y": [
          5,
          6,
          6
         ],
         "yaxis": "y"
        },
        {
         "hovertemplate": "<b>%{hovertext}</b><br><br>car=Lotus 18<br>accident_year=%{x}<br>accident_month=%{y}<extra></extra>",
         "hovertext": [
          "Alan Stacey",
          "Denis Welch"
         ],
         "legendgroup": "Lotus 18",
         "marker": {
          "color": "#D626FF",
          "size": 16,
          "symbol": "circle"
         },
         "mode": "markers",
         "name": "Lotus 18",
         "orientation": "v",
         "showlegend": true,
         "type": "scatter",
         "x": [
          1960,
          2014
         ],
         "xaxis": "x",
         "y": [
          6,
          7
         ],
         "yaxis": "y"
        },
        {
         "hovertemplate": "<b>%{hovertext}</b><br><br>car=Cooper<br>accident_year=%{x}<br>accident_month=%{y}<extra></extra>",
         "hovertext": [
          "Shane Summers"
         ],
         "legendgroup": "Cooper",
         "marker": {
          "color": "#6E899C",
          "size": 16,
          "symbol": "circle"
         },
         "mode": "markers",
         "name": "Cooper",
         "orientation": "v",
         "showlegend": true,
         "type": "scatter",
         "x": [
          1961
         ],
         "xaxis": "x",
         "y": [
          6
         ],
         "yaxis": "y"
        },
        {
         "hovertemplate": "<b>%{hovertext}</b><br><br>car=Ferrari 156 F1<br>accident_year=%{x}<br>accident_month=%{y}<extra></extra>",
         "hovertext": [
          "Wolfgang von Trips"
         ],
         "legendgroup": "Ferrari 156 F1",
         "marker": {
          "color": "#00B5F7",
          "size": 16,
          "symbol": "circle"
         },
         "mode": "markers",
         "name": "Ferrari 156 F1",
         "orientation": "v",
         "showlegend": true,
         "type": "scatter",
         "x": [
          1961
         ],
         "xaxis": "x",
         "y": [
          9
         ],
         "yaxis": "y"
        },
        {
         "hovertemplate": "<b>%{hovertext}</b><br><br>car=Lotus 24<br>accident_year=%{x}<br>accident_month=%{y}<extra></extra>",
         "hovertext": [
          "Ricardo Rodríguez",
          "Gary Hocking"
         ],
         "legendgroup": "Lotus 24",
         "marker": {
          "color": "#B68E00",
          "size": 16,
          "symbol": "circle"
         },
         "mode": "markers",
         "name": "Lotus 24",
         "orientation": "v",
         "showlegend": true,
         "type": "scatter",
         "x": [
          1962,
          1962
         ],
         "xaxis": "x",
         "y": [
          11,
          12
         ],
         "yaxis": "y"
        },
        {
         "hovertemplate": "<b>%{hovertext}</b><br><br>car=Porsche 718<br>accident_year=%{x}<br>accident_month=%{y}<extra></extra>",
         "hovertext": [
          "Carel Godin de Beaufort"
         ],
         "legendgroup": "Porsche 718",
         "marker": {
          "color": "#C9FBE5",
          "size": 16,
          "symbol": "circle"
         },
         "mode": "markers",
         "name": "Porsche 718",
         "orientation": "v",
         "showlegend": true,
         "type": "scatter",
         "x": [
          1964
         ],
         "xaxis": "x",
         "y": [
          8
         ],
         "yaxis": "y"
        },
        {
         "hovertemplate": "<b>%{hovertext}</b><br><br>car=Brabham BT11<br>accident_year=%{x}<br>accident_month=%{y}<extra></extra>",
         "hovertext": [
          "John Taylor",
          "Bob Anderson"
         ],
         "legendgroup": "Brabham BT11",
         "marker": {
          "color": "#FF0092",
          "size": 16,
          "symbol": "circle"
         },
         "mode": "markers",
         "name": "Brabham BT11",
         "orientation": "v",
         "showlegend": true,
         "type": "scatter",
         "x": [
          1966,
          1967
         ],
         "xaxis": "x",
         "y": [
          8,
          8
         ],
         "yaxis": "y"
        },
        {
         "hovertemplate": "<b>%{hovertext}</b><br><br>car=Ferrari 312<br>accident_year=%{x}<br>accident_month=%{y}<extra></extra>",
         "hovertext": [
          "Lorenzo Bandini"
         ],
         "legendgroup": "Ferrari 312",
         "marker": {
          "color": "#22FFA7",
          "size": 16,
          "symbol": "circle"
         },
         "mode": "markers",
         "name": "Ferrari 312",
         "orientation": "v",
         "showlegend": true,
         "type": "scatter",
         "x": [
          1967
         ],
         "xaxis": "x",
         "y": [
          5
         ],
         "yaxis": "y"
        },
        {
         "hovertemplate": "<b>%{hovertext}</b><br><br>car=Honda RA302<br>accident_year=%{x}<br>accident_month=%{y}<extra></extra>",
         "hovertext": [
          "Jo Schlesser"
         ],
         "legendgroup": "Honda RA302",
         "marker": {
          "color": "#E3EE9E",
          "size": 16,
          "symbol": "circle"
         },
         "mode": "markers",
         "name": "Honda RA302",
         "orientation": "v",
         "showlegend": true,
         "type": "scatter",
         "x": [
          1968
         ],
         "xaxis": "x",
         "y": [
          7
         ],
         "yaxis": "y"
        },
        {
         "hovertemplate": "<b>%{hovertext}</b><br><br>car=BMW 269<br>accident_year=%{x}<br>accident_month=%{y}<extra></extra>",
         "hovertext": [
          "Gerhard Mitter"
         ],
         "legendgroup": "BMW 269",
         "marker": {
          "color": "#86CE00",
          "size": 16,
          "symbol": "circle"
         },
         "mode": "markers",
         "name": "BMW 269",
         "orientation": "v",
         "showlegend": true,
         "type": "scatter",
         "x": [
          1969
         ],
         "xaxis": "x",
         "y": [
          8
         ],
         "yaxis": "y"
        },
        {
         "hovertemplate": "<b>%{hovertext}</b><br><br>car=Cooper T86B<br>accident_year=%{x}<br>accident_month=%{y}<extra></extra>",
         "hovertext": [
          "Martin Brain"
         ],
         "legendgroup": "Cooper T86B",
         "marker": {
          "color": "#BC7196",
          "size": 16,
          "symbol": "circle"
         },
         "mode": "markers",
         "name": "Cooper T86B",
         "orientation": "v",
         "showlegend": true,
         "type": "scatter",
         "x": [
          1970
         ],
         "xaxis": "x",
         "y": [
          5
         ],
         "yaxis": "y"
        },
        {
         "hovertemplate": "<b>%{hovertext}</b><br><br>car=De Tomaso 505/38<br>accident_year=%{x}<br>accident_month=%{y}<extra></extra>",
         "hovertext": [
          "Piers Courage"
         ],
         "legendgroup": "De Tomaso 505/38",
         "marker": {
          "color": "#7E7DCD",
          "size": 16,
          "symbol": "circle"
         },
         "mode": "markers",
         "name": "De Tomaso 505/38",
         "orientation": "v",
         "showlegend": true,
         "type": "scatter",
         "x": [
          1970
         ],
         "xaxis": "x",
         "y": [
          6
         ],
         "yaxis": "y"
        },
        {
         "hovertemplate": "<b>%{hovertext}</b><br><br>car=Lotus 72<br>accident_year=%{x}<br>accident_month=%{y}<extra></extra>",
         "hovertext": [
          "Jochen Rindt"
         ],
         "legendgroup": "Lotus 72",
         "marker": {
          "color": "#FC6955",
          "size": 16,
          "symbol": "circle"
         },
         "mode": "markers",
         "name": "Lotus 72",
         "orientation": "v",
         "showlegend": true,
         "type": "scatter",
         "x": [
          1970
         ],
         "xaxis": "x",
         "y": [
          9
         ],
         "yaxis": "y"
        },
        {
         "hovertemplate": "<b>%{hovertext}</b><br><br>car=BRM P160<br>accident_year=%{x}<br>accident_month=%{y}<extra></extra>",
         "hovertext": [
          "Jo Siffert"
         ],
         "legendgroup": "BRM P160",
         "marker": {
          "color": "#E48F72",
          "size": 16,
          "symbol": "circle"
         },
         "mode": "markers",
         "name": "BRM P160",
         "orientation": "v",
         "showlegend": true,
         "type": "scatter",
         "x": [
          1971
         ],
         "xaxis": "x",
         "y": [
          10
         ],
         "yaxis": "y"
        },
        {
         "hovertemplate": "<b>%{hovertext}</b><br><br>car=March 731<br>accident_year=%{x}<br>accident_month=%{y}<extra></extra>",
         "hovertext": [
          "Roger Williamson"
         ],
         "legendgroup": "March 731",
         "marker": {
          "color": "#FD3216",
          "size": 16,
          "symbol": "circle"
         },
         "mode": "markers",
         "name": "March 731",
         "orientation": "v",
         "showlegend": true,
         "type": "scatter",
         "x": [
          1973
         ],
         "xaxis": "x",
         "y": [
          7
         ],
         "yaxis": "y"
        },
        {
         "hovertemplate": "<b>%{hovertext}</b><br><br>car=Tyrrell 006<br>accident_year=%{x}<br>accident_month=%{y}<extra></extra>",
         "hovertext": [
          "François Cevert"
         ],
         "legendgroup": "Tyrrell 006",
         "marker": {
          "color": "#00FE35",
          "size": 16,
          "symbol": "circle"
         },
         "mode": "markers",
         "name": "Tyrrell 006",
         "orientation": "v",
         "showlegend": true,
         "type": "scatter",
         "x": [
          1973
         ],
         "xaxis": "x",
         "y": [
          10
         ],
         "yaxis": "y"
        },
        {
         "hovertemplate": "<b>%{hovertext}</b><br><br>car=Shadow DN3<br>accident_year=%{x}<br>accident_month=%{y}<extra></extra>",
         "hovertext": [
          "Peter Revson"
         ],
         "legendgroup": "Shadow DN3",
         "marker": {
          "color": "#6A76FC",
          "size": 16,
          "symbol": "circle"
         },
         "mode": "markers",
         "name": "Shadow DN3",
         "orientation": "v",
         "showlegend": true,
         "type": "scatter",
         "x": [
          1974
         ],
         "xaxis": "x",
         "y": [
          3
         ],
         "yaxis": "y"
        },
        {
         "hovertemplate": "<b>%{hovertext}</b><br><br>car=Surtees TS16<br>accident_year=%{x}<br>accident_month=%{y}<extra></extra>",
         "hovertext": [
          "Helmuth Koinigg"
         ],
         "legendgroup": "Surtees TS16",
         "marker": {
          "color": "#FED4C4",
          "size": 16,
          "symbol": "circle"
         },
         "mode": "markers",
         "name": "Surtees TS16",
         "orientation": "v",
         "showlegend": true,
         "type": "scatter",
         "x": [
          1974
         ],
         "xaxis": "x",
         "y": [
          10
         ],
         "yaxis": "y"
        },
        {
         "hovertemplate": "<b>%{hovertext}</b><br><br>car=March 751<br>accident_year=%{x}<br>accident_month=%{y}<extra></extra>",
         "hovertext": [
          "Mark Donohue"
         ],
         "legendgroup": "March 751",
         "marker": {
          "color": "#FE00CE",
          "size": 16,
          "symbol": "circle"
         },
         "mode": "markers",
         "name": "March 751",
         "orientation": "v",
         "showlegend": true,
         "type": "scatter",
         "x": [
          1975
         ],
         "xaxis": "x",
         "y": [
          8
         ],
         "yaxis": "y"
        },
        {
         "hovertemplate": "<b>%{hovertext}</b><br><br>car=Shadow DN8<br>accident_year=%{x}<br>accident_month=%{y}<extra></extra>",
         "hovertext": [
          "Tom Pryce"
         ],
         "legendgroup": "Shadow DN8",
         "marker": {
          "color": "#0DF9FF",
          "size": 16,
          "symbol": "circle"
         },
         "mode": "markers",
         "name": "Shadow DN8",
         "orientation": "v",
         "showlegend": true,
         "type": "scatter",
         "x": [
          1977
         ],
         "xaxis": "x",
         "y": [
          3
         ],
         "yaxis": "y"
        },
        {
         "hovertemplate": "<b>%{hovertext}</b><br><br>car=McGuire BM1<br>accident_year=%{x}<br>accident_month=%{y}<extra></extra>",
         "hovertext": [
          "Brian McGuire"
         ],
         "legendgroup": "McGuire BM1",
         "marker": {
          "color": "#F6F926",
          "size": 16,
          "symbol": "circle"
         },
         "mode": "markers",
         "name": "McGuire BM1",
         "orientation": "v",
         "showlegend": true,
         "type": "scatter",
         "x": [
          1977
         ],
         "xaxis": "x",
         "y": [
          8
         ],
         "yaxis": "y"
        },
        {
         "hovertemplate": "<b>%{hovertext}</b><br><br>car=Lotus 78<br>accident_year=%{x}<br>accident_month=%{y}<extra></extra>",
         "hovertext": [
          "Ronnie Peterson"
         ],
         "legendgroup": "Lotus 78",
         "marker": {
          "color": "#FF9616",
          "size": 16,
          "symbol": "circle"
         },
         "mode": "markers",
         "name": "Lotus 78",
         "orientation": "v",
         "showlegend": true,
         "type": "scatter",
         "x": [
          1978
         ],
         "xaxis": "x",
         "y": [
          9
         ],
         "yaxis": "y"
        },
        {
         "hovertemplate": "<b>%{hovertext}</b><br><br>car=Alfa Romeo 179<br>accident_year=%{x}<br>accident_month=%{y}<extra></extra>",
         "hovertext": [
          "Patrick Depailler"
         ],
         "legendgroup": "Alfa Romeo 179",
         "marker": {
          "color": "#479B55",
          "size": 16,
          "symbol": "circle"
         },
         "mode": "markers",
         "name": "Alfa Romeo 179",
         "orientation": "v",
         "showlegend": true,
         "type": "scatter",
         "x": [
          1980
         ],
         "xaxis": "x",
         "y": [
          8
         ],
         "yaxis": "y"
        },
        {
         "hovertemplate": "<b>%{hovertext}</b><br><br>car=\tFerrari 126C<br>accident_year=%{x}<br>accident_month=%{y}<extra></extra>",
         "hovertext": [
          " Gilles Villeneuve"
         ],
         "legendgroup": "\tFerrari 126C",
         "marker": {
          "color": "#EEA6FB",
          "size": 16,
          "symbol": "circle"
         },
         "mode": "markers",
         "name": "\tFerrari 126C",
         "orientation": "v",
         "showlegend": true,
         "type": "scatter",
         "x": [
          1982
         ],
         "xaxis": "x",
         "y": [
          5
         ],
         "yaxis": "y"
        },
        {
         "hovertemplate": "<b>%{hovertext}</b><br><br>car=Osella FA1C<br>accident_year=%{x}<br>accident_month=%{y}<extra></extra>",
         "hovertext": [
          "Riccardo Paletti"
         ],
         "legendgroup": "Osella FA1C",
         "marker": {
          "color": "#DC587D",
          "size": 16,
          "symbol": "circle"
         },
         "mode": "markers",
         "name": "Osella FA1C",
         "orientation": "v",
         "showlegend": true,
         "type": "scatter",
         "x": [
          1982
         ],
         "xaxis": "x",
         "y": [
          6
         ],
         "yaxis": "y"
        },
        {
         "hovertemplate": "<b>%{hovertext}</b><br><br>car=Brabham BT55<br>accident_year=%{x}<br>accident_month=%{y}<extra></extra>",
         "hovertext": [
          "Elio de Angelis"
         ],
         "legendgroup": "Brabham BT55",
         "marker": {
          "color": "#D626FF",
          "size": 16,
          "symbol": "circle"
         },
         "mode": "markers",
         "name": "Brabham BT55",
         "orientation": "v",
         "showlegend": true,
         "type": "scatter",
         "x": [
          1986
         ],
         "xaxis": "x",
         "y": [
          5
         ],
         "yaxis": "y"
        },
        {
         "hovertemplate": "<b>%{hovertext}</b><br><br>car=Simtek S941<br>accident_year=%{x}<br>accident_month=%{y}<extra></extra>",
         "hovertext": [
          "Roland Ratzenberger"
         ],
         "legendgroup": "Simtek S941",
         "marker": {
          "color": "#6E899C",
          "size": 16,
          "symbol": "circle"
         },
         "mode": "markers",
         "name": "Simtek S941",
         "orientation": "v",
         "showlegend": true,
         "type": "scatter",
         "x": [
          1994
         ],
         "xaxis": "x",
         "y": [
          4
         ],
         "yaxis": "y"
        },
        {
         "hovertemplate": "<b>%{hovertext}</b><br><br>car=Williams FW16<br>accident_year=%{x}<br>accident_month=%{y}<extra></extra>",
         "hovertext": [
          "Ayrton Senna"
         ],
         "legendgroup": "Williams FW16",
         "marker": {
          "color": "#00B5F7",
          "size": 16,
          "symbol": "circle"
         },
         "mode": "markers",
         "name": "Williams FW16",
         "orientation": "v",
         "showlegend": true,
         "type": "scatter",
         "x": [
          1994
         ],
         "xaxis": "x",
         "y": [
          5
         ],
         "yaxis": "y"
        },
        {
         "hovertemplate": "<b>%{hovertext}</b><br><br>car=Lotus 63<br>accident_year=%{x}<br>accident_month=%{y}<extra></extra>",
         "hovertext": [
          "John Dawson-Damer"
         ],
         "legendgroup": "Lotus 63",
         "marker": {
          "color": "#B68E00",
          "size": 16,
          "symbol": "circle"
         },
         "mode": "markers",
         "name": "Lotus 63",
         "orientation": "v",
         "showlegend": true,
         "type": "scatter",
         "x": [
          2000
         ],
         "xaxis": "x",
         "y": [
          6
         ],
         "yaxis": "y"
        },
        {
         "hovertemplate": "<b>%{hovertext}</b><br><br>car=Footwork FA17<br>accident_year=%{x}<br>accident_month=%{y}<extra></extra>",
         "hovertext": [
          "Fritz Glatz"
         ],
         "legendgroup": "Footwork FA17",
         "marker": {
          "color": "#C9FBE5",
          "size": 16,
          "symbol": "circle"
         },
         "mode": "markers",
         "name": "Footwork FA17",
         "orientation": "v",
         "showlegend": true,
         "type": "scatter",
         "x": [
          2002
         ],
         "xaxis": "x",
         "y": [
          7
         ],
         "yaxis": "y"
        },
        {
         "hovertemplate": "<b>%{hovertext}</b><br><br>car=Marussia MR03<br>accident_year=%{x}<br>accident_month=%{y}<extra></extra>",
         "hovertext": [
          "Jules Bianchi"
         ],
         "legendgroup": "Marussia MR03",
         "marker": {
          "color": "#FF0092",
          "size": 16,
          "symbol": "circle"
         },
         "mode": "markers",
         "name": "Marussia MR03",
         "orientation": "v",
         "showlegend": true,
         "type": "scatter",
         "x": [
          2014
         ],
         "xaxis": "x",
         "y": [
          10
         ],
         "yaxis": "y"
        },
        {
         "hovertemplate": "<b>%{hovertext}</b><br><br>car=March 701<br>accident_year=%{x}<br>accident_month=%{y}<extra></extra>",
         "hovertext": [
          "David Ferrer"
         ],
         "legendgroup": "March 701",
         "marker": {
          "color": "#22FFA7",
          "size": 16,
          "symbol": "circle"
         },
         "mode": "markers",
         "name": "March 701",
         "orientation": "v",
         "showlegend": true,
         "type": "scatter",
         "x": [
          2017
         ],
         "xaxis": "x",
         "y": [
          9
         ],
         "yaxis": "y"
        }
       ],
       "layout": {
        "legend": {
         "title": {
          "text": "car"
         },
         "tracegroupgap": 0
        },
        "template": {
         "data": {
          "bar": [
           {
            "error_x": {
             "color": "#2a3f5f"
            },
            "error_y": {
             "color": "#2a3f5f"
            },
            "marker": {
             "line": {
              "color": "#E5ECF6",
              "width": 0.5
             },
             "pattern": {
              "fillmode": "overlay",
              "size": 10,
              "solidity": 0.2
             }
            },
            "type": "bar"
           }
          ],
          "barpolar": [
           {
            "marker": {
             "line": {
              "color": "#E5ECF6",
              "width": 0.5
             },
             "pattern": {
              "fillmode": "overlay",
              "size": 10,
              "solidity": 0.2
             }
            },
            "type": "barpolar"
           }
          ],
          "carpet": [
           {
            "aaxis": {
             "endlinecolor": "#2a3f5f",
             "gridcolor": "white",
             "linecolor": "white",
             "minorgridcolor": "white",
             "startlinecolor": "#2a3f5f"
            },
            "baxis": {
             "endlinecolor": "#2a3f5f",
             "gridcolor": "white",
             "linecolor": "white",
             "minorgridcolor": "white",
             "startlinecolor": "#2a3f5f"
            },
            "type": "carpet"
           }
          ],
          "choropleth": [
           {
            "colorbar": {
             "outlinewidth": 0,
             "ticks": ""
            },
            "type": "choropleth"
           }
          ],
          "contour": [
           {
            "colorbar": {
             "outlinewidth": 0,
             "ticks": ""
            },
            "colorscale": [
             [
              0,
              "#0d0887"
             ],
             [
              0.1111111111111111,
              "#46039f"
             ],
             [
              0.2222222222222222,
              "#7201a8"
             ],
             [
              0.3333333333333333,
              "#9c179e"
             ],
             [
              0.4444444444444444,
              "#bd3786"
             ],
             [
              0.5555555555555556,
              "#d8576b"
             ],
             [
              0.6666666666666666,
              "#ed7953"
             ],
             [
              0.7777777777777778,
              "#fb9f3a"
             ],
             [
              0.8888888888888888,
              "#fdca26"
             ],
             [
              1,
              "#f0f921"
             ]
            ],
            "type": "contour"
           }
          ],
          "contourcarpet": [
           {
            "colorbar": {
             "outlinewidth": 0,
             "ticks": ""
            },
            "type": "contourcarpet"
           }
          ],
          "heatmap": [
           {
            "colorbar": {
             "outlinewidth": 0,
             "ticks": ""
            },
            "colorscale": [
             [
              0,
              "#0d0887"
             ],
             [
              0.1111111111111111,
              "#46039f"
             ],
             [
              0.2222222222222222,
              "#7201a8"
             ],
             [
              0.3333333333333333,
              "#9c179e"
             ],
             [
              0.4444444444444444,
              "#bd3786"
             ],
             [
              0.5555555555555556,
              "#d8576b"
             ],
             [
              0.6666666666666666,
              "#ed7953"
             ],
             [
              0.7777777777777778,
              "#fb9f3a"
             ],
             [
              0.8888888888888888,
              "#fdca26"
             ],
             [
              1,
              "#f0f921"
             ]
            ],
            "type": "heatmap"
           }
          ],
          "heatmapgl": [
           {
            "colorbar": {
             "outlinewidth": 0,
             "ticks": ""
            },
            "colorscale": [
             [
              0,
              "#0d0887"
             ],
             [
              0.1111111111111111,
              "#46039f"
             ],
             [
              0.2222222222222222,
              "#7201a8"
             ],
             [
              0.3333333333333333,
              "#9c179e"
             ],
             [
              0.4444444444444444,
              "#bd3786"
             ],
             [
              0.5555555555555556,
              "#d8576b"
             ],
             [
              0.6666666666666666,
              "#ed7953"
             ],
             [
              0.7777777777777778,
              "#fb9f3a"
             ],
             [
              0.8888888888888888,
              "#fdca26"
             ],
             [
              1,
              "#f0f921"
             ]
            ],
            "type": "heatmapgl"
           }
          ],
          "histogram": [
           {
            "marker": {
             "pattern": {
              "fillmode": "overlay",
              "size": 10,
              "solidity": 0.2
             }
            },
            "type": "histogram"
           }
          ],
          "histogram2d": [
           {
            "colorbar": {
             "outlinewidth": 0,
             "ticks": ""
            },
            "colorscale": [
             [
              0,
              "#0d0887"
             ],
             [
              0.1111111111111111,
              "#46039f"
             ],
             [
              0.2222222222222222,
              "#7201a8"
             ],
             [
              0.3333333333333333,
              "#9c179e"
             ],
             [
              0.4444444444444444,
              "#bd3786"
             ],
             [
              0.5555555555555556,
              "#d8576b"
             ],
             [
              0.6666666666666666,
              "#ed7953"
             ],
             [
              0.7777777777777778,
              "#fb9f3a"
             ],
             [
              0.8888888888888888,
              "#fdca26"
             ],
             [
              1,
              "#f0f921"
             ]
            ],
            "type": "histogram2d"
           }
          ],
          "histogram2dcontour": [
           {
            "colorbar": {
             "outlinewidth": 0,
             "ticks": ""
            },
            "colorscale": [
             [
              0,
              "#0d0887"
             ],
             [
              0.1111111111111111,
              "#46039f"
             ],
             [
              0.2222222222222222,
              "#7201a8"
             ],
             [
              0.3333333333333333,
              "#9c179e"
             ],
             [
              0.4444444444444444,
              "#bd3786"
             ],
             [
              0.5555555555555556,
              "#d8576b"
             ],
             [
              0.6666666666666666,
              "#ed7953"
             ],
             [
              0.7777777777777778,
              "#fb9f3a"
             ],
             [
              0.8888888888888888,
              "#fdca26"
             ],
             [
              1,
              "#f0f921"
             ]
            ],
            "type": "histogram2dcontour"
           }
          ],
          "mesh3d": [
           {
            "colorbar": {
             "outlinewidth": 0,
             "ticks": ""
            },
            "type": "mesh3d"
           }
          ],
          "parcoords": [
           {
            "line": {
             "colorbar": {
              "outlinewidth": 0,
              "ticks": ""
             }
            },
            "type": "parcoords"
           }
          ],
          "pie": [
           {
            "automargin": true,
            "type": "pie"
           }
          ],
          "scatter": [
           {
            "marker": {
             "colorbar": {
              "outlinewidth": 0,
              "ticks": ""
             }
            },
            "type": "scatter"
           }
          ],
          "scatter3d": [
           {
            "line": {
             "colorbar": {
              "outlinewidth": 0,
              "ticks": ""
             }
            },
            "marker": {
             "colorbar": {
              "outlinewidth": 0,
              "ticks": ""
             }
            },
            "type": "scatter3d"
           }
          ],
          "scattercarpet": [
           {
            "marker": {
             "colorbar": {
              "outlinewidth": 0,
              "ticks": ""
             }
            },
            "type": "scattercarpet"
           }
          ],
          "scattergeo": [
           {
            "marker": {
             "colorbar": {
              "outlinewidth": 0,
              "ticks": ""
             }
            },
            "type": "scattergeo"
           }
          ],
          "scattergl": [
           {
            "marker": {
             "colorbar": {
              "outlinewidth": 0,
              "ticks": ""
             }
            },
            "type": "scattergl"
           }
          ],
          "scattermapbox": [
           {
            "marker": {
             "colorbar": {
              "outlinewidth": 0,
              "ticks": ""
             }
            },
            "type": "scattermapbox"
           }
          ],
          "scatterpolar": [
           {
            "marker": {
             "colorbar": {
              "outlinewidth": 0,
              "ticks": ""
             }
            },
            "type": "scatterpolar"
           }
          ],
          "scatterpolargl": [
           {
            "marker": {
             "colorbar": {
              "outlinewidth": 0,
              "ticks": ""
             }
            },
            "type": "scatterpolargl"
           }
          ],
          "scatterternary": [
           {
            "marker": {
             "colorbar": {
              "outlinewidth": 0,
              "ticks": ""
             }
            },
            "type": "scatterternary"
           }
          ],
          "surface": [
           {
            "colorbar": {
             "outlinewidth": 0,
             "ticks": ""
            },
            "colorscale": [
             [
              0,
              "#0d0887"
             ],
             [
              0.1111111111111111,
              "#46039f"
             ],
             [
              0.2222222222222222,
              "#7201a8"
             ],
             [
              0.3333333333333333,
              "#9c179e"
             ],
             [
              0.4444444444444444,
              "#bd3786"
             ],
             [
              0.5555555555555556,
              "#d8576b"
             ],
             [
              0.6666666666666666,
              "#ed7953"
             ],
             [
              0.7777777777777778,
              "#fb9f3a"
             ],
             [
              0.8888888888888888,
              "#fdca26"
             ],
             [
              1,
              "#f0f921"
             ]
            ],
            "type": "surface"
           }
          ],
          "table": [
           {
            "cells": {
             "fill": {
              "color": "#EBF0F8"
             },
             "line": {
              "color": "white"
             }
            },
            "header": {
             "fill": {
              "color": "#C8D4E3"
             },
             "line": {
              "color": "white"
             }
            },
            "type": "table"
           }
          ]
         },
         "layout": {
          "annotationdefaults": {
           "arrowcolor": "#2a3f5f",
           "arrowhead": 0,
           "arrowwidth": 1
          },
          "autotypenumbers": "strict",
          "coloraxis": {
           "colorbar": {
            "outlinewidth": 0,
            "ticks": ""
           }
          },
          "colorscale": {
           "diverging": [
            [
             0,
             "#8e0152"
            ],
            [
             0.1,
             "#c51b7d"
            ],
            [
             0.2,
             "#de77ae"
            ],
            [
             0.3,
             "#f1b6da"
            ],
            [
             0.4,
             "#fde0ef"
            ],
            [
             0.5,
             "#f7f7f7"
            ],
            [
             0.6,
             "#e6f5d0"
            ],
            [
             0.7,
             "#b8e186"
            ],
            [
             0.8,
             "#7fbc41"
            ],
            [
             0.9,
             "#4d9221"
            ],
            [
             1,
             "#276419"
            ]
           ],
           "sequential": [
            [
             0,
             "#0d0887"
            ],
            [
             0.1111111111111111,
             "#46039f"
            ],
            [
             0.2222222222222222,
             "#7201a8"
            ],
            [
             0.3333333333333333,
             "#9c179e"
            ],
            [
             0.4444444444444444,
             "#bd3786"
            ],
            [
             0.5555555555555556,
             "#d8576b"
            ],
            [
             0.6666666666666666,
             "#ed7953"
            ],
            [
             0.7777777777777778,
             "#fb9f3a"
            ],
            [
             0.8888888888888888,
             "#fdca26"
            ],
            [
             1,
             "#f0f921"
            ]
           ],
           "sequentialminus": [
            [
             0,
             "#0d0887"
            ],
            [
             0.1111111111111111,
             "#46039f"
            ],
            [
             0.2222222222222222,
             "#7201a8"
            ],
            [
             0.3333333333333333,
             "#9c179e"
            ],
            [
             0.4444444444444444,
             "#bd3786"
            ],
            [
             0.5555555555555556,
             "#d8576b"
            ],
            [
             0.6666666666666666,
             "#ed7953"
            ],
            [
             0.7777777777777778,
             "#fb9f3a"
            ],
            [
             0.8888888888888888,
             "#fdca26"
            ],
            [
             1,
             "#f0f921"
            ]
           ]
          },
          "colorway": [
           "#636efa",
           "#EF553B",
           "#00cc96",
           "#ab63fa",
           "#FFA15A",
           "#19d3f3",
           "#FF6692",
           "#B6E880",
           "#FF97FF",
           "#FECB52"
          ],
          "font": {
           "color": "#2a3f5f"
          },
          "geo": {
           "bgcolor": "white",
           "lakecolor": "white",
           "landcolor": "#E5ECF6",
           "showlakes": true,
           "showland": true,
           "subunitcolor": "white"
          },
          "hoverlabel": {
           "align": "left"
          },
          "hovermode": "closest",
          "mapbox": {
           "style": "light"
          },
          "paper_bgcolor": "white",
          "plot_bgcolor": "#E5ECF6",
          "polar": {
           "angularaxis": {
            "gridcolor": "white",
            "linecolor": "white",
            "ticks": ""
           },
           "bgcolor": "#E5ECF6",
           "radialaxis": {
            "gridcolor": "white",
            "linecolor": "white",
            "ticks": ""
           }
          },
          "scene": {
           "xaxis": {
            "backgroundcolor": "#E5ECF6",
            "gridcolor": "white",
            "gridwidth": 2,
            "linecolor": "white",
            "showbackground": true,
            "ticks": "",
            "zerolinecolor": "white"
           },
           "yaxis": {
            "backgroundcolor": "#E5ECF6",
            "gridcolor": "white",
            "gridwidth": 2,
            "linecolor": "white",
            "showbackground": true,
            "ticks": "",
            "zerolinecolor": "white"
           },
           "zaxis": {
            "backgroundcolor": "#E5ECF6",
            "gridcolor": "white",
            "gridwidth": 2,
            "linecolor": "white",
            "showbackground": true,
            "ticks": "",
            "zerolinecolor": "white"
           }
          },
          "shapedefaults": {
           "line": {
            "color": "#2a3f5f"
           }
          },
          "ternary": {
           "aaxis": {
            "gridcolor": "white",
            "linecolor": "white",
            "ticks": ""
           },
           "baxis": {
            "gridcolor": "white",
            "linecolor": "white",
            "ticks": ""
           },
           "bgcolor": "#E5ECF6",
           "caxis": {
            "gridcolor": "white",
            "linecolor": "white",
            "ticks": ""
           }
          },
          "title": {
           "x": 0.05
          },
          "xaxis": {
           "automargin": true,
           "gridcolor": "white",
           "linecolor": "white",
           "ticks": "",
           "title": {
            "standoff": 15
           },
           "zerolinecolor": "white",
           "zerolinewidth": 2
          },
          "yaxis": {
           "automargin": true,
           "gridcolor": "white",
           "linecolor": "white",
           "ticks": "",
           "title": {
            "standoff": 15
           },
           "zerolinecolor": "white",
           "zerolinewidth": 2
          }
         }
        },
        "title": {
         "text": "Fatal Crashes since 1952"
        },
        "xaxis": {
         "anchor": "y",
         "domain": [
          0,
          1
         ],
         "title": {
          "text": "accident_year"
         },
         "type": "log"
        },
        "yaxis": {
         "anchor": "x",
         "domain": [
          0,
          1
         ],
         "title": {
          "text": "accident_month"
         }
        }
       }
      }
     },
     "metadata": {},
     "output_type": "display_data"
    }
   ],
   "source": [
    "#Plot bubble chart \n",
    "\n",
    "fig = px.scatter(crash_encoded, x=\"accident_year\", y=\"accident_month\", color= \"car\", title=\"Fatal Crashes since 1952\", hover_name=\"driver\", log_x=True, size_max=60, color_discrete_sequence=px.colors.qualitative.Light24)\n",
    "fig.update_traces(marker=dict(size=16))\n",
    "fig.show()"
   ]
  },
  {
   "cell_type": "code",
   "execution_count": 31,
   "metadata": {},
   "outputs": [
    {
     "data": {
      "application/vnd.plotly.v1+json": {
       "config": {
        "plotlyServerURL": "https://plot.ly"
       },
       "data": [
        {
         "hovertemplate": "<b>%{hovertext}</b><br><br>event=Test<br>accident_year=%{x}<br>accident_month=%{y}<extra></extra>",
         "hovertext": [
          "Cameron Earl",
          "Eugenio Castellotti",
          "Giulio Cabianca",
          "Bob Anderson",
          "Patrick Depailler",
          "Elio de Angelis"
         ],
         "legendgroup": "Test",
         "marker": {
          "color": "#FD3216",
          "size": 16,
          "symbol": "circle"
         },
         "mode": "markers",
         "name": "Test",
         "orientation": "v",
         "showlegend": true,
         "type": "scatter",
         "x": [
          1952,
          1957,
          1961,
          1967,
          1980,
          1986
         ],
         "xaxis": "x",
         "y": [
          6,
          3,
          6,
          8,
          8,
          5
         ],
         "yaxis": "y"
        },
        {
         "hovertemplate": "<b>%{hovertext}</b><br><br>event=Indianapolis 500<br>accident_year=%{x}<br>accident_month=%{y}<extra></extra>",
         "hovertext": [
          "Chet Miller",
          "Manny Ayulo",
          "Bill Vukovich",
          " Keith Andrews",
          "Pat O'Connor",
          "Jerry Unser Jr.",
          "Bob Cortner"
         ],
         "legendgroup": "Indianapolis 500",
         "marker": {
          "color": "#00FE35",
          "size": 16,
          "symbol": "circle"
         },
         "mode": "markers",
         "name": "Indianapolis 500",
         "orientation": "v",
         "showlegend": true,
         "type": "scatter",
         "x": [
          1953,
          1955,
          1955,
          1957,
          1958,
          1959,
          1959
         ],
         "xaxis": "x",
         "y": [
          5,
          5,
          5,
          5,
          5,
          5,
          5
         ],
         "yaxis": "y"
        },
        {
         "hovertemplate": "<b>%{hovertext}</b><br><br>event=Modena Grand Prix<br>accident_year=%{x}<br>accident_month=%{y}<extra></extra>",
         "hovertext": [
          "Charles de Tornaco"
         ],
         "legendgroup": "Modena Grand Prix",
         "marker": {
          "color": "#6A76FC",
          "size": 16,
          "symbol": "circle"
         },
         "mode": "markers",
         "name": "Modena Grand Prix",
         "orientation": "v",
         "showlegend": true,
         "type": "scatter",
         "x": [
          1953
         ],
         "xaxis": "x",
         "y": [
          9
         ],
         "yaxis": "y"
        },
        {
         "hovertemplate": "<b>%{hovertext}</b><br><br>event=German Grand Prix<br>accident_year=%{x}<br>accident_month=%{y}<extra></extra>",
         "hovertext": [
          "Onofre Marimón",
          "Peter Collins",
          "Carel Godin de Beaufort",
          "John Taylor",
          "Gerhard Mitter"
         ],
         "legendgroup": "German Grand Prix",
         "marker": {
          "color": "#FED4C4",
          "size": 16,
          "symbol": "circle"
         },
         "mode": "markers",
         "name": "German Grand Prix",
         "orientation": "v",
         "showlegend": true,
         "type": "scatter",
         "x": [
          1954,
          1958,
          1964,
          1966,
          1969
         ],
         "xaxis": "x",
         "y": [
          7,
          8,
          8,
          8,
          8
         ],
         "yaxis": "y"
        },
        {
         "hovertemplate": "<b>%{hovertext}</b><br><br>event=Pau Grand Prix<br>accident_year=%{x}<br>accident_month=%{y}<extra></extra>",
         "hovertext": [
          "Mario Alborghetti"
         ],
         "legendgroup": "Pau Grand Prix",
         "marker": {
          "color": "#FE00CE",
          "size": 16,
          "symbol": "circle"
         },
         "mode": "markers",
         "name": "Pau Grand Prix",
         "orientation": "v",
         "showlegend": true,
         "type": "scatter",
         "x": [
          1955
         ],
         "xaxis": "x",
         "y": [
          4
         ],
         "yaxis": "y"
        },
        {
         "hovertemplate": "<b>%{hovertext}</b><br><br>event=French Grand Prix<br>accident_year=%{x}<br>accident_month=%{y}<extra></extra>",
         "hovertext": [
          "Luigi Musso",
          "Jo Schlesser"
         ],
         "legendgroup": "French Grand Prix",
         "marker": {
          "color": "#0DF9FF",
          "size": 16,
          "symbol": "circle"
         },
         "mode": "markers",
         "name": "French Grand Prix",
         "orientation": "v",
         "showlegend": true,
         "type": "scatter",
         "x": [
          1958,
          1968
         ],
         "xaxis": "x",
         "y": [
          7,
          7
         ],
         "yaxis": "y"
        },
        {
         "hovertemplate": "<b>%{hovertext}</b><br><br>event=Moroccan Grand Prix<br>accident_year=%{x}<br>accident_month=%{y}<extra></extra>",
         "hovertext": [
          "Stuart Lewis-Evans"
         ],
         "legendgroup": "Moroccan Grand Prix",
         "marker": {
          "color": "#F6F926",
          "size": 16,
          "symbol": "circle"
         },
         "mode": "markers",
         "name": "Moroccan Grand Prix",
         "orientation": "v",
         "showlegend": true,
         "type": "scatter",
         "x": [
          1958
         ],
         "xaxis": "x",
         "y": [
          10
         ],
         "yaxis": "y"
        },
        {
         "hovertemplate": "<b>%{hovertext}</b><br><br>event=BRDC International Trophy<br>accident_year=%{x}<br>accident_month=%{y}<extra></extra>",
         "hovertext": [
          "Harry Schell"
         ],
         "legendgroup": "BRDC International Trophy",
         "marker": {
          "color": "#FF9616",
          "size": 16,
          "symbol": "circle"
         },
         "mode": "markers",
         "name": "BRDC International Trophy",
         "orientation": "v",
         "showlegend": true,
         "type": "scatter",
         "x": [
          1960
         ],
         "xaxis": "x",
         "y": [
          5
         ],
         "yaxis": "y"
        },
        {
         "hovertemplate": "<b>%{hovertext}</b><br><br>event=Belgian Grand Prix<br>accident_year=%{x}<br>accident_month=%{y}<extra></extra>",
         "hovertext": [
          "Chris Bristow",
          "Alan Stacey",
          " Gilles Villeneuve"
         ],
         "legendgroup": "Belgian Grand Prix",
         "marker": {
          "color": "#479B55",
          "size": 16,
          "symbol": "circle"
         },
         "mode": "markers",
         "name": "Belgian Grand Prix",
         "orientation": "v",
         "showlegend": true,
         "type": "scatter",
         "x": [
          1960,
          1960,
          1982
         ],
         "xaxis": "x",
         "y": [
          6,
          6,
          5
         ],
         "yaxis": "y"
        },
        {
         "hovertemplate": "<b>%{hovertext}</b><br><br>event=Silver City Trophy <br>accident_year=%{x}<br>accident_month=%{y}<extra></extra>",
         "hovertext": [
          "Shane Summers"
         ],
         "legendgroup": "Silver City Trophy ",
         "marker": {
          "color": "#EEA6FB",
          "size": 16,
          "symbol": "circle"
         },
         "mode": "markers",
         "name": "Silver City Trophy ",
         "orientation": "v",
         "showlegend": true,
         "type": "scatter",
         "x": [
          1961
         ],
         "xaxis": "x",
         "y": [
          6
         ],
         "yaxis": "y"
        },
        {
         "hovertemplate": "<b>%{hovertext}</b><br><br>event=Italian Grand Prix<br>accident_year=%{x}<br>accident_month=%{y}<extra></extra>",
         "hovertext": [
          "Wolfgang von Trips",
          "Jochen Rindt",
          "Ronnie Peterson"
         ],
         "legendgroup": "Italian Grand Prix",
         "marker": {
          "color": "#DC587D",
          "size": 16,
          "symbol": "circle"
         },
         "mode": "markers",
         "name": "Italian Grand Prix",
         "orientation": "v",
         "showlegend": true,
         "type": "scatter",
         "x": [
          1961,
          1970,
          1978
         ],
         "xaxis": "x",
         "y": [
          9,
          9,
          9
         ],
         "yaxis": "y"
        },
        {
         "hovertemplate": "<b>%{hovertext}</b><br><br>event=Mexican Grand Prix<br>accident_year=%{x}<br>accident_month=%{y}<extra></extra>",
         "hovertext": [
          "Ricardo Rodríguez"
         ],
         "legendgroup": "Mexican Grand Prix",
         "marker": {
          "color": "#D626FF",
          "size": 16,
          "symbol": "circle"
         },
         "mode": "markers",
         "name": "Mexican Grand Prix",
         "orientation": "v",
         "showlegend": true,
         "type": "scatter",
         "x": [
          1962
         ],
         "xaxis": "x",
         "y": [
          11
         ],
         "yaxis": "y"
        },
        {
         "hovertemplate": "<b>%{hovertext}</b><br><br>event=Natal Grand Prix<br>accident_year=%{x}<br>accident_month=%{y}<extra></extra>",
         "hovertext": [
          "Gary Hocking"
         ],
         "legendgroup": "Natal Grand Prix",
         "marker": {
          "color": "#6E899C",
          "size": 16,
          "symbol": "circle"
         },
         "mode": "markers",
         "name": "Natal Grand Prix",
         "orientation": "v",
         "showlegend": true,
         "type": "scatter",
         "x": [
          1962
         ],
         "xaxis": "x",
         "y": [
          12
         ],
         "yaxis": "y"
        },
        {
         "hovertemplate": "<b>%{hovertext}</b><br><br>event=Monaco Grand Prix<br>accident_year=%{x}<br>accident_month=%{y}<extra></extra>",
         "hovertext": [
          "Lorenzo Bandini"
         ],
         "legendgroup": "Monaco Grand Prix",
         "marker": {
          "color": "#00B5F7",
          "size": 16,
          "symbol": "circle"
         },
         "mode": "markers",
         "name": "Monaco Grand Prix",
         "orientation": "v",
         "showlegend": true,
         "type": "scatter",
         "x": [
          1967
         ],
         "xaxis": "x",
         "y": [
          5
         ],
         "yaxis": "y"
        },
        {
         "hovertemplate": "<b>%{hovertext}</b><br><br>event=Nottingham Sports Car Club meeting<br>accident_year=%{x}<br>accident_month=%{y}<extra></extra>",
         "hovertext": [
          "Martin Brain"
         ],
         "legendgroup": "Nottingham Sports Car Club meeting",
         "marker": {
          "color": "#B68E00",
          "size": 16,
          "symbol": "circle"
         },
         "mode": "markers",
         "name": "Nottingham Sports Car Club meeting",
         "orientation": "v",
         "showlegend": true,
         "type": "scatter",
         "x": [
          1970
         ],
         "xaxis": "x",
         "y": [
          5
         ],
         "yaxis": "y"
        },
        {
         "hovertemplate": "<b>%{hovertext}</b><br><br>event=Dutch Grand Prix<br>accident_year=%{x}<br>accident_month=%{y}<extra></extra>",
         "hovertext": [
          "Piers Courage",
          "Roger Williamson"
         ],
         "legendgroup": "Dutch Grand Prix",
         "marker": {
          "color": "#C9FBE5",
          "size": 16,
          "symbol": "circle"
         },
         "mode": "markers",
         "name": "Dutch Grand Prix",
         "orientation": "v",
         "showlegend": true,
         "type": "scatter",
         "x": [
          1970,
          1973
         ],
         "xaxis": "x",
         "y": [
          6,
          7
         ],
         "yaxis": "y"
        },
        {
         "hovertemplate": "<b>%{hovertext}</b><br><br>event=World Championship Victory Race<br>accident_year=%{x}<br>accident_month=%{y}<extra></extra>",
         "hovertext": [
          "Jo Siffert"
         ],
         "legendgroup": "World Championship Victory Race",
         "marker": {
          "color": "#FF0092",
          "size": 16,
          "symbol": "circle"
         },
         "mode": "markers",
         "name": "World Championship Victory Race",
         "orientation": "v",
         "showlegend": true,
         "type": "scatter",
         "x": [
          1971
         ],
         "xaxis": "x",
         "y": [
          10
         ],
         "yaxis": "y"
        },
        {
         "hovertemplate": "<b>%{hovertext}</b><br><br>event=United States Grand Prix<br>accident_year=%{x}<br>accident_month=%{y}<extra></extra>",
         "hovertext": [
          "François Cevert",
          "Helmuth Koinigg"
         ],
         "legendgroup": "United States Grand Prix",
         "marker": {
          "color": "#22FFA7",
          "size": 16,
          "symbol": "circle"
         },
         "mode": "markers",
         "name": "United States Grand Prix",
         "orientation": "v",
         "showlegend": true,
         "type": "scatter",
         "x": [
          1973,
          1974
         ],
         "xaxis": "x",
         "y": [
          10,
          10
         ],
         "yaxis": "y"
        },
        {
         "hovertemplate": "<b>%{hovertext}</b><br><br>event=South African Grand Prix<br>accident_year=%{x}<br>accident_month=%{y}<extra></extra>",
         "hovertext": [
          "Peter Revson",
          "Tom Pryce"
         ],
         "legendgroup": "South African Grand Prix",
         "marker": {
          "color": "#E3EE9E",
          "size": 16,
          "symbol": "circle"
         },
         "mode": "markers",
         "name": "South African Grand Prix",
         "orientation": "v",
         "showlegend": true,
         "type": "scatter",
         "x": [
          1974,
          1977
         ],
         "xaxis": "x",
         "y": [
          3,
          3
         ],
         "yaxis": "y"
        },
        {
         "hovertemplate": "<b>%{hovertext}</b><br><br>event=Austrian Grand Prix<br>accident_year=%{x}<br>accident_month=%{y}<extra></extra>",
         "hovertext": [
          "Mark Donohue"
         ],
         "legendgroup": "Austrian Grand Prix",
         "marker": {
          "color": "#86CE00",
          "size": 16,
          "symbol": "circle"
         },
         "mode": "markers",
         "name": "Austrian Grand Prix",
         "orientation": "v",
         "showlegend": true,
         "type": "scatter",
         "x": [
          1975
         ],
         "xaxis": "x",
         "y": [
          8
         ],
         "yaxis": "y"
        },
        {
         "hovertemplate": "<b>%{hovertext}</b><br><br>event=Shellsport International Series Round 11<br>accident_year=%{x}<br>accident_month=%{y}<extra></extra>",
         "hovertext": [
          "Brian McGuire"
         ],
         "legendgroup": "Shellsport International Series Round 11",
         "marker": {
          "color": "#BC7196",
          "size": 16,
          "symbol": "circle"
         },
         "mode": "markers",
         "name": "Shellsport International Series Round 11",
         "orientation": "v",
         "showlegend": true,
         "type": "scatter",
         "x": [
          1977
         ],
         "xaxis": "x",
         "y": [
          8
         ],
         "yaxis": "y"
        },
        {
         "hovertemplate": "<b>%{hovertext}</b><br><br>event=Canadian Grand Prix<br>accident_year=%{x}<br>accident_month=%{y}<extra></extra>",
         "hovertext": [
          "Riccardo Paletti"
         ],
         "legendgroup": "Canadian Grand Prix",
         "marker": {
          "color": "#7E7DCD",
          "size": 16,
          "symbol": "circle"
         },
         "mode": "markers",
         "name": "Canadian Grand Prix",
         "orientation": "v",
         "showlegend": true,
         "type": "scatter",
         "x": [
          1982
         ],
         "xaxis": "x",
         "y": [
          6
         ],
         "yaxis": "y"
        },
        {
         "hovertemplate": "<b>%{hovertext}</b><br><br>event=San Marino Grand Prix<br>accident_year=%{x}<br>accident_month=%{y}<extra></extra>",
         "hovertext": [
          "Roland Ratzenberger",
          "Ayrton Senna"
         ],
         "legendgroup": "San Marino Grand Prix",
         "marker": {
          "color": "#FC6955",
          "size": 16,
          "symbol": "circle"
         },
         "mode": "markers",
         "name": "San Marino Grand Prix",
         "orientation": "v",
         "showlegend": true,
         "type": "scatter",
         "x": [
          1994,
          1994
         ],
         "xaxis": "x",
         "y": [
          4,
          5
         ],
         "yaxis": "y"
        },
        {
         "hovertemplate": "<b>%{hovertext}</b><br><br>event=Goodwood Festival of Speed<br>accident_year=%{x}<br>accident_month=%{y}<extra></extra>",
         "hovertext": [
          "John Dawson-Damer"
         ],
         "legendgroup": "Goodwood Festival of Speed",
         "marker": {
          "color": "#E48F72",
          "size": 16,
          "symbol": "circle"
         },
         "mode": "markers",
         "name": "Goodwood Festival of Speed",
         "orientation": "v",
         "showlegend": true,
         "type": "scatter",
         "x": [
          2000
         ],
         "xaxis": "x",
         "y": [
          6
         ],
         "yaxis": "y"
        },
        {
         "hovertemplate": "<b>%{hovertext}</b><br><br>event=Czech Superprix<br>accident_year=%{x}<br>accident_month=%{y}<extra></extra>",
         "hovertext": [
          "Fritz Glatz"
         ],
         "legendgroup": "Czech Superprix",
         "marker": {
          "color": "#FD3216",
          "size": 16,
          "symbol": "circle"
         },
         "mode": "markers",
         "name": "Czech Superprix",
         "orientation": "v",
         "showlegend": true,
         "type": "scatter",
         "x": [
          2002
         ],
         "xaxis": "x",
         "y": [
          7
         ],
         "yaxis": "y"
        },
        {
         "hovertemplate": "<b>%{hovertext}</b><br><br>event=Jack Brabham Memorial Trophy<br>accident_year=%{x}<br>accident_month=%{y}<extra></extra>",
         "hovertext": [
          "Denis Welch"
         ],
         "legendgroup": "Jack Brabham Memorial Trophy",
         "marker": {
          "color": "#00FE35",
          "size": 16,
          "symbol": "circle"
         },
         "mode": "markers",
         "name": "Jack Brabham Memorial Trophy",
         "orientation": "v",
         "showlegend": true,
         "type": "scatter",
         "x": [
          2014
         ],
         "xaxis": "x",
         "y": [
          7
         ],
         "yaxis": "y"
        },
        {
         "hovertemplate": "<b>%{hovertext}</b><br><br>event=Japanese Grand Prix<br>accident_year=%{x}<br>accident_month=%{y}<extra></extra>",
         "hovertext": [
          "Jules Bianchi"
         ],
         "legendgroup": "Japanese Grand Prix",
         "marker": {
          "color": "#6A76FC",
          "size": 16,
          "symbol": "circle"
         },
         "mode": "markers",
         "name": "Japanese Grand Prix",
         "orientation": "v",
         "showlegend": true,
         "type": "scatter",
         "x": [
          2014
         ],
         "xaxis": "x",
         "y": [
          10
         ],
         "yaxis": "y"
        },
        {
         "hovertemplate": "<b>%{hovertext}</b><br><br>event=Historic Grand Prix<br>accident_year=%{x}<br>accident_month=%{y}<extra></extra>",
         "hovertext": [
          "David Ferrer"
         ],
         "legendgroup": "Historic Grand Prix",
         "marker": {
          "color": "#FED4C4",
          "size": 16,
          "symbol": "circle"
         },
         "mode": "markers",
         "name": "Historic Grand Prix",
         "orientation": "v",
         "showlegend": true,
         "type": "scatter",
         "x": [
          2017
         ],
         "xaxis": "x",
         "y": [
          9
         ],
         "yaxis": "y"
        }
       ],
       "layout": {
        "legend": {
         "title": {
          "text": "event"
         },
         "tracegroupgap": 0
        },
        "template": {
         "data": {
          "bar": [
           {
            "error_x": {
             "color": "#2a3f5f"
            },
            "error_y": {
             "color": "#2a3f5f"
            },
            "marker": {
             "line": {
              "color": "#E5ECF6",
              "width": 0.5
             },
             "pattern": {
              "fillmode": "overlay",
              "size": 10,
              "solidity": 0.2
             }
            },
            "type": "bar"
           }
          ],
          "barpolar": [
           {
            "marker": {
             "line": {
              "color": "#E5ECF6",
              "width": 0.5
             },
             "pattern": {
              "fillmode": "overlay",
              "size": 10,
              "solidity": 0.2
             }
            },
            "type": "barpolar"
           }
          ],
          "carpet": [
           {
            "aaxis": {
             "endlinecolor": "#2a3f5f",
             "gridcolor": "white",
             "linecolor": "white",
             "minorgridcolor": "white",
             "startlinecolor": "#2a3f5f"
            },
            "baxis": {
             "endlinecolor": "#2a3f5f",
             "gridcolor": "white",
             "linecolor": "white",
             "minorgridcolor": "white",
             "startlinecolor": "#2a3f5f"
            },
            "type": "carpet"
           }
          ],
          "choropleth": [
           {
            "colorbar": {
             "outlinewidth": 0,
             "ticks": ""
            },
            "type": "choropleth"
           }
          ],
          "contour": [
           {
            "colorbar": {
             "outlinewidth": 0,
             "ticks": ""
            },
            "colorscale": [
             [
              0,
              "#0d0887"
             ],
             [
              0.1111111111111111,
              "#46039f"
             ],
             [
              0.2222222222222222,
              "#7201a8"
             ],
             [
              0.3333333333333333,
              "#9c179e"
             ],
             [
              0.4444444444444444,
              "#bd3786"
             ],
             [
              0.5555555555555556,
              "#d8576b"
             ],
             [
              0.6666666666666666,
              "#ed7953"
             ],
             [
              0.7777777777777778,
              "#fb9f3a"
             ],
             [
              0.8888888888888888,
              "#fdca26"
             ],
             [
              1,
              "#f0f921"
             ]
            ],
            "type": "contour"
           }
          ],
          "contourcarpet": [
           {
            "colorbar": {
             "outlinewidth": 0,
             "ticks": ""
            },
            "type": "contourcarpet"
           }
          ],
          "heatmap": [
           {
            "colorbar": {
             "outlinewidth": 0,
             "ticks": ""
            },
            "colorscale": [
             [
              0,
              "#0d0887"
             ],
             [
              0.1111111111111111,
              "#46039f"
             ],
             [
              0.2222222222222222,
              "#7201a8"
             ],
             [
              0.3333333333333333,
              "#9c179e"
             ],
             [
              0.4444444444444444,
              "#bd3786"
             ],
             [
              0.5555555555555556,
              "#d8576b"
             ],
             [
              0.6666666666666666,
              "#ed7953"
             ],
             [
              0.7777777777777778,
              "#fb9f3a"
             ],
             [
              0.8888888888888888,
              "#fdca26"
             ],
             [
              1,
              "#f0f921"
             ]
            ],
            "type": "heatmap"
           }
          ],
          "heatmapgl": [
           {
            "colorbar": {
             "outlinewidth": 0,
             "ticks": ""
            },
            "colorscale": [
             [
              0,
              "#0d0887"
             ],
             [
              0.1111111111111111,
              "#46039f"
             ],
             [
              0.2222222222222222,
              "#7201a8"
             ],
             [
              0.3333333333333333,
              "#9c179e"
             ],
             [
              0.4444444444444444,
              "#bd3786"
             ],
             [
              0.5555555555555556,
              "#d8576b"
             ],
             [
              0.6666666666666666,
              "#ed7953"
             ],
             [
              0.7777777777777778,
              "#fb9f3a"
             ],
             [
              0.8888888888888888,
              "#fdca26"
             ],
             [
              1,
              "#f0f921"
             ]
            ],
            "type": "heatmapgl"
           }
          ],
          "histogram": [
           {
            "marker": {
             "pattern": {
              "fillmode": "overlay",
              "size": 10,
              "solidity": 0.2
             }
            },
            "type": "histogram"
           }
          ],
          "histogram2d": [
           {
            "colorbar": {
             "outlinewidth": 0,
             "ticks": ""
            },
            "colorscale": [
             [
              0,
              "#0d0887"
             ],
             [
              0.1111111111111111,
              "#46039f"
             ],
             [
              0.2222222222222222,
              "#7201a8"
             ],
             [
              0.3333333333333333,
              "#9c179e"
             ],
             [
              0.4444444444444444,
              "#bd3786"
             ],
             [
              0.5555555555555556,
              "#d8576b"
             ],
             [
              0.6666666666666666,
              "#ed7953"
             ],
             [
              0.7777777777777778,
              "#fb9f3a"
             ],
             [
              0.8888888888888888,
              "#fdca26"
             ],
             [
              1,
              "#f0f921"
             ]
            ],
            "type": "histogram2d"
           }
          ],
          "histogram2dcontour": [
           {
            "colorbar": {
             "outlinewidth": 0,
             "ticks": ""
            },
            "colorscale": [
             [
              0,
              "#0d0887"
             ],
             [
              0.1111111111111111,
              "#46039f"
             ],
             [
              0.2222222222222222,
              "#7201a8"
             ],
             [
              0.3333333333333333,
              "#9c179e"
             ],
             [
              0.4444444444444444,
              "#bd3786"
             ],
             [
              0.5555555555555556,
              "#d8576b"
             ],
             [
              0.6666666666666666,
              "#ed7953"
             ],
             [
              0.7777777777777778,
              "#fb9f3a"
             ],
             [
              0.8888888888888888,
              "#fdca26"
             ],
             [
              1,
              "#f0f921"
             ]
            ],
            "type": "histogram2dcontour"
           }
          ],
          "mesh3d": [
           {
            "colorbar": {
             "outlinewidth": 0,
             "ticks": ""
            },
            "type": "mesh3d"
           }
          ],
          "parcoords": [
           {
            "line": {
             "colorbar": {
              "outlinewidth": 0,
              "ticks": ""
             }
            },
            "type": "parcoords"
           }
          ],
          "pie": [
           {
            "automargin": true,
            "type": "pie"
           }
          ],
          "scatter": [
           {
            "marker": {
             "colorbar": {
              "outlinewidth": 0,
              "ticks": ""
             }
            },
            "type": "scatter"
           }
          ],
          "scatter3d": [
           {
            "line": {
             "colorbar": {
              "outlinewidth": 0,
              "ticks": ""
             }
            },
            "marker": {
             "colorbar": {
              "outlinewidth": 0,
              "ticks": ""
             }
            },
            "type": "scatter3d"
           }
          ],
          "scattercarpet": [
           {
            "marker": {
             "colorbar": {
              "outlinewidth": 0,
              "ticks": ""
             }
            },
            "type": "scattercarpet"
           }
          ],
          "scattergeo": [
           {
            "marker": {
             "colorbar": {
              "outlinewidth": 0,
              "ticks": ""
             }
            },
            "type": "scattergeo"
           }
          ],
          "scattergl": [
           {
            "marker": {
             "colorbar": {
              "outlinewidth": 0,
              "ticks": ""
             }
            },
            "type": "scattergl"
           }
          ],
          "scattermapbox": [
           {
            "marker": {
             "colorbar": {
              "outlinewidth": 0,
              "ticks": ""
             }
            },
            "type": "scattermapbox"
           }
          ],
          "scatterpolar": [
           {
            "marker": {
             "colorbar": {
              "outlinewidth": 0,
              "ticks": ""
             }
            },
            "type": "scatterpolar"
           }
          ],
          "scatterpolargl": [
           {
            "marker": {
             "colorbar": {
              "outlinewidth": 0,
              "ticks": ""
             }
            },
            "type": "scatterpolargl"
           }
          ],
          "scatterternary": [
           {
            "marker": {
             "colorbar": {
              "outlinewidth": 0,
              "ticks": ""
             }
            },
            "type": "scatterternary"
           }
          ],
          "surface": [
           {
            "colorbar": {
             "outlinewidth": 0,
             "ticks": ""
            },
            "colorscale": [
             [
              0,
              "#0d0887"
             ],
             [
              0.1111111111111111,
              "#46039f"
             ],
             [
              0.2222222222222222,
              "#7201a8"
             ],
             [
              0.3333333333333333,
              "#9c179e"
             ],
             [
              0.4444444444444444,
              "#bd3786"
             ],
             [
              0.5555555555555556,
              "#d8576b"
             ],
             [
              0.6666666666666666,
              "#ed7953"
             ],
             [
              0.7777777777777778,
              "#fb9f3a"
             ],
             [
              0.8888888888888888,
              "#fdca26"
             ],
             [
              1,
              "#f0f921"
             ]
            ],
            "type": "surface"
           }
          ],
          "table": [
           {
            "cells": {
             "fill": {
              "color": "#EBF0F8"
             },
             "line": {
              "color": "white"
             }
            },
            "header": {
             "fill": {
              "color": "#C8D4E3"
             },
             "line": {
              "color": "white"
             }
            },
            "type": "table"
           }
          ]
         },
         "layout": {
          "annotationdefaults": {
           "arrowcolor": "#2a3f5f",
           "arrowhead": 0,
           "arrowwidth": 1
          },
          "autotypenumbers": "strict",
          "coloraxis": {
           "colorbar": {
            "outlinewidth": 0,
            "ticks": ""
           }
          },
          "colorscale": {
           "diverging": [
            [
             0,
             "#8e0152"
            ],
            [
             0.1,
             "#c51b7d"
            ],
            [
             0.2,
             "#de77ae"
            ],
            [
             0.3,
             "#f1b6da"
            ],
            [
             0.4,
             "#fde0ef"
            ],
            [
             0.5,
             "#f7f7f7"
            ],
            [
             0.6,
             "#e6f5d0"
            ],
            [
             0.7,
             "#b8e186"
            ],
            [
             0.8,
             "#7fbc41"
            ],
            [
             0.9,
             "#4d9221"
            ],
            [
             1,
             "#276419"
            ]
           ],
           "sequential": [
            [
             0,
             "#0d0887"
            ],
            [
             0.1111111111111111,
             "#46039f"
            ],
            [
             0.2222222222222222,
             "#7201a8"
            ],
            [
             0.3333333333333333,
             "#9c179e"
            ],
            [
             0.4444444444444444,
             "#bd3786"
            ],
            [
             0.5555555555555556,
             "#d8576b"
            ],
            [
             0.6666666666666666,
             "#ed7953"
            ],
            [
             0.7777777777777778,
             "#fb9f3a"
            ],
            [
             0.8888888888888888,
             "#fdca26"
            ],
            [
             1,
             "#f0f921"
            ]
           ],
           "sequentialminus": [
            [
             0,
             "#0d0887"
            ],
            [
             0.1111111111111111,
             "#46039f"
            ],
            [
             0.2222222222222222,
             "#7201a8"
            ],
            [
             0.3333333333333333,
             "#9c179e"
            ],
            [
             0.4444444444444444,
             "#bd3786"
            ],
            [
             0.5555555555555556,
             "#d8576b"
            ],
            [
             0.6666666666666666,
             "#ed7953"
            ],
            [
             0.7777777777777778,
             "#fb9f3a"
            ],
            [
             0.8888888888888888,
             "#fdca26"
            ],
            [
             1,
             "#f0f921"
            ]
           ]
          },
          "colorway": [
           "#636efa",
           "#EF553B",
           "#00cc96",
           "#ab63fa",
           "#FFA15A",
           "#19d3f3",
           "#FF6692",
           "#B6E880",
           "#FF97FF",
           "#FECB52"
          ],
          "font": {
           "color": "#2a3f5f"
          },
          "geo": {
           "bgcolor": "white",
           "lakecolor": "white",
           "landcolor": "#E5ECF6",
           "showlakes": true,
           "showland": true,
           "subunitcolor": "white"
          },
          "hoverlabel": {
           "align": "left"
          },
          "hovermode": "closest",
          "mapbox": {
           "style": "light"
          },
          "paper_bgcolor": "white",
          "plot_bgcolor": "#E5ECF6",
          "polar": {
           "angularaxis": {
            "gridcolor": "white",
            "linecolor": "white",
            "ticks": ""
           },
           "bgcolor": "#E5ECF6",
           "radialaxis": {
            "gridcolor": "white",
            "linecolor": "white",
            "ticks": ""
           }
          },
          "scene": {
           "xaxis": {
            "backgroundcolor": "#E5ECF6",
            "gridcolor": "white",
            "gridwidth": 2,
            "linecolor": "white",
            "showbackground": true,
            "ticks": "",
            "zerolinecolor": "white"
           },
           "yaxis": {
            "backgroundcolor": "#E5ECF6",
            "gridcolor": "white",
            "gridwidth": 2,
            "linecolor": "white",
            "showbackground": true,
            "ticks": "",
            "zerolinecolor": "white"
           },
           "zaxis": {
            "backgroundcolor": "#E5ECF6",
            "gridcolor": "white",
            "gridwidth": 2,
            "linecolor": "white",
            "showbackground": true,
            "ticks": "",
            "zerolinecolor": "white"
           }
          },
          "shapedefaults": {
           "line": {
            "color": "#2a3f5f"
           }
          },
          "ternary": {
           "aaxis": {
            "gridcolor": "white",
            "linecolor": "white",
            "ticks": ""
           },
           "baxis": {
            "gridcolor": "white",
            "linecolor": "white",
            "ticks": ""
           },
           "bgcolor": "#E5ECF6",
           "caxis": {
            "gridcolor": "white",
            "linecolor": "white",
            "ticks": ""
           }
          },
          "title": {
           "x": 0.05
          },
          "xaxis": {
           "automargin": true,
           "gridcolor": "white",
           "linecolor": "white",
           "ticks": "",
           "title": {
            "standoff": 15
           },
           "zerolinecolor": "white",
           "zerolinewidth": 2
          },
          "yaxis": {
           "automargin": true,
           "gridcolor": "white",
           "linecolor": "white",
           "ticks": "",
           "title": {
            "standoff": 15
           },
           "zerolinecolor": "white",
           "zerolinewidth": 2
          }
         }
        },
        "title": {
         "text": "Fatal Crashes since 1952"
        },
        "xaxis": {
         "anchor": "y",
         "domain": [
          0,
          1
         ],
         "title": {
          "text": "accident_year"
         },
         "type": "log"
        },
        "yaxis": {
         "anchor": "x",
         "domain": [
          0,
          1
         ],
         "title": {
          "text": "accident_month"
         }
        }
       }
      }
     },
     "metadata": {},
     "output_type": "display_data"
    }
   ],
   "source": [
    "#Plot bubble chart \n",
    "\n",
    "fig = px.scatter(crash_encoded, x=\"accident_year\", y=\"accident_month\", color= \"event\", title=\"Fatal Crashes since 1952\", hover_name=\"driver\", log_x=True, size_max=60, color_discrete_sequence=px.colors.qualitative.Light24)\n",
    "fig.update_traces(marker=dict(size=16))\n",
    "fig.show()"
   ]
  },
  {
   "cell_type": "code",
   "execution_count": 32,
   "metadata": {},
   "outputs": [
    {
     "data": {
      "application/vnd.plotly.v1+json": {
       "config": {
        "plotlyServerURL": "https://plot.ly"
       },
       "data": [
        {
         "hovertemplate": "<b>%{hovertext}</b><br><br>circuit=MIRA<br>accident_year=%{x}<br>accident_month=%{y}<extra></extra>",
         "hovertext": [
          "Cameron Earl"
         ],
         "legendgroup": "MIRA",
         "marker": {
          "color": "#FD3216",
          "size": 16,
          "symbol": "circle"
         },
         "mode": "markers",
         "name": "MIRA",
         "orientation": "v",
         "showlegend": true,
         "type": "scatter",
         "x": [
          1952
         ],
         "xaxis": "x",
         "y": [
          6
         ],
         "yaxis": "y"
        },
        {
         "hovertemplate": "<b>%{hovertext}</b><br><br>circuit=Indianapolis Motor Speedway<br>accident_year=%{x}<br>accident_month=%{y}<extra></extra>",
         "hovertext": [
          "Chet Miller",
          "Manny Ayulo",
          "Bill Vukovich",
          " Keith Andrews",
          "Pat O'Connor",
          "Jerry Unser Jr."
         ],
         "legendgroup": "Indianapolis Motor Speedway",
         "marker": {
          "color": "#00FE35",
          "size": 16,
          "symbol": "circle"
         },
         "mode": "markers",
         "name": "Indianapolis Motor Speedway",
         "orientation": "v",
         "showlegend": true,
         "type": "scatter",
         "x": [
          1953,
          1955,
          1955,
          1957,
          1958,
          1959
         ],
         "xaxis": "x",
         "y": [
          5,
          5,
          5,
          5,
          5,
          5
         ],
         "yaxis": "y"
        },
        {
         "hovertemplate": "<b>%{hovertext}</b><br><br>circuit=Autodromo di Modena<br>accident_year=%{x}<br>accident_month=%{y}<extra></extra>",
         "hovertext": [
          "Charles de Tornaco",
          "Eugenio Castellotti",
          "Giulio Cabianca"
         ],
         "legendgroup": "Autodromo di Modena",
         "marker": {
          "color": "#6A76FC",
          "size": 16,
          "symbol": "circle"
         },
         "mode": "markers",
         "name": "Autodromo di Modena",
         "orientation": "v",
         "showlegend": true,
         "type": "scatter",
         "x": [
          1953,
          1957,
          1961
         ],
         "xaxis": "x",
         "y": [
          9,
          3,
          6
         ],
         "yaxis": "y"
        },
        {
         "hovertemplate": "<b>%{hovertext}</b><br><br>circuit=Nürburgring<br>accident_year=%{x}<br>accident_month=%{y}<extra></extra>",
         "hovertext": [
          "Onofre Marimón",
          "Peter Collins",
          "Carel Godin de Beaufort",
          "John Taylor",
          "Gerhard Mitter"
         ],
         "legendgroup": "Nürburgring",
         "marker": {
          "color": "#FED4C4",
          "size": 16,
          "symbol": "circle"
         },
         "mode": "markers",
         "name": "Nürburgring",
         "orientation": "v",
         "showlegend": true,
         "type": "scatter",
         "x": [
          1954,
          1958,
          1964,
          1966,
          1969
         ],
         "xaxis": "x",
         "y": [
          7,
          8,
          8,
          8,
          8
         ],
         "yaxis": "y"
        },
        {
         "hovertemplate": "<b>%{hovertext}</b><br><br>circuit=Circuit de Pau-Ville<br>accident_year=%{x}<br>accident_month=%{y}<extra></extra>",
         "hovertext": [
          "Mario Alborghetti"
         ],
         "legendgroup": "Circuit de Pau-Ville",
         "marker": {
          "color": "#FE00CE",
          "size": 16,
          "symbol": "circle"
         },
         "mode": "markers",
         "name": "Circuit de Pau-Ville",
         "orientation": "v",
         "showlegend": true,
         "type": "scatter",
         "x": [
          1955
         ],
         "xaxis": "x",
         "y": [
          4
         ],
         "yaxis": "y"
        },
        {
         "hovertemplate": "<b>%{hovertext}</b><br><br>circuit=Circuit de Reims-Gueux<br>accident_year=%{x}<br>accident_month=%{y}<extra></extra>",
         "hovertext": [
          "Luigi Musso"
         ],
         "legendgroup": "Circuit de Reims-Gueux",
         "marker": {
          "color": "#0DF9FF",
          "size": 16,
          "symbol": "circle"
         },
         "mode": "markers",
         "name": "Circuit de Reims-Gueux",
         "orientation": "v",
         "showlegend": true,
         "type": "scatter",
         "x": [
          1958
         ],
         "xaxis": "x",
         "y": [
          7
         ],
         "yaxis": "y"
        },
        {
         "hovertemplate": "<b>%{hovertext}</b><br><br>circuit=Circuit d'Ain-Diab<br>accident_year=%{x}<br>accident_month=%{y}<extra></extra>",
         "hovertext": [
          "Stuart Lewis-Evans"
         ],
         "legendgroup": "Circuit d'Ain-Diab",
         "marker": {
          "color": "#F6F926",
          "size": 16,
          "symbol": "circle"
         },
         "mode": "markers",
         "name": "Circuit d'Ain-Diab",
         "orientation": "v",
         "showlegend": true,
         "type": "scatter",
         "x": [
          1958
         ],
         "xaxis": "x",
         "y": [
          10
         ],
         "yaxis": "y"
        },
        {
         "hovertemplate": "<b>%{hovertext}</b><br><br>circuit=Indianapolis Motor Speedway\t<br>accident_year=%{x}<br>accident_month=%{y}<extra></extra>",
         "hovertext": [
          "Bob Cortner"
         ],
         "legendgroup": "Indianapolis Motor Speedway\t",
         "marker": {
          "color": "#FF9616",
          "size": 16,
          "symbol": "circle"
         },
         "mode": "markers",
         "name": "Indianapolis Motor Speedway\t",
         "orientation": "v",
         "showlegend": true,
         "type": "scatter",
         "x": [
          1959
         ],
         "xaxis": "x",
         "y": [
          5
         ],
         "yaxis": "y"
        },
        {
         "hovertemplate": "<b>%{hovertext}</b><br><br>circuit=Silverstone Circuit<br>accident_year=%{x}<br>accident_month=%{y}<extra></extra>",
         "hovertext": [
          "Harry Schell",
          "Bob Anderson",
          "Martin Brain",
          "Denis Welch"
         ],
         "legendgroup": "Silverstone Circuit",
         "marker": {
          "color": "#479B55",
          "size": 16,
          "symbol": "circle"
         },
         "mode": "markers",
         "name": "Silverstone Circuit",
         "orientation": "v",
         "showlegend": true,
         "type": "scatter",
         "x": [
          1960,
          1967,
          1970,
          2014
         ],
         "xaxis": "x",
         "y": [
          5,
          8,
          5,
          7
         ],
         "yaxis": "y"
        },
        {
         "hovertemplate": "<b>%{hovertext}</b><br><br>circuit=Circuit de Spa-Francorchamps<br>accident_year=%{x}<br>accident_month=%{y}<extra></extra>",
         "hovertext": [
          "Chris Bristow",
          "Alan Stacey"
         ],
         "legendgroup": "Circuit de Spa-Francorchamps",
         "marker": {
          "color": "#EEA6FB",
          "size": 16,
          "symbol": "circle"
         },
         "mode": "markers",
         "name": "Circuit de Spa-Francorchamps",
         "orientation": "v",
         "showlegend": true,
         "type": "scatter",
         "x": [
          1960,
          1960
         ],
         "xaxis": "x",
         "y": [
          6,
          6
         ],
         "yaxis": "y"
        },
        {
         "hovertemplate": "<b>%{hovertext}</b><br><br>circuit=Brands Hatch<br>accident_year=%{x}<br>accident_month=%{y}<extra></extra>",
         "hovertext": [
          "Shane Summers",
          "Jo Siffert",
          "Brian McGuire"
         ],
         "legendgroup": "Brands Hatch",
         "marker": {
          "color": "#DC587D",
          "size": 16,
          "symbol": "circle"
         },
         "mode": "markers",
         "name": "Brands Hatch",
         "orientation": "v",
         "showlegend": true,
         "type": "scatter",
         "x": [
          1961,
          1971,
          1977
         ],
         "xaxis": "x",
         "y": [
          6,
          10,
          8
         ],
         "yaxis": "y"
        },
        {
         "hovertemplate": "<b>%{hovertext}</b><br><br>circuit=Autodromo Nazionale di Monza<br>accident_year=%{x}<br>accident_month=%{y}<extra></extra>",
         "hovertext": [
          "Wolfgang von Trips",
          "Jochen Rindt",
          "Ronnie Peterson"
         ],
         "legendgroup": "Autodromo Nazionale di Monza",
         "marker": {
          "color": "#D626FF",
          "size": 16,
          "symbol": "circle"
         },
         "mode": "markers",
         "name": "Autodromo Nazionale di Monza",
         "orientation": "v",
         "showlegend": true,
         "type": "scatter",
         "x": [
          1961,
          1970,
          1978
         ],
         "xaxis": "x",
         "y": [
          9,
          9,
          9
         ],
         "yaxis": "y"
        },
        {
         "hovertemplate": "<b>%{hovertext}</b><br><br>circuit=Autódromo Magdalena Mixiuhca<br>accident_year=%{x}<br>accident_month=%{y}<extra></extra>",
         "hovertext": [
          "Ricardo Rodríguez"
         ],
         "legendgroup": "Autódromo Magdalena Mixiuhca",
         "marker": {
          "color": "#6E899C",
          "size": 16,
          "symbol": "circle"
         },
         "mode": "markers",
         "name": "Autódromo Magdalena Mixiuhca",
         "orientation": "v",
         "showlegend": true,
         "type": "scatter",
         "x": [
          1962
         ],
         "xaxis": "x",
         "y": [
          11
         ],
         "yaxis": "y"
        },
        {
         "hovertemplate": "<b>%{hovertext}</b><br><br>circuit=Westmead Circuit<br>accident_year=%{x}<br>accident_month=%{y}<extra></extra>",
         "hovertext": [
          "Gary Hocking"
         ],
         "legendgroup": "Westmead Circuit",
         "marker": {
          "color": "#00B5F7",
          "size": 16,
          "symbol": "circle"
         },
         "mode": "markers",
         "name": "Westmead Circuit",
         "orientation": "v",
         "showlegend": true,
         "type": "scatter",
         "x": [
          1962
         ],
         "xaxis": "x",
         "y": [
          12
         ],
         "yaxis": "y"
        },
        {
         "hovertemplate": "<b>%{hovertext}</b><br><br>circuit=Circuit de Monaco<br>accident_year=%{x}<br>accident_month=%{y}<extra></extra>",
         "hovertext": [
          "Lorenzo Bandini"
         ],
         "legendgroup": "Circuit de Monaco",
         "marker": {
          "color": "#B68E00",
          "size": 16,
          "symbol": "circle"
         },
         "mode": "markers",
         "name": "Circuit de Monaco",
         "orientation": "v",
         "showlegend": true,
         "type": "scatter",
         "x": [
          1967
         ],
         "xaxis": "x",
         "y": [
          5
         ],
         "yaxis": "y"
        },
        {
         "hovertemplate": "<b>%{hovertext}</b><br><br>circuit=Circuit de Rouen-les-Essarts<br>accident_year=%{x}<br>accident_month=%{y}<extra></extra>",
         "hovertext": [
          "Jo Schlesser"
         ],
         "legendgroup": "Circuit de Rouen-les-Essarts",
         "marker": {
          "color": "#C9FBE5",
          "size": 16,
          "symbol": "circle"
         },
         "mode": "markers",
         "name": "Circuit de Rouen-les-Essarts",
         "orientation": "v",
         "showlegend": true,
         "type": "scatter",
         "x": [
          1968
         ],
         "xaxis": "x",
         "y": [
          7
         ],
         "yaxis": "y"
        },
        {
         "hovertemplate": "<b>%{hovertext}</b><br><br>circuit=Circuit Park Zandvoort<br>accident_year=%{x}<br>accident_month=%{y}<extra></extra>",
         "hovertext": [
          "Piers Courage",
          "Roger Williamson",
          "David Ferrer"
         ],
         "legendgroup": "Circuit Park Zandvoort",
         "marker": {
          "color": "#FF0092",
          "size": 16,
          "symbol": "circle"
         },
         "mode": "markers",
         "name": "Circuit Park Zandvoort",
         "orientation": "v",
         "showlegend": true,
         "type": "scatter",
         "x": [
          1970,
          1973,
          2017
         ],
         "xaxis": "x",
         "y": [
          6,
          7,
          9
         ],
         "yaxis": "y"
        },
        {
         "hovertemplate": "<b>%{hovertext}</b><br><br>circuit=Watkins Glen International<br>accident_year=%{x}<br>accident_month=%{y}<extra></extra>",
         "hovertext": [
          "François Cevert",
          "Helmuth Koinigg"
         ],
         "legendgroup": "Watkins Glen International",
         "marker": {
          "color": "#22FFA7",
          "size": 16,
          "symbol": "circle"
         },
         "mode": "markers",
         "name": "Watkins Glen International",
         "orientation": "v",
         "showlegend": true,
         "type": "scatter",
         "x": [
          1973,
          1974
         ],
         "xaxis": "x",
         "y": [
          10,
          10
         ],
         "yaxis": "y"
        },
        {
         "hovertemplate": "<b>%{hovertext}</b><br><br>circuit=Kyalami Racing Circuit<br>accident_year=%{x}<br>accident_month=%{y}<extra></extra>",
         "hovertext": [
          "Peter Revson",
          "Tom Pryce"
         ],
         "legendgroup": "Kyalami Racing Circuit",
         "marker": {
          "color": "#E3EE9E",
          "size": 16,
          "symbol": "circle"
         },
         "mode": "markers",
         "name": "Kyalami Racing Circuit",
         "orientation": "v",
         "showlegend": true,
         "type": "scatter",
         "x": [
          1974,
          1977
         ],
         "xaxis": "x",
         "y": [
          3,
          3
         ],
         "yaxis": "y"
        },
        {
         "hovertemplate": "<b>%{hovertext}</b><br><br>circuit=Österreichring<br>accident_year=%{x}<br>accident_month=%{y}<extra></extra>",
         "hovertext": [
          "Mark Donohue"
         ],
         "legendgroup": "Österreichring",
         "marker": {
          "color": "#86CE00",
          "size": 16,
          "symbol": "circle"
         },
         "mode": "markers",
         "name": "Österreichring",
         "orientation": "v",
         "showlegend": true,
         "type": "scatter",
         "x": [
          1975
         ],
         "xaxis": "x",
         "y": [
          8
         ],
         "yaxis": "y"
        },
        {
         "hovertemplate": "<b>%{hovertext}</b><br><br>circuit=Hockenheimring<br>accident_year=%{x}<br>accident_month=%{y}<extra></extra>",
         "hovertext": [
          "Patrick Depailler"
         ],
         "legendgroup": "Hockenheimring",
         "marker": {
          "color": "#BC7196",
          "size": 16,
          "symbol": "circle"
         },
         "mode": "markers",
         "name": "Hockenheimring",
         "orientation": "v",
         "showlegend": true,
         "type": "scatter",
         "x": [
          1980
         ],
         "xaxis": "x",
         "y": [
          8
         ],
         "yaxis": "y"
        },
        {
         "hovertemplate": "<b>%{hovertext}</b><br><br>circuit=Circuit Zolder<br>accident_year=%{x}<br>accident_month=%{y}<extra></extra>",
         "hovertext": [
          " Gilles Villeneuve"
         ],
         "legendgroup": "Circuit Zolder",
         "marker": {
          "color": "#7E7DCD",
          "size": 16,
          "symbol": "circle"
         },
         "mode": "markers",
         "name": "Circuit Zolder",
         "orientation": "v",
         "showlegend": true,
         "type": "scatter",
         "x": [
          1982
         ],
         "xaxis": "x",
         "y": [
          5
         ],
         "yaxis": "y"
        },
        {
         "hovertemplate": "<b>%{hovertext}</b><br><br>circuit=Circuit Gilles Villeneuve<br>accident_year=%{x}<br>accident_month=%{y}<extra></extra>",
         "hovertext": [
          "Riccardo Paletti"
         ],
         "legendgroup": "Circuit Gilles Villeneuve",
         "marker": {
          "color": "#FC6955",
          "size": 16,
          "symbol": "circle"
         },
         "mode": "markers",
         "name": "Circuit Gilles Villeneuve",
         "orientation": "v",
         "showlegend": true,
         "type": "scatter",
         "x": [
          1982
         ],
         "xaxis": "x",
         "y": [
          6
         ],
         "yaxis": "y"
        },
        {
         "hovertemplate": "<b>%{hovertext}</b><br><br>circuit=Circuit Paul Ricard<br>accident_year=%{x}<br>accident_month=%{y}<extra></extra>",
         "hovertext": [
          "Elio de Angelis"
         ],
         "legendgroup": "Circuit Paul Ricard",
         "marker": {
          "color": "#E48F72",
          "size": 16,
          "symbol": "circle"
         },
         "mode": "markers",
         "name": "Circuit Paul Ricard",
         "orientation": "v",
         "showlegend": true,
         "type": "scatter",
         "x": [
          1986
         ],
         "xaxis": "x",
         "y": [
          5
         ],
         "yaxis": "y"
        },
        {
         "hovertemplate": "<b>%{hovertext}</b><br><br>circuit=Autodromo Enzo e Dino<br>accident_year=%{x}<br>accident_month=%{y}<extra></extra>",
         "hovertext": [
          "Roland Ratzenberger",
          "Ayrton Senna"
         ],
         "legendgroup": "Autodromo Enzo e Dino",
         "marker": {
          "color": "#FD3216",
          "size": 16,
          "symbol": "circle"
         },
         "mode": "markers",
         "name": "Autodromo Enzo e Dino",
         "orientation": "v",
         "showlegend": true,
         "type": "scatter",
         "x": [
          1994,
          1994
         ],
         "xaxis": "x",
         "y": [
          4,
          5
         ],
         "yaxis": "y"
        },
        {
         "hovertemplate": "<b>%{hovertext}</b><br><br>circuit=Goodwood Hillclimb<br>accident_year=%{x}<br>accident_month=%{y}<extra></extra>",
         "hovertext": [
          "John Dawson-Damer"
         ],
         "legendgroup": "Goodwood Hillclimb",
         "marker": {
          "color": "#00FE35",
          "size": 16,
          "symbol": "circle"
         },
         "mode": "markers",
         "name": "Goodwood Hillclimb",
         "orientation": "v",
         "showlegend": true,
         "type": "scatter",
         "x": [
          2000
         ],
         "xaxis": "x",
         "y": [
          6
         ],
         "yaxis": "y"
        },
        {
         "hovertemplate": "<b>%{hovertext}</b><br><br>circuit=Autodrom Most<br>accident_year=%{x}<br>accident_month=%{y}<extra></extra>",
         "hovertext": [
          "Fritz Glatz"
         ],
         "legendgroup": "Autodrom Most",
         "marker": {
          "color": "#6A76FC",
          "size": 16,
          "symbol": "circle"
         },
         "mode": "markers",
         "name": "Autodrom Most",
         "orientation": "v",
         "showlegend": true,
         "type": "scatter",
         "x": [
          2002
         ],
         "xaxis": "x",
         "y": [
          7
         ],
         "yaxis": "y"
        },
        {
         "hovertemplate": "<b>%{hovertext}</b><br><br>circuit=Suzuka International Racing Course<br>accident_year=%{x}<br>accident_month=%{y}<extra></extra>",
         "hovertext": [
          "Jules Bianchi"
         ],
         "legendgroup": "Suzuka International Racing Course",
         "marker": {
          "color": "#FED4C4",
          "size": 16,
          "symbol": "circle"
         },
         "mode": "markers",
         "name": "Suzuka International Racing Course",
         "orientation": "v",
         "showlegend": true,
         "type": "scatter",
         "x": [
          2014
         ],
         "xaxis": "x",
         "y": [
          10
         ],
         "yaxis": "y"
        }
       ],
       "layout": {
        "legend": {
         "title": {
          "text": "circuit"
         },
         "tracegroupgap": 0
        },
        "template": {
         "data": {
          "bar": [
           {
            "error_x": {
             "color": "#2a3f5f"
            },
            "error_y": {
             "color": "#2a3f5f"
            },
            "marker": {
             "line": {
              "color": "#E5ECF6",
              "width": 0.5
             },
             "pattern": {
              "fillmode": "overlay",
              "size": 10,
              "solidity": 0.2
             }
            },
            "type": "bar"
           }
          ],
          "barpolar": [
           {
            "marker": {
             "line": {
              "color": "#E5ECF6",
              "width": 0.5
             },
             "pattern": {
              "fillmode": "overlay",
              "size": 10,
              "solidity": 0.2
             }
            },
            "type": "barpolar"
           }
          ],
          "carpet": [
           {
            "aaxis": {
             "endlinecolor": "#2a3f5f",
             "gridcolor": "white",
             "linecolor": "white",
             "minorgridcolor": "white",
             "startlinecolor": "#2a3f5f"
            },
            "baxis": {
             "endlinecolor": "#2a3f5f",
             "gridcolor": "white",
             "linecolor": "white",
             "minorgridcolor": "white",
             "startlinecolor": "#2a3f5f"
            },
            "type": "carpet"
           }
          ],
          "choropleth": [
           {
            "colorbar": {
             "outlinewidth": 0,
             "ticks": ""
            },
            "type": "choropleth"
           }
          ],
          "contour": [
           {
            "colorbar": {
             "outlinewidth": 0,
             "ticks": ""
            },
            "colorscale": [
             [
              0,
              "#0d0887"
             ],
             [
              0.1111111111111111,
              "#46039f"
             ],
             [
              0.2222222222222222,
              "#7201a8"
             ],
             [
              0.3333333333333333,
              "#9c179e"
             ],
             [
              0.4444444444444444,
              "#bd3786"
             ],
             [
              0.5555555555555556,
              "#d8576b"
             ],
             [
              0.6666666666666666,
              "#ed7953"
             ],
             [
              0.7777777777777778,
              "#fb9f3a"
             ],
             [
              0.8888888888888888,
              "#fdca26"
             ],
             [
              1,
              "#f0f921"
             ]
            ],
            "type": "contour"
           }
          ],
          "contourcarpet": [
           {
            "colorbar": {
             "outlinewidth": 0,
             "ticks": ""
            },
            "type": "contourcarpet"
           }
          ],
          "heatmap": [
           {
            "colorbar": {
             "outlinewidth": 0,
             "ticks": ""
            },
            "colorscale": [
             [
              0,
              "#0d0887"
             ],
             [
              0.1111111111111111,
              "#46039f"
             ],
             [
              0.2222222222222222,
              "#7201a8"
             ],
             [
              0.3333333333333333,
              "#9c179e"
             ],
             [
              0.4444444444444444,
              "#bd3786"
             ],
             [
              0.5555555555555556,
              "#d8576b"
             ],
             [
              0.6666666666666666,
              "#ed7953"
             ],
             [
              0.7777777777777778,
              "#fb9f3a"
             ],
             [
              0.8888888888888888,
              "#fdca26"
             ],
             [
              1,
              "#f0f921"
             ]
            ],
            "type": "heatmap"
           }
          ],
          "heatmapgl": [
           {
            "colorbar": {
             "outlinewidth": 0,
             "ticks": ""
            },
            "colorscale": [
             [
              0,
              "#0d0887"
             ],
             [
              0.1111111111111111,
              "#46039f"
             ],
             [
              0.2222222222222222,
              "#7201a8"
             ],
             [
              0.3333333333333333,
              "#9c179e"
             ],
             [
              0.4444444444444444,
              "#bd3786"
             ],
             [
              0.5555555555555556,
              "#d8576b"
             ],
             [
              0.6666666666666666,
              "#ed7953"
             ],
             [
              0.7777777777777778,
              "#fb9f3a"
             ],
             [
              0.8888888888888888,
              "#fdca26"
             ],
             [
              1,
              "#f0f921"
             ]
            ],
            "type": "heatmapgl"
           }
          ],
          "histogram": [
           {
            "marker": {
             "pattern": {
              "fillmode": "overlay",
              "size": 10,
              "solidity": 0.2
             }
            },
            "type": "histogram"
           }
          ],
          "histogram2d": [
           {
            "colorbar": {
             "outlinewidth": 0,
             "ticks": ""
            },
            "colorscale": [
             [
              0,
              "#0d0887"
             ],
             [
              0.1111111111111111,
              "#46039f"
             ],
             [
              0.2222222222222222,
              "#7201a8"
             ],
             [
              0.3333333333333333,
              "#9c179e"
             ],
             [
              0.4444444444444444,
              "#bd3786"
             ],
             [
              0.5555555555555556,
              "#d8576b"
             ],
             [
              0.6666666666666666,
              "#ed7953"
             ],
             [
              0.7777777777777778,
              "#fb9f3a"
             ],
             [
              0.8888888888888888,
              "#fdca26"
             ],
             [
              1,
              "#f0f921"
             ]
            ],
            "type": "histogram2d"
           }
          ],
          "histogram2dcontour": [
           {
            "colorbar": {
             "outlinewidth": 0,
             "ticks": ""
            },
            "colorscale": [
             [
              0,
              "#0d0887"
             ],
             [
              0.1111111111111111,
              "#46039f"
             ],
             [
              0.2222222222222222,
              "#7201a8"
             ],
             [
              0.3333333333333333,
              "#9c179e"
             ],
             [
              0.4444444444444444,
              "#bd3786"
             ],
             [
              0.5555555555555556,
              "#d8576b"
             ],
             [
              0.6666666666666666,
              "#ed7953"
             ],
             [
              0.7777777777777778,
              "#fb9f3a"
             ],
             [
              0.8888888888888888,
              "#fdca26"
             ],
             [
              1,
              "#f0f921"
             ]
            ],
            "type": "histogram2dcontour"
           }
          ],
          "mesh3d": [
           {
            "colorbar": {
             "outlinewidth": 0,
             "ticks": ""
            },
            "type": "mesh3d"
           }
          ],
          "parcoords": [
           {
            "line": {
             "colorbar": {
              "outlinewidth": 0,
              "ticks": ""
             }
            },
            "type": "parcoords"
           }
          ],
          "pie": [
           {
            "automargin": true,
            "type": "pie"
           }
          ],
          "scatter": [
           {
            "marker": {
             "colorbar": {
              "outlinewidth": 0,
              "ticks": ""
             }
            },
            "type": "scatter"
           }
          ],
          "scatter3d": [
           {
            "line": {
             "colorbar": {
              "outlinewidth": 0,
              "ticks": ""
             }
            },
            "marker": {
             "colorbar": {
              "outlinewidth": 0,
              "ticks": ""
             }
            },
            "type": "scatter3d"
           }
          ],
          "scattercarpet": [
           {
            "marker": {
             "colorbar": {
              "outlinewidth": 0,
              "ticks": ""
             }
            },
            "type": "scattercarpet"
           }
          ],
          "scattergeo": [
           {
            "marker": {
             "colorbar": {
              "outlinewidth": 0,
              "ticks": ""
             }
            },
            "type": "scattergeo"
           }
          ],
          "scattergl": [
           {
            "marker": {
             "colorbar": {
              "outlinewidth": 0,
              "ticks": ""
             }
            },
            "type": "scattergl"
           }
          ],
          "scattermapbox": [
           {
            "marker": {
             "colorbar": {
              "outlinewidth": 0,
              "ticks": ""
             }
            },
            "type": "scattermapbox"
           }
          ],
          "scatterpolar": [
           {
            "marker": {
             "colorbar": {
              "outlinewidth": 0,
              "ticks": ""
             }
            },
            "type": "scatterpolar"
           }
          ],
          "scatterpolargl": [
           {
            "marker": {
             "colorbar": {
              "outlinewidth": 0,
              "ticks": ""
             }
            },
            "type": "scatterpolargl"
           }
          ],
          "scatterternary": [
           {
            "marker": {
             "colorbar": {
              "outlinewidth": 0,
              "ticks": ""
             }
            },
            "type": "scatterternary"
           }
          ],
          "surface": [
           {
            "colorbar": {
             "outlinewidth": 0,
             "ticks": ""
            },
            "colorscale": [
             [
              0,
              "#0d0887"
             ],
             [
              0.1111111111111111,
              "#46039f"
             ],
             [
              0.2222222222222222,
              "#7201a8"
             ],
             [
              0.3333333333333333,
              "#9c179e"
             ],
             [
              0.4444444444444444,
              "#bd3786"
             ],
             [
              0.5555555555555556,
              "#d8576b"
             ],
             [
              0.6666666666666666,
              "#ed7953"
             ],
             [
              0.7777777777777778,
              "#fb9f3a"
             ],
             [
              0.8888888888888888,
              "#fdca26"
             ],
             [
              1,
              "#f0f921"
             ]
            ],
            "type": "surface"
           }
          ],
          "table": [
           {
            "cells": {
             "fill": {
              "color": "#EBF0F8"
             },
             "line": {
              "color": "white"
             }
            },
            "header": {
             "fill": {
              "color": "#C8D4E3"
             },
             "line": {
              "color": "white"
             }
            },
            "type": "table"
           }
          ]
         },
         "layout": {
          "annotationdefaults": {
           "arrowcolor": "#2a3f5f",
           "arrowhead": 0,
           "arrowwidth": 1
          },
          "autotypenumbers": "strict",
          "coloraxis": {
           "colorbar": {
            "outlinewidth": 0,
            "ticks": ""
           }
          },
          "colorscale": {
           "diverging": [
            [
             0,
             "#8e0152"
            ],
            [
             0.1,
             "#c51b7d"
            ],
            [
             0.2,
             "#de77ae"
            ],
            [
             0.3,
             "#f1b6da"
            ],
            [
             0.4,
             "#fde0ef"
            ],
            [
             0.5,
             "#f7f7f7"
            ],
            [
             0.6,
             "#e6f5d0"
            ],
            [
             0.7,
             "#b8e186"
            ],
            [
             0.8,
             "#7fbc41"
            ],
            [
             0.9,
             "#4d9221"
            ],
            [
             1,
             "#276419"
            ]
           ],
           "sequential": [
            [
             0,
             "#0d0887"
            ],
            [
             0.1111111111111111,
             "#46039f"
            ],
            [
             0.2222222222222222,
             "#7201a8"
            ],
            [
             0.3333333333333333,
             "#9c179e"
            ],
            [
             0.4444444444444444,
             "#bd3786"
            ],
            [
             0.5555555555555556,
             "#d8576b"
            ],
            [
             0.6666666666666666,
             "#ed7953"
            ],
            [
             0.7777777777777778,
             "#fb9f3a"
            ],
            [
             0.8888888888888888,
             "#fdca26"
            ],
            [
             1,
             "#f0f921"
            ]
           ],
           "sequentialminus": [
            [
             0,
             "#0d0887"
            ],
            [
             0.1111111111111111,
             "#46039f"
            ],
            [
             0.2222222222222222,
             "#7201a8"
            ],
            [
             0.3333333333333333,
             "#9c179e"
            ],
            [
             0.4444444444444444,
             "#bd3786"
            ],
            [
             0.5555555555555556,
             "#d8576b"
            ],
            [
             0.6666666666666666,
             "#ed7953"
            ],
            [
             0.7777777777777778,
             "#fb9f3a"
            ],
            [
             0.8888888888888888,
             "#fdca26"
            ],
            [
             1,
             "#f0f921"
            ]
           ]
          },
          "colorway": [
           "#636efa",
           "#EF553B",
           "#00cc96",
           "#ab63fa",
           "#FFA15A",
           "#19d3f3",
           "#FF6692",
           "#B6E880",
           "#FF97FF",
           "#FECB52"
          ],
          "font": {
           "color": "#2a3f5f"
          },
          "geo": {
           "bgcolor": "white",
           "lakecolor": "white",
           "landcolor": "#E5ECF6",
           "showlakes": true,
           "showland": true,
           "subunitcolor": "white"
          },
          "hoverlabel": {
           "align": "left"
          },
          "hovermode": "closest",
          "mapbox": {
           "style": "light"
          },
          "paper_bgcolor": "white",
          "plot_bgcolor": "#E5ECF6",
          "polar": {
           "angularaxis": {
            "gridcolor": "white",
            "linecolor": "white",
            "ticks": ""
           },
           "bgcolor": "#E5ECF6",
           "radialaxis": {
            "gridcolor": "white",
            "linecolor": "white",
            "ticks": ""
           }
          },
          "scene": {
           "xaxis": {
            "backgroundcolor": "#E5ECF6",
            "gridcolor": "white",
            "gridwidth": 2,
            "linecolor": "white",
            "showbackground": true,
            "ticks": "",
            "zerolinecolor": "white"
           },
           "yaxis": {
            "backgroundcolor": "#E5ECF6",
            "gridcolor": "white",
            "gridwidth": 2,
            "linecolor": "white",
            "showbackground": true,
            "ticks": "",
            "zerolinecolor": "white"
           },
           "zaxis": {
            "backgroundcolor": "#E5ECF6",
            "gridcolor": "white",
            "gridwidth": 2,
            "linecolor": "white",
            "showbackground": true,
            "ticks": "",
            "zerolinecolor": "white"
           }
          },
          "shapedefaults": {
           "line": {
            "color": "#2a3f5f"
           }
          },
          "ternary": {
           "aaxis": {
            "gridcolor": "white",
            "linecolor": "white",
            "ticks": ""
           },
           "baxis": {
            "gridcolor": "white",
            "linecolor": "white",
            "ticks": ""
           },
           "bgcolor": "#E5ECF6",
           "caxis": {
            "gridcolor": "white",
            "linecolor": "white",
            "ticks": ""
           }
          },
          "title": {
           "x": 0.05
          },
          "xaxis": {
           "automargin": true,
           "gridcolor": "white",
           "linecolor": "white",
           "ticks": "",
           "title": {
            "standoff": 15
           },
           "zerolinecolor": "white",
           "zerolinewidth": 2
          },
          "yaxis": {
           "automargin": true,
           "gridcolor": "white",
           "linecolor": "white",
           "ticks": "",
           "title": {
            "standoff": 15
           },
           "zerolinecolor": "white",
           "zerolinewidth": 2
          }
         }
        },
        "title": {
         "text": "Fatal Crashes since 1952"
        },
        "xaxis": {
         "anchor": "y",
         "domain": [
          0,
          1
         ],
         "title": {
          "text": "accident_year"
         },
         "type": "log"
        },
        "yaxis": {
         "anchor": "x",
         "domain": [
          0,
          1
         ],
         "title": {
          "text": "accident_month"
         }
        }
       }
      }
     },
     "metadata": {},
     "output_type": "display_data"
    }
   ],
   "source": [
    "#Plot bubble chart \n",
    "\n",
    "fig = px.scatter(crash_encoded, x=\"accident_year\", y=\"accident_month\", color= \"circuit\", title=\"Fatal Crashes since 1952\", hover_name=\"driver\", log_x=True, size_max=60, color_discrete_sequence=px.colors.qualitative.Light24)\n",
    "fig.update_traces(marker=dict(size=16))\n",
    "fig.show()"
   ]
  }
 ],
 "metadata": {
  "interpreter": {
   "hash": "e16fdebb750b0ef9b35812662d2329d266493d9e4783e9c67d9e9971585863a7"
  },
  "kernelspec": {
   "display_name": "Python 3.10.2 64-bit ('geo_env': conda)",
   "language": "python",
   "name": "python3"
  },
  "language_info": {
   "codemirror_mode": {
    "name": "ipython",
    "version": 3
   },
   "file_extension": ".py",
   "mimetype": "text/x-python",
   "name": "python",
   "nbconvert_exporter": "python",
   "pygments_lexer": "ipython3",
   "version": "3.10.2"
  },
  "orig_nbformat": 4
 },
 "nbformat": 4,
 "nbformat_minor": 2
}
