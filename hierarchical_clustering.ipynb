{
 "cells": [
  {
   "cell_type": "code",
   "execution_count": 5,
   "metadata": {},
   "outputs": [],
   "source": [
    "import numpy as np\n",
    "import matplotlib.pyplot as plt\n",
    "from scipy.spatial import distance_matrix"
   ]
  },
  {
   "cell_type": "code",
   "execution_count": 6,
   "metadata": {},
   "outputs": [],
   "source": [
    "x = np.array([[1,3], [1.1,4.5], [1.5,4], [1.7,5], [3,1], [3.5,1.1], [3.4,2.1]])"
   ]
  },
  {
   "cell_type": "code",
   "execution_count": 7,
   "metadata": {},
   "outputs": [
    {
     "data": {
      "image/png": "[encoded data removed]",
      "text/plain": [
       "<Figure size 432x288 with 1 Axes>"
      ]
     },
     "metadata": {
      "needs_background": "light"
     },
     "output_type": "display_data"
    }
   ],
   "source": [
    "plt.scatter(x[:,0],x[:,1])\n",
    "for i in range(x.shape[0]):\n",
    "    plt.text(x[i,0]+0.05, x[i,1]+0.05, str(i))"
   ]
  },
  {
   "cell_type": "code",
   "execution_count": 8,
   "metadata": {},
   "outputs": [
    {
     "name": "stdout",
     "output_type": "stream",
     "text": [
      "[[0.   1.5  1.12 2.12 2.83 3.14 2.56]\n",
      " [1.5  0.   0.64 0.78 3.98 4.16 3.32]\n",
      " [1.12 0.64 0.   1.02 3.35 3.52 2.69]\n",
      " [2.12 0.78 1.02 0.   4.21 4.3  3.36]\n",
      " [2.83 3.98 3.35 4.21 0.   0.51 1.17]\n",
      " [3.14 4.16 3.52 4.3  0.51 0.   1.  ]\n",
      " [2.56 3.32 2.69 3.36 1.17 1.   0.  ]]\n"
     ]
    }
   ],
   "source": [
    "dm = distance_matrix(x,x)\n",
    "print(np.round(dm,2))"
   ]
  },
  {
   "cell_type": "code",
   "execution_count": 9,
   "metadata": {},
   "outputs": [
    {
     "data": {
      "text/plain": [
       "{'icoord': [[15.0, 15.0, 25.0, 25.0],\n",
       "  [5.0, 5.0, 20.0, 20.0],\n",
       "  [55.0, 55.0, 65.0, 65.0],\n",
       "  [45.0, 45.0, 60.0, 60.0],\n",
       "  [35.0, 35.0, 52.5, 52.5],\n",
       "  [12.5, 12.5, 43.75, 43.75]],\n",
       " 'dcoord': [[0.0, 0.5099019513592785, 0.5099019513592785, 0.0],\n",
       "  [0.0, 1.004987562112089, 1.004987562112089, 0.5099019513592785],\n",
       "  [0.0, 0.6403124237432848, 0.6403124237432848, 0.0],\n",
       "  [0.0, 0.7810249675906653, 0.7810249675906653, 0.6403124237432848],\n",
       "  [0.0, 1.118033988749895, 1.118033988749895, 0.7810249675906653],\n",
       "  [1.004987562112089,\n",
       "   2.563201123595259,\n",
       "   2.563201123595259,\n",
       "   1.118033988749895]],\n",
       " 'ivl': [6, 4, 5, 0, 3, 1, 2],\n",
       " 'leaves': [6, 4, 5, 0, 3, 1, 2],\n",
       " 'color_list': ['C1', 'C1', 'C2', 'C2', 'C2', 'C0'],\n",
       " 'leaves_color_list': ['C1', 'C1', 'C1', 'C2', 'C2', 'C2', 'C2']}"
      ]
     },
     "execution_count": 9,
     "metadata": {},
     "output_type": "execute_result"
    },
    {
     "data": {
      "image/png": "[encoded data removed]",
      "text/plain": [
       "<Figure size 432x288 with 1 Axes>"
      ]
     },
     "metadata": {
      "needs_background": "light"
     },
     "output_type": "display_data"
    }
   ],
   "source": [
    "from scipy.cluster.hierarchy import dendrogram, linkage\n",
    "\n",
    "plt.figure()\n",
    "dendrogram(linkage(x,'single'), labels=range(0,7))"
   ]
  }
 ],
 "metadata": {
  "interpreter": {
   "hash": "74a127822aa27b16367196349e1567db76b1f81d7caab894a1c88331655f46f0"
  },
  "kernelspec": {
   "display_name": "Python 3.9.7 64-bit ('base': conda)",
   "language": "python",
   "name": "python3"
  },
  "language_info": {
   "codemirror_mode": {
    "name": "ipython",
    "version": 3
   },
   "file_extension": ".py",
   "mimetype": "text/x-python",
   "name": "python",
   "nbconvert_exporter": "python",
   "pygments_lexer": "ipython3",
   "version": "3.9.7"
  },
  "orig_nbformat": 4
 },
 "nbformat": 4,
 "nbformat_minor": 2
}
