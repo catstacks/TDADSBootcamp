{
 "cells": [
  {
   "cell_type": "code",
   "execution_count": 1,
   "metadata": {},
   "outputs": [],
   "source": [
    "import numpy as np\n",
    "import pandas as pd\n",
    "import matplotlib.pyplot as plt"
   ]
  },
  {
   "cell_type": "code",
   "execution_count": 2,
   "metadata": {},
   "outputs": [],
   "source": [
    "dataRaw = np.loadtxt(\"iris-head-num.txt\", delimiter=',', dtype='object')"
   ]
  },
  {
   "cell_type": "code",
   "execution_count": 3,
   "metadata": {},
   "outputs": [],
   "source": [
    "header = dataRaw[0,:]"
   ]
  },
  {
   "cell_type": "code",
   "execution_count": 4,
   "metadata": {},
   "outputs": [],
   "source": [
    "data = dataRaw[1:,:4]\n",
    "data = np.vstack(data.astype(np.float32))"
   ]
  },
  {
   "cell_type": "code",
   "execution_count": 5,
   "metadata": {},
   "outputs": [],
   "source": [
    "labels = np.vstack(dataRaw[1:,4].astype(np.int32))"
   ]
  },
  {
   "cell_type": "code",
   "execution_count": 6,
   "metadata": {},
   "outputs": [],
   "source": [
    "labelsUn, labelsCounts = np.unique(labels, return_counts=True)"
   ]
  },
  {
   "cell_type": "code",
   "execution_count": 7,
   "metadata": {},
   "outputs": [],
   "source": [
    "nrows,ncols = np.shape(data)\n",
    "nclasses = len(labelsUn)  "
   ]
  },
  {
   "cell_type": "code",
   "execution_count": 8,
   "metadata": {},
   "outputs": [],
   "source": [
    "average = np.zeros((nclasses,ncols))\n",
    "maxi = np.zeros((nclasses,ncols))\n",
    "mini = np.zeros((nclasses,ncols))\n",
    "sd = np.zeros((nclasses,ncols))\n",
    "for i in labelsUn:\n",
    "    indexes = np.reshape(labels==i,nrows)\n",
    "    average[i-1,:] = np.mean(data[indexes,:],axis=0)\n",
    "    maxi[i-1,:] = np.max(data[indexes,:],axis=0)\n",
    "    mini[i-1,:] = np.min(data[indexes,:],axis=0)\n",
    "    sd[i-1,:] = np.std(data[indexes,:],axis=0)"
   ]
  },
  {
   "cell_type": "code",
   "execution_count": 9,
   "metadata": {},
   "outputs": [],
   "source": [
    "outliers2sd = np.zeros((nclasses,ncols))\n",
    "for i in labelsUn:\n",
    "    indexes = np.reshape(labels==i,nrows)\n",
    "    classData = data[indexes,:]\n",
    "    for j in range(ncols):\n",
    "        thresholdLow = average[i-1,j]-2*sd[i-1,j]\n",
    "        thresholdHigh = average[i-1,j]+2*sd[i-1,j]\n",
    "        remain = [x for x in classData[:,j] if(x > thresholdLow)]\n",
    "        remain = [x for x in classData[:,j] if(x < thresholdHigh)]\n",
    "        outliers2sd[i-1,j] = 100 * (labelsCounts[i-1] - len(remain)) / labelsCounts[i-1]"
   ]
  },
  {
   "cell_type": "code",
   "execution_count": 10,
   "metadata": {},
   "outputs": [],
   "source": [
    "decimals = 2\n",
    "fmt = \"%.2f\"\n",
    "formatf = \".csv\"\n",
    "species = np.array(['setosa','versicolor','virginica'])\n",
    "for i in range(len(labelsUn)):\n",
    "    temp = np.vstack( [average[i,:], mini[i,:], maxi[i,:], sd[i,:], outliers2sd[i,:]] ).T\n",
    "    temp = np.around(temp,decimals)\n",
    "    temp_str = np.char.mod(fmt, temp)\n",
    "    rows = np.array(header[:-1].astype(\"U\"))[:, np.newaxis]\n",
    "    rowsf = np.hstack((rows, temp_str))\n",
    "    headerf = [species[i],'mean','min','max','std','outliers2sd%']\n",
    "    np.savetxt(species[i]+formatf, np.vstack((headerf, rowsf)), delimiter=',', fmt='%s')"
   ]
  },
  {
   "cell_type": "code",
   "execution_count": null,
   "metadata": {},
   "outputs": [],
   "source": []
  }
 ],
 "metadata": {
  "interpreter": {
   "hash": "9eace4e85f99f0f8a60fbc17679f536d836fe1e8be34c60de5b4855a74633af4"
  },
  "kernelspec": {
   "display_name": "Python 3 (ipykernel)",
   "language": "python",
   "name": "python3"
  },
  "language_info": {
   "codemirror_mode": {
    "name": "ipython",
    "version": 3
   },
   "file_extension": ".py",
   "mimetype": "text/x-python",
   "name": "python",
   "nbconvert_exporter": "python",
   "pygments_lexer": "ipython3",
   "version": "3.9.7"
  }
 },
 "nbformat": 4,
 "nbformat_minor": 2
}
